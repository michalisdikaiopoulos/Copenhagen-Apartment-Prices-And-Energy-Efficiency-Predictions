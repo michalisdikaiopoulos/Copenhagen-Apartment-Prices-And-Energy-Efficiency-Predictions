{
 "cells": [
  {
   "cell_type": "code",
   "id": "initial_id",
   "metadata": {
    "collapsed": true,
    "ExecuteTime": {
     "end_time": "2024-11-11T13:35:48.120354Z",
     "start_time": "2024-11-11T13:35:46.715710Z"
    }
   },
   "source": [
    "from sklearn.linear_model import LogisticRegression\n",
    "from sklearn.preprocessing import StandardScaler\n",
    "from sklearn.model_selection import train_test_split, KFold, GridSearchCV, cross_val_score\n",
    "from sklearn.neural_network import MLPClassifier\n",
    "from sklearn.metrics import accuracy_score, confusion_matrix, make_scorer\n",
    "import pandas as pd\n",
    "import numpy as np\n",
    "from scipy.stats import t"
   ],
   "outputs": [],
   "execution_count": 3
  },
  {
   "metadata": {
    "ExecuteTime": {
     "end_time": "2024-11-11T13:35:48.153264Z",
     "start_time": "2024-11-11T13:35:48.127416Z"
    }
   },
   "cell_type": "code",
   "source": [
    "# Fetch data\n",
    "df = pd.read_csv(\"preprocessed_data.csv\")\n",
    "df.head()"
   ],
   "id": "d6fea1e42d60f965",
   "outputs": [
    {
     "data": {
      "text/plain": [
       "   monthly_rent  monthly_aconto housing_type  size_sqm  rooms  floor  \\\n",
       "0       12850.0          1350.0    Lejlighed      86.0      3      3   \n",
       "1       15700.0          1224.0    Lejlighed     113.0      4      4   \n",
       "2        5000.0          1000.0      Værelse       9.0      1      0   \n",
       "3        3500.0           500.0      Værelse      14.0      1      0   \n",
       "4        4650.0             0.0      Værelse       7.0      1      4   \n",
       "\n",
       "  furnished roommate_friendly pets_allowed elevator  ...         dryer  \\\n",
       "0        Ja               Nej          Nej      Nej  ...  Ikke angivet   \n",
       "1       Nej               Nej           Ja       Ja  ...            Ja   \n",
       "2        Ja                Ja          Nej      Nej  ...            Ja   \n",
       "3        Ja                Ja          Nej      Nej  ...            Ja   \n",
       "4        Ja               Nej          Nej       Ja  ...  Ikke angivet   \n",
       "\n",
       "   deposit prepaid_rent energy_mark             area availability_in  \\\n",
       "0  38550.0          0.0           D  Frederiksberg C        <1 month   \n",
       "1  47100.0      15700.0         A15         Bagsværd      1-3 months   \n",
       "2  15000.0          0.0         A20          Kastrup      1-3 months   \n",
       "3   4000.0       3500.0           C      København S      1-3 months   \n",
       "4   9300.0          0.0        none      København V        <1 month   \n",
       "\n",
       "  days_on_website total_monthly_rent  student_affordable  months_on_website  \n",
       "0            10.0            14200.0               False           <1 month  \n",
       "1            10.0            16924.0               False           <1 month  \n",
       "2            10.0             6000.0                True           <1 month  \n",
       "3            10.0             4000.0                True           <1 month  \n",
       "4            10.0             4650.0                True           <1 month  \n",
       "\n",
       "[5 rows x 27 columns]"
      ],
      "text/html": [
       "<div>\n",
       "<style scoped>\n",
       "    .dataframe tbody tr th:only-of-type {\n",
       "        vertical-align: middle;\n",
       "    }\n",
       "\n",
       "    .dataframe tbody tr th {\n",
       "        vertical-align: top;\n",
       "    }\n",
       "\n",
       "    .dataframe thead th {\n",
       "        text-align: right;\n",
       "    }\n",
       "</style>\n",
       "<table border=\"1\" class=\"dataframe\">\n",
       "  <thead>\n",
       "    <tr style=\"text-align: right;\">\n",
       "      <th></th>\n",
       "      <th>monthly_rent</th>\n",
       "      <th>monthly_aconto</th>\n",
       "      <th>housing_type</th>\n",
       "      <th>size_sqm</th>\n",
       "      <th>rooms</th>\n",
       "      <th>floor</th>\n",
       "      <th>furnished</th>\n",
       "      <th>roommate_friendly</th>\n",
       "      <th>pets_allowed</th>\n",
       "      <th>elevator</th>\n",
       "      <th>...</th>\n",
       "      <th>dryer</th>\n",
       "      <th>deposit</th>\n",
       "      <th>prepaid_rent</th>\n",
       "      <th>energy_mark</th>\n",
       "      <th>area</th>\n",
       "      <th>availability_in</th>\n",
       "      <th>days_on_website</th>\n",
       "      <th>total_monthly_rent</th>\n",
       "      <th>student_affordable</th>\n",
       "      <th>months_on_website</th>\n",
       "    </tr>\n",
       "  </thead>\n",
       "  <tbody>\n",
       "    <tr>\n",
       "      <th>0</th>\n",
       "      <td>12850.0</td>\n",
       "      <td>1350.0</td>\n",
       "      <td>Lejlighed</td>\n",
       "      <td>86.0</td>\n",
       "      <td>3</td>\n",
       "      <td>3</td>\n",
       "      <td>Ja</td>\n",
       "      <td>Nej</td>\n",
       "      <td>Nej</td>\n",
       "      <td>Nej</td>\n",
       "      <td>...</td>\n",
       "      <td>Ikke angivet</td>\n",
       "      <td>38550.0</td>\n",
       "      <td>0.0</td>\n",
       "      <td>D</td>\n",
       "      <td>Frederiksberg C</td>\n",
       "      <td>&lt;1 month</td>\n",
       "      <td>10.0</td>\n",
       "      <td>14200.0</td>\n",
       "      <td>False</td>\n",
       "      <td>&lt;1 month</td>\n",
       "    </tr>\n",
       "    <tr>\n",
       "      <th>1</th>\n",
       "      <td>15700.0</td>\n",
       "      <td>1224.0</td>\n",
       "      <td>Lejlighed</td>\n",
       "      <td>113.0</td>\n",
       "      <td>4</td>\n",
       "      <td>4</td>\n",
       "      <td>Nej</td>\n",
       "      <td>Nej</td>\n",
       "      <td>Ja</td>\n",
       "      <td>Ja</td>\n",
       "      <td>...</td>\n",
       "      <td>Ja</td>\n",
       "      <td>47100.0</td>\n",
       "      <td>15700.0</td>\n",
       "      <td>A15</td>\n",
       "      <td>Bagsværd</td>\n",
       "      <td>1-3 months</td>\n",
       "      <td>10.0</td>\n",
       "      <td>16924.0</td>\n",
       "      <td>False</td>\n",
       "      <td>&lt;1 month</td>\n",
       "    </tr>\n",
       "    <tr>\n",
       "      <th>2</th>\n",
       "      <td>5000.0</td>\n",
       "      <td>1000.0</td>\n",
       "      <td>Værelse</td>\n",
       "      <td>9.0</td>\n",
       "      <td>1</td>\n",
       "      <td>0</td>\n",
       "      <td>Ja</td>\n",
       "      <td>Ja</td>\n",
       "      <td>Nej</td>\n",
       "      <td>Nej</td>\n",
       "      <td>...</td>\n",
       "      <td>Ja</td>\n",
       "      <td>15000.0</td>\n",
       "      <td>0.0</td>\n",
       "      <td>A20</td>\n",
       "      <td>Kastrup</td>\n",
       "      <td>1-3 months</td>\n",
       "      <td>10.0</td>\n",
       "      <td>6000.0</td>\n",
       "      <td>True</td>\n",
       "      <td>&lt;1 month</td>\n",
       "    </tr>\n",
       "    <tr>\n",
       "      <th>3</th>\n",
       "      <td>3500.0</td>\n",
       "      <td>500.0</td>\n",
       "      <td>Værelse</td>\n",
       "      <td>14.0</td>\n",
       "      <td>1</td>\n",
       "      <td>0</td>\n",
       "      <td>Ja</td>\n",
       "      <td>Ja</td>\n",
       "      <td>Nej</td>\n",
       "      <td>Nej</td>\n",
       "      <td>...</td>\n",
       "      <td>Ja</td>\n",
       "      <td>4000.0</td>\n",
       "      <td>3500.0</td>\n",
       "      <td>C</td>\n",
       "      <td>København S</td>\n",
       "      <td>1-3 months</td>\n",
       "      <td>10.0</td>\n",
       "      <td>4000.0</td>\n",
       "      <td>True</td>\n",
       "      <td>&lt;1 month</td>\n",
       "    </tr>\n",
       "    <tr>\n",
       "      <th>4</th>\n",
       "      <td>4650.0</td>\n",
       "      <td>0.0</td>\n",
       "      <td>Værelse</td>\n",
       "      <td>7.0</td>\n",
       "      <td>1</td>\n",
       "      <td>4</td>\n",
       "      <td>Ja</td>\n",
       "      <td>Nej</td>\n",
       "      <td>Nej</td>\n",
       "      <td>Ja</td>\n",
       "      <td>...</td>\n",
       "      <td>Ikke angivet</td>\n",
       "      <td>9300.0</td>\n",
       "      <td>0.0</td>\n",
       "      <td>none</td>\n",
       "      <td>København V</td>\n",
       "      <td>&lt;1 month</td>\n",
       "      <td>10.0</td>\n",
       "      <td>4650.0</td>\n",
       "      <td>True</td>\n",
       "      <td>&lt;1 month</td>\n",
       "    </tr>\n",
       "  </tbody>\n",
       "</table>\n",
       "<p>5 rows × 27 columns</p>\n",
       "</div>"
      ]
     },
     "execution_count": 4,
     "metadata": {},
     "output_type": "execute_result"
    }
   ],
   "execution_count": 4
  },
  {
   "metadata": {
    "ExecuteTime": {
     "end_time": "2024-11-11T13:35:48.174939Z",
     "start_time": "2024-11-11T13:35:48.170598Z"
    }
   },
   "cell_type": "code",
   "source": [
    "# Splitting the data into features and target for classification\n",
    "X = df.drop(columns=['student_affordable']).copy()\n",
    "y = df['student_affordable'].copy()"
   ],
   "id": "497cf83150f2c88a",
   "outputs": [],
   "execution_count": 5
  },
  {
   "metadata": {
    "ExecuteTime": {
     "end_time": "2024-11-11T13:35:48.198399Z",
     "start_time": "2024-11-11T13:35:48.194400Z"
    }
   },
   "cell_type": "code",
   "source": "y = y.apply(lambda x: 'Affordable' if x else 'Non affordable')",
   "id": "ad96eac4cb1d578",
   "outputs": [],
   "execution_count": 6
  },
  {
   "metadata": {
    "ExecuteTime": {
     "end_time": "2024-11-11T13:35:48.238693Z",
     "start_time": "2024-11-11T13:35:48.233143Z"
    }
   },
   "cell_type": "code",
   "source": [
    "# Remove columns\n",
    "cols_to_remove = ['monthly_rent', 'total_monthly_rent', 'monthly_aconto', 'prepaid_rent', 'deposit']\n",
    "X.drop(cols_to_remove, axis=1, inplace=True, errors='ignore')\n",
    "print(df.select_dtypes(include=['float64']).columns.to_list())\n",
    "print(X.columns.to_list())"
   ],
   "id": "e1e531cb077055e4",
   "outputs": [
    {
     "name": "stdout",
     "output_type": "stream",
     "text": [
      "['monthly_rent', 'monthly_aconto', 'size_sqm', 'deposit', 'prepaid_rent', 'days_on_website', 'total_monthly_rent']\n",
      "['housing_type', 'size_sqm', 'rooms', 'floor', 'furnished', 'roommate_friendly', 'pets_allowed', 'elevator', 'senior_friendly', 'students_only', 'balcony_terrace', 'parking', 'dishwasher', 'washing_machine', 'charging_station', 'dryer', 'energy_mark', 'area', 'availability_in', 'days_on_website', 'months_on_website']\n"
     ]
    }
   ],
   "execution_count": 7
  },
  {
   "metadata": {
    "ExecuteTime": {
     "end_time": "2024-11-11T13:35:48.289664Z",
     "start_time": "2024-11-11T13:35:48.280142Z"
    }
   },
   "cell_type": "code",
   "source": [
    "# Transformation of predictors\n",
    "\n",
    "# Standardization\n",
    "cols_to_standardize = df.select_dtypes(include=['float64']).columns.to_list()\n",
    "cols_to_standardize = [col for col in cols_to_standardize if col not in cols_to_remove]\n",
    "scaler = StandardScaler()\n",
    "X[cols_to_standardize] = scaler.fit_transform(X[cols_to_standardize])\n",
    "\n",
    "# Make the categorical variables into dummies\n",
    "X = pd.get_dummies(X)"
   ],
   "id": "f327042e4a968cd3",
   "outputs": [],
   "execution_count": 8
  },
  {
   "metadata": {
    "ExecuteTime": {
     "end_time": "2024-11-11T13:35:48.325194Z",
     "start_time": "2024-11-11T13:35:48.319055Z"
    }
   },
   "cell_type": "code",
   "source": [
    "# Split to train and validation\n",
    "X_train, X_test, y_train, y_test = train_test_split(X, y, test_size=0.20, shuffle=True, stratify=y)"
   ],
   "id": "272c14ee9833793a",
   "outputs": [],
   "execution_count": 9
  },
  {
   "metadata": {
    "ExecuteTime": {
     "end_time": "2024-11-11T13:35:48.356319Z",
     "start_time": "2024-11-11T13:35:48.351875Z"
    }
   },
   "cell_type": "code",
   "source": "print(y.value_counts())",
   "id": "762daade568a999a",
   "outputs": [
    {
     "name": "stdout",
     "output_type": "stream",
     "text": [
      "student_affordable\n",
      "Non affordable    1596\n",
      "Affordable         225\n",
      "Name: count, dtype: int64\n"
     ]
    }
   ],
   "execution_count": 10
  },
  {
   "metadata": {
    "ExecuteTime": {
     "end_time": "2024-11-11T13:35:48.504978Z",
     "start_time": "2024-11-11T13:35:48.394895Z"
    }
   },
   "cell_type": "code",
   "source": [
    "# Logistic regression with l2 regularization\n",
    "\n",
    "lmbda = 0.01\n",
    "lr_model = LogisticRegression(penalty='l2', C=(1/lmbda), max_iter=1000).fit(X_train, y_train)\n",
    "y_pred = lr_model.predict(X_test)\n",
    "lr_accuracy = accuracy_score(y_test,y_pred)\n",
    "print(\"Logistic regression accuracy: {}\".format(lr_accuracy))\n",
    "\n",
    "print(confusion_matrix(y_test, y_pred))"
   ],
   "id": "8636273ab42ad92e",
   "outputs": [
    {
     "name": "stdout",
     "output_type": "stream",
     "text": [
      "Logistic regression accuracy: 0.9232876712328767\n",
      "[[ 29  16]\n",
      " [ 12 308]]\n"
     ]
    }
   ],
   "execution_count": 11
  },
  {
   "metadata": {
    "ExecuteTime": {
     "end_time": "2024-11-11T13:35:48.575618Z",
     "start_time": "2024-11-11T13:35:48.567453Z"
    }
   },
   "cell_type": "code",
   "source": [
    "# Baseline model\n",
    "class BaselineModel:\n",
    "    def __init__(self, prediction_value = None):\n",
    "        self.prediction_value = prediction_value\n",
    "        \n",
    "    def fit(self, X, y):\n",
    "        self.prediction_value = y.value_counts().idxmax()\n",
    "        return self\n",
    "    \n",
    "    def predict(self, X):\n",
    "        return pd.Series(self.prediction_value, index=X.index)\n",
    "    \n",
    "    def get_params(self, deep=True):\n",
    "        # Return parameters as a dictionary\n",
    "        return {\"prediction_value\": self.prediction_value}\n",
    "    \n",
    "    def set_params(self, **params):\n",
    "        # Set parameters from a dictionary\n",
    "        for key, value in params.items():\n",
    "            setattr(self, key, value)\n",
    "        return self\n",
    "    \n",
    "baseline_model = BaselineModel().fit(X_train, y_train)\n",
    "y_pred = baseline_model.predict(X_test)\n",
    "baseline_accuracy = accuracy_score(y_test,y_pred)\n",
    "print(\"Baseline accuracy: {}\".format(baseline_accuracy))"
   ],
   "id": "e937d0d6dc76b291",
   "outputs": [
    {
     "name": "stdout",
     "output_type": "stream",
     "text": [
      "Baseline accuracy: 0.8767123287671232\n"
     ]
    }
   ],
   "execution_count": 12
  },
  {
   "metadata": {
    "ExecuteTime": {
     "end_time": "2024-11-11T13:35:50.839324Z",
     "start_time": "2024-11-11T13:35:48.608323Z"
    }
   },
   "cell_type": "code",
   "source": [
    "# Multi-layer perceptron\n",
    "lmbda = 64\n",
    "mlp_model = MLPClassifier(hidden_layer_sizes=(lmbda,), max_iter=10000).fit(X_train, y_train)\n",
    "y_pred = mlp_model.predict(X_test)\n",
    "mlp_accuracy = accuracy_score(y_test,y_pred)\n",
    "print(\"Multi-layer perceptron accuracy: {}\".format(mlp_accuracy))\n",
    "\n",
    "print(confusion_matrix(y_test, y_pred))"
   ],
   "id": "d95f0f87b15b0fd3",
   "outputs": [
    {
     "name": "stdout",
     "output_type": "stream",
     "text": [
      "Multi-layer perceptron accuracy: 0.9287671232876712\n",
      "[[ 30  15]\n",
      " [ 11 309]]\n"
     ]
    }
   ],
   "execution_count": 13
  },
  {
   "metadata": {
    "ExecuteTime": {
     "end_time": "2024-11-11T13:35:50.888413Z",
     "start_time": "2024-11-11T13:35:50.882836Z"
    }
   },
   "cell_type": "code",
   "source": [
    "# Two level cross validation (setup)\n",
    "n = 10\n",
    "outer_fold = KFold(n_splits=n, shuffle=True)\n",
    "inner_fold = KFold(n_splits=n, shuffle=True)\n",
    "\n",
    "classifiers = [\n",
    "    LogisticRegression(penalty='l2', max_iter=1000),\n",
    "    BaselineModel(),\n",
    "    MLPClassifier(max_iter=500, early_stopping=True, validation_fraction=0.1, n_iter_no_change=10)\n",
    "]\n",
    "\n",
    "params = {\n",
    "    classifiers[0].__class__.__name__: {\"C\": [0.1, 1, 10, 100, 1000, 10000]},\n",
    "    classifiers[1].__class__.__name__: {},\n",
    "    classifiers[2].__class__.__name__: {\"hidden_layer_sizes\": [(8,), (16,), (32,), (64,)]}\n",
    "}\n",
    "\n",
    "def calculate_error(y_true: pd.Series, y_pred: pd.Series):\n",
    "    # Calculate the number of misclassified samples\n",
    "    n_misclassified = np.sum(y_true != y_pred)\n",
    "    # Calculate the proportion of misclassified samples\n",
    "    error_rate = n_misclassified / len(y_true)\n",
    "    return error_rate\n",
    "\n",
    "error_scorer = make_scorer(calculate_error, greater_is_better=False)\n",
    "\n",
    "predictions = {key:[] for key in params.keys()}\n",
    "test_errors = {key:[] for key in params.keys()}\n",
    "targets = []"
   ],
   "id": "811726480680b7a5",
   "outputs": [],
   "execution_count": 14
  },
  {
   "metadata": {
    "ExecuteTime": {
     "end_time": "2024-11-11T13:36:48.598802Z",
     "start_time": "2024-11-11T13:35:50.936026Z"
    }
   },
   "cell_type": "code",
   "source": [
    "for train_idx, test_idx in outer_fold.split(X):\n",
    "    X_train, X_test = X.iloc[train_idx], X.iloc[test_idx]\n",
    "    y_train, y_test = y.iloc[train_idx], y.iloc[test_idx]\n",
    "    \n",
    "    targets.append(y_test)\n",
    "\n",
    "    for classifier in classifiers:\n",
    "        # Nested CV with parameter optimization\n",
    "        clf = GridSearchCV(\n",
    "            estimator=classifier, \n",
    "            param_grid=params[classifier.__class__.__name__], \n",
    "            cv=inner_fold, \n",
    "            scoring=error_scorer\n",
    "        )\n",
    "        \n",
    "        clf.fit(X_train, y_train)\n",
    "        best_estimator = clf.best_estimator_\n",
    "        y_pred = best_estimator.predict(X_test)\n",
    "        error = calculate_error(y_test, y_pred)\n",
    "        \n",
    "        predictions[classifier.__class__.__name__].append(y_pred)\n",
    "        test_errors[classifier.__class__.__name__].append((clf.best_params_, error))\n",
    "\n",
    "print(test_errors)"
   ],
   "id": "52133deee04b37b9",
   "outputs": [
    {
     "name": "stdout",
     "output_type": "stream",
     "text": [
      "{'LogisticRegression': [({'C': 1}, 0.060109289617486336), ({'C': 1}, 0.04945054945054945), ({'C': 1}, 0.07142857142857142), ({'C': 1}, 0.054945054945054944), ({'C': 1}, 0.04395604395604396), ({'C': 1}, 0.04945054945054945), ({'C': 0.1}, 0.038461538461538464), ({'C': 0.1}, 0.04945054945054945), ({'C': 1}, 0.054945054945054944), ({'C': 1}, 0.06043956043956044)], 'BaselineModel': [({}, 0.16939890710382513), ({}, 0.12087912087912088), ({}, 0.19230769230769232), ({}, 0.10989010989010989), ({}, 0.07142857142857142), ({}, 0.13736263736263737), ({}, 0.07142857142857142), ({}, 0.12637362637362637), ({}, 0.13186813186813187), ({}, 0.1043956043956044)], 'MLPClassifier': [({'hidden_layer_sizes': (32,)}, 0.08743169398907104), ({'hidden_layer_sizes': (64,)}, 0.06043956043956044), ({'hidden_layer_sizes': (64,)}, 0.07142857142857142), ({'hidden_layer_sizes': (64,)}, 0.054945054945054944), ({'hidden_layer_sizes': (64,)}, 0.04395604395604396), ({'hidden_layer_sizes': (64,)}, 0.06593406593406594), ({'hidden_layer_sizes': (16,)}, 0.03296703296703297), ({'hidden_layer_sizes': (64,)}, 0.04395604395604396), ({'hidden_layer_sizes': (32,)}, 0.08241758241758242), ({'hidden_layer_sizes': (64,)}, 0.04945054945054945)]}\n"
     ]
    }
   ],
   "execution_count": 15
  },
  {
   "metadata": {
    "ExecuteTime": {
     "end_time": "2024-11-11T13:36:48.660760Z",
     "start_time": "2024-11-11T13:36:48.637674Z"
    }
   },
   "cell_type": "code",
   "source": [
    "# Visualise test_errors in dataframe\n",
    "\n",
    "errors_df = pd.DataFrame(columns=[\"Outer fold\", \"MLP_hidden_units\", \"MLP_test_error\", \"LR_lambda\", \"LR_test_error\", \"Baseline_test_error\"])\n",
    "errors_df[\"Outer fold\"] = range(10)\n",
    "errors_df[[\"MLP_hidden_units\", 'MLP_test_error']] = \\\n",
    "    [(item[0]['hidden_layer_sizes'][0], item[1]) for item in test_errors['MLPClassifier']]\n",
    "errors_df[[\"LR_lambda\", 'LR_test_error']] = \\\n",
    "    [(1 / item[0]['C'], item[1]) for item in test_errors['LogisticRegression']]\n",
    "errors_df['Baseline_test_error'] = \\\n",
    "    [item[1] for item in test_errors['BaselineModel']]\n",
    "\n",
    "errors_df.astype({'MLP_hidden_units': 'int32'})"
   ],
   "id": "1787c27593b3516c",
   "outputs": [
    {
     "data": {
      "text/plain": [
       "   Outer fold  MLP_hidden_units  MLP_test_error  LR_lambda  LR_test_error  \\\n",
       "0           0                32        0.087432        1.0       0.060109   \n",
       "1           1                64        0.060440        1.0       0.049451   \n",
       "2           2                64        0.071429        1.0       0.071429   \n",
       "3           3                64        0.054945        1.0       0.054945   \n",
       "4           4                64        0.043956        1.0       0.043956   \n",
       "5           5                64        0.065934        1.0       0.049451   \n",
       "6           6                16        0.032967       10.0       0.038462   \n",
       "7           7                64        0.043956       10.0       0.049451   \n",
       "8           8                32        0.082418        1.0       0.054945   \n",
       "9           9                64        0.049451        1.0       0.060440   \n",
       "\n",
       "   Baseline_test_error  \n",
       "0             0.169399  \n",
       "1             0.120879  \n",
       "2             0.192308  \n",
       "3             0.109890  \n",
       "4             0.071429  \n",
       "5             0.137363  \n",
       "6             0.071429  \n",
       "7             0.126374  \n",
       "8             0.131868  \n",
       "9             0.104396  "
      ],
      "text/html": [
       "<div>\n",
       "<style scoped>\n",
       "    .dataframe tbody tr th:only-of-type {\n",
       "        vertical-align: middle;\n",
       "    }\n",
       "\n",
       "    .dataframe tbody tr th {\n",
       "        vertical-align: top;\n",
       "    }\n",
       "\n",
       "    .dataframe thead th {\n",
       "        text-align: right;\n",
       "    }\n",
       "</style>\n",
       "<table border=\"1\" class=\"dataframe\">\n",
       "  <thead>\n",
       "    <tr style=\"text-align: right;\">\n",
       "      <th></th>\n",
       "      <th>Outer fold</th>\n",
       "      <th>MLP_hidden_units</th>\n",
       "      <th>MLP_test_error</th>\n",
       "      <th>LR_lambda</th>\n",
       "      <th>LR_test_error</th>\n",
       "      <th>Baseline_test_error</th>\n",
       "    </tr>\n",
       "  </thead>\n",
       "  <tbody>\n",
       "    <tr>\n",
       "      <th>0</th>\n",
       "      <td>0</td>\n",
       "      <td>32</td>\n",
       "      <td>0.087432</td>\n",
       "      <td>1.0</td>\n",
       "      <td>0.060109</td>\n",
       "      <td>0.169399</td>\n",
       "    </tr>\n",
       "    <tr>\n",
       "      <th>1</th>\n",
       "      <td>1</td>\n",
       "      <td>64</td>\n",
       "      <td>0.060440</td>\n",
       "      <td>1.0</td>\n",
       "      <td>0.049451</td>\n",
       "      <td>0.120879</td>\n",
       "    </tr>\n",
       "    <tr>\n",
       "      <th>2</th>\n",
       "      <td>2</td>\n",
       "      <td>64</td>\n",
       "      <td>0.071429</td>\n",
       "      <td>1.0</td>\n",
       "      <td>0.071429</td>\n",
       "      <td>0.192308</td>\n",
       "    </tr>\n",
       "    <tr>\n",
       "      <th>3</th>\n",
       "      <td>3</td>\n",
       "      <td>64</td>\n",
       "      <td>0.054945</td>\n",
       "      <td>1.0</td>\n",
       "      <td>0.054945</td>\n",
       "      <td>0.109890</td>\n",
       "    </tr>\n",
       "    <tr>\n",
       "      <th>4</th>\n",
       "      <td>4</td>\n",
       "      <td>64</td>\n",
       "      <td>0.043956</td>\n",
       "      <td>1.0</td>\n",
       "      <td>0.043956</td>\n",
       "      <td>0.071429</td>\n",
       "    </tr>\n",
       "    <tr>\n",
       "      <th>5</th>\n",
       "      <td>5</td>\n",
       "      <td>64</td>\n",
       "      <td>0.065934</td>\n",
       "      <td>1.0</td>\n",
       "      <td>0.049451</td>\n",
       "      <td>0.137363</td>\n",
       "    </tr>\n",
       "    <tr>\n",
       "      <th>6</th>\n",
       "      <td>6</td>\n",
       "      <td>16</td>\n",
       "      <td>0.032967</td>\n",
       "      <td>10.0</td>\n",
       "      <td>0.038462</td>\n",
       "      <td>0.071429</td>\n",
       "    </tr>\n",
       "    <tr>\n",
       "      <th>7</th>\n",
       "      <td>7</td>\n",
       "      <td>64</td>\n",
       "      <td>0.043956</td>\n",
       "      <td>10.0</td>\n",
       "      <td>0.049451</td>\n",
       "      <td>0.126374</td>\n",
       "    </tr>\n",
       "    <tr>\n",
       "      <th>8</th>\n",
       "      <td>8</td>\n",
       "      <td>32</td>\n",
       "      <td>0.082418</td>\n",
       "      <td>1.0</td>\n",
       "      <td>0.054945</td>\n",
       "      <td>0.131868</td>\n",
       "    </tr>\n",
       "    <tr>\n",
       "      <th>9</th>\n",
       "      <td>9</td>\n",
       "      <td>64</td>\n",
       "      <td>0.049451</td>\n",
       "      <td>1.0</td>\n",
       "      <td>0.060440</td>\n",
       "      <td>0.104396</td>\n",
       "    </tr>\n",
       "  </tbody>\n",
       "</table>\n",
       "</div>"
      ]
     },
     "execution_count": 16,
     "metadata": {},
     "output_type": "execute_result"
    }
   ],
   "execution_count": 16
  },
  {
   "metadata": {
    "ExecuteTime": {
     "end_time": "2024-11-11T13:36:48.705086Z",
     "start_time": "2024-11-11T13:36:48.701Z"
    }
   },
   "cell_type": "code",
   "source": [
    "# Statistical evaluation of two methods\n",
    "def statistical_evaluation(e1, e2, alpha = 0.05):\n",
    "    r = e1 - e2\n",
    "    n = len(r)\n",
    "    \n",
    "    t_critical = t.ppf( (1-alpha)/2, df = n-1)\n",
    "    error_margin = t_critical * (np.std(r) / np.sqrt(n))\n",
    "    \n",
    "    ci_lower = np.mean(r) - error_margin\n",
    "    ci_upper = np.mean(r) + error_margin\n",
    "    \n",
    "    # Calculate t-statistic for the test\n",
    "    t_stat = np.mean(r) / (np.std(r, ddof=1) / np.sqrt(n))\n",
    "    \n",
    "    # Calculate the p-value (two-tailed)\n",
    "    p_value = 2 * (1 - t.cdf(abs(t_stat), df = n - 1))\n",
    "    \n",
    "    print(f\"{(1 - alpha) * 100}% confidence interval for the difference in generalization errors: [{ci_lower}, {ci_upper}] with p-value : {p_value}\")\n"
   ],
   "id": "60dc1c25548c7510",
   "outputs": [],
   "execution_count": 17
  },
  {
   "metadata": {
    "ExecuteTime": {
     "end_time": "2024-11-11T13:43:13.476939Z",
     "start_time": "2024-11-11T13:43:13.473603Z"
    }
   },
   "cell_type": "code",
   "source": "np.std(errors_df['MLP_test_error']-errors_df['LR_test_error'])",
   "id": "6be88dfbaccc2ec0",
   "outputs": [
    {
     "data": {
      "text/plain": [
       "0.01308194994206264"
      ]
     },
     "execution_count": 19,
     "metadata": {},
     "output_type": "execute_result"
    }
   ],
   "execution_count": 19
  },
  {
   "metadata": {
    "ExecuteTime": {
     "end_time": "2024-11-11T13:43:52.605388Z",
     "start_time": "2024-11-11T13:43:52.600830Z"
    }
   },
   "cell_type": "code",
   "source": "t.ppf( (1-0.05)/2, df = n-1)",
   "id": "8626e56b1953c73d",
   "outputs": [
    {
     "data": {
      "text/plain": [
       "-0.06447679010158362"
      ]
     },
     "execution_count": 20,
     "metadata": {},
     "output_type": "execute_result"
    }
   ],
   "execution_count": 20
  },
  {
   "metadata": {
    "ExecuteTime": {
     "end_time": "2024-11-11T13:36:48.866220Z",
     "start_time": "2024-11-11T13:36:48.818901Z"
    }
   },
   "cell_type": "code",
   "source": [
    "statistical_evaluation(errors_df['MLP_test_error'], errors_df['LR_test_error'])\n",
    "statistical_evaluation(errors_df['MLP_test_error'], errors_df['Baseline_test_error'])\n",
    "statistical_evaluation(errors_df['LR_test_error'], errors_df['Baseline_test_error'])"
   ],
   "id": "f1d519f5783ec51e",
   "outputs": [
    {
     "name": "stdout",
     "output_type": "stream",
     "text": [
      "95.0% confidence interval for the difference in generalization errors: [0.006295676206837871, 0.005762211260885664] with p-value : 0.20013316179470464\n",
      "95.0% confidence interval for the difference in generalization errors: [-0.0637278260541341, -0.06475352865672881] with p-value : 3.119722478395204e-05\n",
      "95.0% confidence interval for the difference in generalization errors: [-0.06967046067549203, -0.0708687815030944] with p-value : 5.229492524438939e-05\n"
     ]
    }
   ],
   "execution_count": 18
  }
 ],
 "metadata": {
  "kernelspec": {
   "display_name": "intro_to_ml",
   "language": "python",
   "name": "intro_to_ml"
  },
  "language_info": {
   "codemirror_mode": {
    "name": "ipython",
    "version": 2
   },
   "file_extension": ".py",
   "mimetype": "text/x-python",
   "name": "python",
   "nbconvert_exporter": "python",
   "pygments_lexer": "ipython2",
   "version": "2.7.6"
  }
 },
 "nbformat": 4,
 "nbformat_minor": 5
}
