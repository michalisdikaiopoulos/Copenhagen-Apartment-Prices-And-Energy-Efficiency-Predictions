{
 "cells": [
  {
   "cell_type": "code",
   "execution_count": 27,
   "metadata": {},
   "outputs": [],
   "source": [
    "import pandas as pd\n",
    "from scipy.linalg import svd\n",
    "import numpy as np\n",
    "import matplotlib.pyplot as plt"
   ]
  },
  {
   "cell_type": "code",
   "execution_count": 2,
   "metadata": {},
   "outputs": [],
   "source": [
    "df = pd.read_csv('preprocessed_data.csv')"
   ]
  },
  {
   "cell_type": "code",
   "execution_count": 3,
   "metadata": {},
   "outputs": [],
   "source": [
    "discrete_vars = df.select_dtypes(include=['object']).columns.tolist()"
   ]
  },
  {
   "cell_type": "code",
   "execution_count": 20,
   "metadata": {},
   "outputs": [],
   "source": [
    "df_encoded = pd.get_dummies(df, columns=discrete_vars, drop_first=True).astype(int)"
   ]
  },
  {
   "cell_type": "code",
   "execution_count": 21,
   "metadata": {},
   "outputs": [
    {
     "name": "stdout",
     "output_type": "stream",
     "text": [
      "<class 'pandas.core.frame.DataFrame'>\n",
      "RangeIndex: 1897 entries, 0 to 1896\n",
      "Data columns (total 86 columns):\n",
      " #   Column                     Non-Null Count  Dtype\n",
      "---  ------                     --------------  -----\n",
      " 0   monthly_rent               1897 non-null   int64\n",
      " 1   monthly_aconto             1897 non-null   int64\n",
      " 2   move_in_price              1897 non-null   int64\n",
      " 3   size_sqm                   1897 non-null   int64\n",
      " 4   rooms                      1897 non-null   int64\n",
      " 5   floor                      1897 non-null   int64\n",
      " 6   deposit                    1897 non-null   int64\n",
      " 7   prepaid_rent               1897 non-null   int64\n",
      " 8   housing_type_Værelse       1897 non-null   int64\n",
      " 9   furnished_Nej              1897 non-null   int64\n",
      " 10  roommate_friendly_Ja       1897 non-null   int64\n",
      " 11  roommate_friendly_Nej      1897 non-null   int64\n",
      " 12  pets_allowed_Ja            1897 non-null   int64\n",
      " 13  pets_allowed_Nej           1897 non-null   int64\n",
      " 14  elevator_Ja                1897 non-null   int64\n",
      " 15  elevator_Nej               1897 non-null   int64\n",
      " 16  senior_friendly_Ja         1897 non-null   int64\n",
      " 17  senior_friendly_Nej        1897 non-null   int64\n",
      " 18  students_only_Ja           1897 non-null   int64\n",
      " 19  students_only_Nej          1897 non-null   int64\n",
      " 20  balcony_terrace_Ja         1897 non-null   int64\n",
      " 21  balcony_terrace_Nej        1897 non-null   int64\n",
      " 22  parking_Ja                 1897 non-null   int64\n",
      " 23  parking_Nej                1897 non-null   int64\n",
      " 24  dishwasher_Ja              1897 non-null   int64\n",
      " 25  dishwasher_Nej             1897 non-null   int64\n",
      " 26  washing_machine_Ja         1897 non-null   int64\n",
      " 27  washing_machine_Nej        1897 non-null   int64\n",
      " 28  charging_station_Ja        1897 non-null   int64\n",
      " 29  charging_station_Nej       1897 non-null   int64\n",
      " 30  dryer_Ja                   1897 non-null   int64\n",
      " 31  dryer_Nej                  1897 non-null   int64\n",
      " 32  energy_mark_A15            1897 non-null   int64\n",
      " 33  energy_mark_A20            1897 non-null   int64\n",
      " 34  energy_mark_B              1897 non-null   int64\n",
      " 35  energy_mark_C              1897 non-null   int64\n",
      " 36  energy_mark_D              1897 non-null   int64\n",
      " 37  energy_mark_E              1897 non-null   int64\n",
      " 38  energy_mark_F              1897 non-null   int64\n",
      " 39  energy_mark_G              1897 non-null   int64\n",
      " 40  energy_mark_none           1897 non-null   int64\n",
      " 41  area_Bagsværd              1897 non-null   int64\n",
      " 42  area_Ballerup              1897 non-null   int64\n",
      " 43  area_Brøndby               1897 non-null   int64\n",
      " 44  area_Brønshøj              1897 non-null   int64\n",
      " 45  area_Charlottenlund        1897 non-null   int64\n",
      " 46  area_Dragør                1897 non-null   int64\n",
      " 47  area_Dyssegård             1897 non-null   int64\n",
      " 48  area_Frederiksberg         1897 non-null   int64\n",
      " 49  area_Frederiksberg C       1897 non-null   int64\n",
      " 50  area_Gentofte              1897 non-null   int64\n",
      " 51  area_Glostrup              1897 non-null   int64\n",
      " 52  area_Hedehusene            1897 non-null   int64\n",
      " 53  area_Hellerup              1897 non-null   int64\n",
      " 54  area_Herlev                1897 non-null   int64\n",
      " 55  area_Holte                 1897 non-null   int64\n",
      " 56  area_Hvidovre              1897 non-null   int64\n",
      " 57  area_Ishøj                 1897 non-null   int64\n",
      " 58  area_Kastrup               1897 non-null   int64\n",
      " 59  area_Klampenborg           1897 non-null   int64\n",
      " 60  area_Kongens Lyngby        1897 non-null   int64\n",
      " 61  area_København K           1897 non-null   int64\n",
      " 62  area_København N           1897 non-null   int64\n",
      " 63  area_København NV          1897 non-null   int64\n",
      " 64  area_København S           1897 non-null   int64\n",
      " 65  area_København SV          1897 non-null   int64\n",
      " 66  area_København V           1897 non-null   int64\n",
      " 67  area_København Ø           1897 non-null   int64\n",
      " 68  area_Måløv                 1897 non-null   int64\n",
      " 69  area_Nordhavn              1897 non-null   int64\n",
      " 70  area_Nærum                 1897 non-null   int64\n",
      " 71  area_Rødovre               1897 non-null   int64\n",
      " 72  area_Skodsborg             1897 non-null   int64\n",
      " 73  area_Skovlunde             1897 non-null   int64\n",
      " 74  area_Smørum                1897 non-null   int64\n",
      " 75  area_Søborg                1897 non-null   int64\n",
      " 76  area_Taastrup              1897 non-null   int64\n",
      " 77  area_Valby                 1897 non-null   int64\n",
      " 78  area_Vallensbæk            1897 non-null   int64\n",
      " 79  area_Vallensbæk Strand     1897 non-null   int64\n",
      " 80  area_Vanløse               1897 non-null   int64\n",
      " 81  area_Vedbæk                1897 non-null   int64\n",
      " 82  area_Virum                 1897 non-null   int64\n",
      " 83  area_Værløse               1897 non-null   int64\n",
      " 84  availability_in_3+ months  1897 non-null   int64\n",
      " 85  availability_in_<1 month   1897 non-null   int64\n",
      "dtypes: int64(86)\n",
      "memory usage: 1.2 MB\n"
     ]
    }
   ],
   "source": [
    "df_encoded.info()"
   ]
  },
  {
   "cell_type": "code",
   "execution_count": 22,
   "metadata": {},
   "outputs": [],
   "source": [
    "X = df_encoded.to_numpy()\n",
    "N = X.shape[0]"
   ]
  },
  {
   "cell_type": "code",
   "execution_count": 28,
   "metadata": {},
   "outputs": [
    {
     "name": "stdout",
     "output_type": "stream",
     "text": [
      "2 components/variables needed to surpass the threshold=0.95\n"
     ]
    },
    {
     "data": {
      "image/png": "[encoded data removed]",
      "text/plain": [
       "<Figure size 640x480 with 1 Axes>"
      ]
     },
     "metadata": {},
     "output_type": "display_data"
    }
   ],
   "source": [
    "# Subtract mean value from data\n",
    "Y = X - np.ones((N, 1)) * X.mean(axis=0)\n",
    "\n",
    "# PCA by computing SVD of Y\n",
    "U, S, V = svd(Y, full_matrices=False)\n",
    "\n",
    "# Compute variance explained by principal components\n",
    "rho = (S * S) / (S * S).sum()\n",
    "\n",
    "threshold = 0.95\n",
    "\n",
    "for i in range(len(rho)):\n",
    "    if np.cumsum(rho)[i] > threshold:\n",
    "        print(f'{i+1} components/variables needed to surpass the threshold=0.95')\n",
    "        break\n",
    "\n",
    "\n",
    "# Plot variance explained\n",
    "plt.figure()\n",
    "plt.plot(range(1, len(rho) + 1), rho, \"x-\")\n",
    "plt.plot(range(1, len(rho) + 1), np.cumsum(rho), \"o-\")\n",
    "plt.plot([1, len(rho)], [threshold, threshold], \"k--\")\n",
    "plt.title(\"Variance explained by principal components\")\n",
    "plt.xlabel(\"Principal component\")\n",
    "plt.ylabel(\"Variance explained\")\n",
    "plt.legend([\"Individual\", \"Cumulative\", \"Threshold\"])\n",
    "plt.grid()\n",
    "plt.show()"
   ]
  },
  {
   "cell_type": "code",
   "execution_count": 46,
   "metadata": {},
   "outputs": [],
   "source": [
    "loadings_pc1 = V[0,:]\n",
    "loadings_pc2 = V[1,:]"
   ]
  },
  {
   "cell_type": "code",
   "execution_count": 65,
   "metadata": {},
   "outputs": [],
   "source": [
    "# Get the indices of the top 5 highest values\n",
    "top_indices1 = np.argsort(loadings_pc1)[-5:]  # Get last 5 indices after sorting\n",
    "top_indices_sorted1 = top_indices1[np.argsort(-loadings_pc1[top_indices1])]\n",
    "\n",
    "top_indices2 = np.argsort(loadings_pc2)[-5:]  # Get last 5 indices after sorting\n",
    "top_indices_sorted2 = top_indices2[np.argsort(-loadings_pc2[top_indices2])]"
   ]
  },
  {
   "cell_type": "code",
   "execution_count": 66,
   "metadata": {},
   "outputs": [
    {
     "name": "stdout",
     "output_type": "stream",
     "text": [
      "First Principal Component:\n",
      "\n",
      "move_in_price with coefficient: 0.9089161658256466\n",
      "floor with coefficient: 0.36116043241052903\n",
      "furnished with coefficient: 0.1590942032994749\n",
      "monthly_rent with coefficient: 0.13457803461341833\n",
      "monthly_aconto with coefficient: 0.0035117818250406385\n",
      "\n",
      "#############################################################\n",
      "\n",
      "Second Principal Component:\n",
      "\n",
      "floor with coefficient: 0.8272637081616676\n",
      "furnished with coefficient: 0.3153878566455721\n",
      "monthly_rent with coefficient: 0.20902239622811347\n",
      "housing_type with coefficient: 3.501683729381644e-06\n",
      "size_sqm with coefficient: 1.8819695476839093e-07\n"
     ]
    }
   ],
   "source": [
    "print('First Principal Component:\\n')\n",
    "\n",
    "for idx in top_indices_sorted1:\n",
    "    print(f'{df.columns[idx]} with coefficient: {loadings_pc1[idx]}',end='\\n')\n",
    "\n",
    "print('\\n#############################################################')\n",
    "print('\\nSecond Principal Component:\\n')\n",
    "\n",
    "for idx in top_indices_sorted2:\n",
    "    print(f'{df.columns[idx]} with coefficient: {loadings_pc2[idx]}',end='\\n')\n"
   ]
  }
 ],
 "metadata": {
  "kernelspec": {
   "display_name": "dtuenv",
   "language": "python",
   "name": "python3"
  },
  "language_info": {
   "codemirror_mode": {
    "name": "ipython",
    "version": 3
   },
   "file_extension": ".py",
   "mimetype": "text/x-python",
   "name": "python",
   "nbconvert_exporter": "python",
   "pygments_lexer": "ipython3",
   "version": "3.11.9"
  }
 },
 "nbformat": 4,
 "nbformat_minor": 2
}
