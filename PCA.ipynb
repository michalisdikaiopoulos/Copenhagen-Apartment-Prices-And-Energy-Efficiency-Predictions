{
 "cells": [
  {
   "cell_type": "code",
   "execution_count": null,
   "metadata": {},
   "outputs": [],
   "source": [
    "import pandas as pd\n",
    "from scipy.linalg import svd\n",
    "import numpy as np\n",
    "import matplotlib.pyplot as plt\n",
    "from matplotlib.pyplot import figure, legend, plot, show, title, xlabel, ylabel\n",
    "from mpl_toolkits import mplot3d  "
   ]
  },
  {
   "cell_type": "code",
   "execution_count": null,
   "metadata": {},
   "outputs": [],
   "source": [
    "df = pd.read_csv('preprocessed_data.csv')"
   ]
  },
  {
   "cell_type": "code",
   "execution_count": null,
   "metadata": {},
   "outputs": [],
   "source": [
    "continuous_vars = df.select_dtypes(include=['float64']).columns.tolist()\n",
    "continuous_vars"
   ]
  },
  {
   "cell_type": "code",
   "execution_count": null,
   "metadata": {},
   "outputs": [],
   "source": [
    "pca_variable_subset = df[continuous_vars]"
   ]
  },
  {
   "cell_type": "code",
   "execution_count": null,
   "metadata": {},
   "outputs": [],
   "source": [
    "pca_variable_subset.info()"
   ]
  },
  {
   "cell_type": "markdown",
   "metadata": {},
   "source": [
    "### PCA"
   ]
  },
  {
   "cell_type": "code",
   "execution_count": null,
   "metadata": {},
   "outputs": [],
   "source": [
    "X = pca_variable_subset.to_numpy()\n",
    "N = X.shape[0]"
   ]
  },
  {
   "cell_type": "code",
   "execution_count": null,
   "metadata": {},
   "outputs": [],
   "source": [
    "mean = np.mean(X, axis=0)\n",
    "std = np.std(X, axis=0)\n",
    "X_centered = (X - mean) / std\n",
    "\n",
    "# Step 2: Compute covariance matrix\n",
    "cov_matrix = np.cov(X_centered.T)\n",
    "\n",
    "# Step 3: Compute eigenvalues and eigenvectors\n",
    "eigenvalues, eigenvectors = np.linalg.eig(cov_matrix)\n",
    "\n",
    "# Step 4: Sort eigenvalues and eigenvectors\n",
    "idx = np.argsort(eigenvalues)[::-1]\n",
    "eigenvalues = eigenvalues[idx]\n",
    "eigenvectors = eigenvectors[:, idx]\n",
    "\n",
    "# Step 5: Project data onto principal components\n",
    "X_pca = np.dot(X_centered, eigenvectors[:, :2])\n",
    "\n",
    "# Results\n",
    "print(\"Eigenvalues:\", eigenvalues)\n",
    "print(\"Eigenvectors:\\n\", eigenvectors)\n",
    "print(\"Projected Data (PCA):\\n\", X_pca)"
   ]
  },
  {
   "cell_type": "code",
   "execution_count": null,
   "metadata": {},
   "outputs": [],
   "source": [
    "rho = eigenvalues / eigenvalues.sum()\n",
    "threshold = 0.9\n",
    "\n",
    "for i in range(len(eigenvalues)):\n",
    "    if np.cumsum(rho)[i] > threshold:\n",
    "        print(f'We need {i+1} components to explain at least 90% of the variance of the data')\n",
    "        break\n",
    "\n",
    "# Plot variance explained\n",
    "plt.figure()\n",
    "plt.plot(range(1, len(rho) + 1), rho, \"x-\")\n",
    "plt.plot(range(1, len(rho) + 1), np.cumsum(rho), \"o-\")\n",
    "plt.plot([1, len(rho)], [threshold, threshold], \"k--\")\n",
    "plt.title(\"Variance explained by principal components\")\n",
    "plt.xlabel(\"Number of principal components\")\n",
    "plt.ylabel(\"Variance explained\")\n",
    "plt.legend([\"Individual\", \"Cumulative\", \"Threshold\"])\n",
    "plt.grid()\n",
    "plt.savefig(\"./plots/pca_variance_threshold\")\n",
    "plt.show()"
   ]
  },
  {
   "cell_type": "markdown",
   "metadata": {},
   "source": [
    "### SVD"
   ]
  },
  {
   "cell_type": "code",
   "execution_count": null,
   "metadata": {},
   "outputs": [],
   "source": [
    "# Subtract mean value from data\n",
    "Y = (X - np.ones((N, 1)) * X.mean(axis=0)) / X.std(axis=0)\n",
    "\n",
    "# PCA by computing SVD of Y\n",
    "U, S, V = svd(Y, full_matrices=False)\n",
    "\n",
    "# Compute variance explained by principal components\n",
    "rho = (S * S) / (S * S).sum()\n",
    "\n",
    "threshold = 0.90\n",
    "\n",
    "for i in range(len(rho)):\n",
    "    if np.cumsum(rho)[i] > threshold:\n",
    "        print(f'{i+1} components/variables needed to surpass the threshold={threshold}')\n",
    "        break\n",
    "\n",
    "\n",
    "# Plot variance explained\n",
    "plt.figure()\n",
    "plt.plot(range(1, len(rho) + 1), rho, \"x-\")\n",
    "plt.plot(range(1, len(rho) + 1), np.cumsum(rho), \"o-\")\n",
    "plt.plot([1, len(rho)], [threshold, threshold], \"k--\")\n",
    "plt.title(\"Variance explained by principal components\")\n",
    "plt.xlabel(\"Principal component\")\n",
    "plt.ylabel(\"Variance explained\")\n",
    "plt.legend([\"Individual\", \"Cumulative\", \"Threshold\"])\n",
    "plt.grid()\n",
    "plt.show()"
   ]
  },
  {
   "cell_type": "code",
   "execution_count": null,
   "metadata": {},
   "outputs": [],
   "source": [
    "loadings_pc1 = V[0,:]\n",
    "loadings_pc2 = V[1,:]"
   ]
  },
  {
   "cell_type": "code",
   "execution_count": null,
   "metadata": {},
   "outputs": [],
   "source": [
    "# Get the indices of the top 5 highest values\n",
    "top_indices1 = np.argsort(loadings_pc1)[-5:]  # Get last 5 indices after sorting\n",
    "top_indices_sorted1 = top_indices1[np.argsort(-loadings_pc1[top_indices1])]\n",
    "\n",
    "top_indices2 = np.argsort(loadings_pc2)[-5:]  # Get last 5 indices after sorting\n",
    "top_indices_sorted2 = top_indices2[np.argsort(-loadings_pc2[top_indices2])]"
   ]
  },
  {
   "cell_type": "code",
   "execution_count": null,
   "metadata": {},
   "outputs": [],
   "source": [
    "print('First Principal Component:\\n')\n",
    "\n",
    "for idx in top_indices_sorted1:\n",
    "    print(f'{df_encoded.columns[idx]} with coefficient: {loadings_pc1[idx]}',end='\\n')\n",
    "\n",
    "print('\\n#############################################################')\n",
    "print('\\nSecond Principal Component:\\n')\n",
    "\n",
    "for idx in top_indices_sorted2:\n",
    "    print(f'{df_encoded.columns[idx]} with coefficient: {loadings_pc2[idx]}',end='\\n')\n"
   ]
  },
  {
   "cell_type": "code",
   "execution_count": null,
   "metadata": {},
   "outputs": [],
   "source": [
    "df1 = pd.read_csv('preprocessed_data.csv')"
   ]
  },
  {
   "cell_type": "code",
   "execution_count": null,
   "metadata": {},
   "outputs": [],
   "source": [
    "df1.info()"
   ]
  },
  {
   "cell_type": "code",
   "execution_count": null,
   "metadata": {},
   "outputs": [],
   "source": [
    "classLabels = df1['student_affordable'].tolist()\n",
    "classNames = set(classLabels)\n",
    "classDict = dict(zip(classNames, range(len(classNames))))\n",
    "\n",
    "# Extract vector y, convert to NumPy array\n",
    "y = np.asarray([classDict[value] for value in classLabels])"
   ]
  },
  {
   "cell_type": "code",
   "execution_count": null,
   "metadata": {},
   "outputs": [],
   "source": [
    "# Project the centered data onto principal component space\n",
    "Z = Y @ V.T\n",
    "\n",
    "# Indices of the principal components to be plotted\n",
    "i = 0\n",
    "j = 1\n",
    "\n",
    "# Plot PCA of the data\n",
    "f = figure()\n",
    "title(\"Copenhagen Apartments/Rooms data: PCA\")\n",
    "# Z = array(Z)\n",
    "for c in range(len(classNames)):\n",
    "    # select indices belonging to class c:\n",
    "    class_mask = y == c\n",
    "    plot(Z[class_mask, i], Z[class_mask, j], \"o\", alpha=0.5)\n",
    "legend(classNames)\n",
    "xlabel(\"PC{0}\".format(i + 1))\n",
    "ylabel(\"PC{0}\".format(j + 1))"
   ]
  },
  {
   "cell_type": "code",
   "execution_count": null,
   "metadata": {},
   "outputs": [],
   "source": [
    "# Project the centered data onto principal component space\n",
    "Z = Y @ V.T\n",
    "\n",
    "# Indices of the principal components to be plotted\n",
    "i = 0\n",
    "j = 1\n",
    "k = 2\n",
    "    \n",
    "# Creating figures for the plot  \n",
    "fig = plt.figure(figsize = (10, 7))  \n",
    "ax = plt.axes(projection ='3d')  \n",
    "\n",
    "for c in range(len(classNames)):\n",
    "    # select indices belonging to class c:\n",
    "    class_mask = y == c\n",
    "    ax.scatter3D(Z[class_mask, i], Z[class_mask, j], Z[class_mask, k], \"o\", alpha=0.5)\n",
    "  \n",
    "\n",
    "plt.title(\"Copenhagen Apartments/Rooms data: PCA\")\n",
    "legend(classNames, title=\"Student affordable\")\n",
    "ax.set_xlabel(\"PC{0}\".format(i + 1))\n",
    "ax.set_ylabel(\"PC{0}\".format(j + 1))\n",
    "ax.set_zlabel(\"PC{0}\".format(k + 1))\n",
    "\n",
    "# Change plot angle\n",
    "ax.view_init(10, -140)\n",
    "\n",
    "# Save plot\n",
    "plt.savefig(\"./plots/pca_projection.png\")\n",
    "\n",
    "# display the  plot  \n",
    "plt.show()  "
   ]
  },
  {
   "cell_type": "code",
   "execution_count": null,
   "metadata": {},
   "outputs": [],
   "source": []
  }
 ],
 "metadata": {
  "kernelspec": {
   "display_name": "intro_to_ml",
   "language": "python",
   "name": "intro_to_ml"
  },
  "language_info": {
   "codemirror_mode": {
    "name": "ipython",
    "version": 3
   },
   "file_extension": ".py",
   "mimetype": "text/x-python",
   "name": "python",
   "nbconvert_exporter": "python",
   "pygments_lexer": "ipython3",
   "version": "3.12.4"
  }
 },
 "nbformat": 4,
 "nbformat_minor": 4
}
