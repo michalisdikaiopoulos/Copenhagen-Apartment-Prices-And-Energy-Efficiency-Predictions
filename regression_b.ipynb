{
 "cells": [
  {
   "cell_type": "markdown",
   "metadata": {},
   "source": [
    "### Load libraries and data"
   ]
  },
  {
   "cell_type": "code",
   "execution_count": 2,
   "metadata": {},
   "outputs": [],
   "source": [
    "import numpy as np\n",
    "import pandas as pd\n",
    "from sklearn.linear_model import Ridge\n",
    "from sklearn.model_selection import KFold\n",
    "from sklearn.metrics import mean_squared_error\n",
    "from sklearn.preprocessing import StandardScaler\n",
    "from sklearn.dummy import DummyRegressor\n",
    "import torch\n",
    "import torch.nn as nn\n",
    "import torch.optim as optim\n",
    "from sklearn.model_selection import train_test_split\n",
    "from tqdm import tqdm\n",
    "from scipy import stats\n",
    "from sklearn.preprocessing import PolynomialFeatures\n",
    "from sklearn.pipeline import make_pipeline"
   ]
  },
  {
   "cell_type": "code",
   "execution_count": 3,
   "metadata": {},
   "outputs": [],
   "source": [
    "df1 = pd.read_csv('./preprocessed_log_data.csv')"
   ]
  },
  {
   "cell_type": "code",
   "execution_count": 14,
   "metadata": {},
   "outputs": [
    {
     "data": {
      "text/plain": [
       "student_affordable\n",
       "False    1596\n",
       "True      225\n",
       "Name: count, dtype: int64"
      ]
     },
     "execution_count": 14,
     "metadata": {},
     "output_type": "execute_result"
    }
   ],
   "source": [
    "df1['student_affordable'].value_counts()"
   ]
  },
  {
   "cell_type": "code",
   "execution_count": 4,
   "metadata": {},
   "outputs": [
    {
     "data": {
      "text/plain": [
       "energy_mark\n",
       "none    836\n",
       "A15     243\n",
       "A20     231\n",
       "C       208\n",
       "D       113\n",
       "A10      82\n",
       "B        68\n",
       "E        29\n",
       "F         8\n",
       "G         3\n",
       "Name: count, dtype: int64"
      ]
     },
     "execution_count": 4,
     "metadata": {},
     "output_type": "execute_result"
    }
   ],
   "source": [
    "df1['energy_mark'].value_counts()"
   ]
  },
  {
   "cell_type": "code",
   "execution_count": 9,
   "metadata": {},
   "outputs": [
    {
     "data": {
      "text/plain": [
       "0.45908841295991215"
      ]
     },
     "execution_count": 9,
     "metadata": {},
     "output_type": "execute_result"
    }
   ],
   "source": [
    "836/len(df1)"
   ]
  },
  {
   "cell_type": "code",
   "execution_count": 12,
   "metadata": {},
   "outputs": [
    {
     "data": {
      "text/plain": [
       "energy_mark\n",
       "None    836\n",
       "A       556\n",
       "C       208\n",
       "D       113\n",
       "B        68\n",
       "E-G      40\n",
       "Name: count, dtype: int64"
      ]
     },
     "execution_count": 12,
     "metadata": {},
     "output_type": "execute_result"
    }
   ],
   "source": [
    "df1['energy_mark'].apply(lambda x: x[0]).map({'A':'A','B':'B','C':'C','D':'D','E':'E-G','F':'E-G','G':'E-G','n':'None'}).value_counts()"
   ]
  },
  {
   "cell_type": "code",
   "execution_count": 3,
   "metadata": {},
   "outputs": [],
   "source": [
    "# Dropping the columns that are used to create total_monthly_rent_log\n",
    "df.drop(columns=['monthly_rent_log', 'monthly_aconto_log'], inplace=True)"
   ]
  },
  {
   "cell_type": "code",
   "execution_count": 4,
   "metadata": {},
   "outputs": [],
   "source": [
    "# Splitting the data into features and target for regression\n",
    "X_reg_no_dummies = df.drop(columns=['total_monthly_rent_log']).copy()\n",
    "y_reg = df['total_monthly_rent_log'].copy()\n",
    "\n",
    "# Splitting the data into features and target for classification\n",
    "X_cls_no_dummies = df.drop(columns=['months_on_website']).copy()\n",
    "y_cls = df['months_on_website'].copy()"
   ]
  },
  {
   "cell_type": "code",
   "execution_count": 5,
   "metadata": {},
   "outputs": [],
   "source": [
    "# Make the categorical variables into dummies\n",
    "X_reg = pd.get_dummies(X_reg_no_dummies).to_numpy()\n",
    "X_cls = pd.get_dummies(X_cls_no_dummies).to_numpy()\n",
    "\n",
    "y_reg = y_reg.to_numpy()\n",
    "y_cls = y_cls.to_numpy()"
   ]
  },
  {
   "cell_type": "markdown",
   "metadata": {},
   "source": [
    "### Model development"
   ]
  },
  {
   "cell_type": "code",
   "execution_count": 60,
   "metadata": {},
   "outputs": [],
   "source": [
    "import warnings\n",
    "warnings.filterwarnings('ignore')"
   ]
  },
  {
   "cell_type": "code",
   "execution_count": 61,
   "metadata": {},
   "outputs": [
    {
     "name": "stderr",
     "output_type": "stream",
     "text": [
      "ANN Tuning: 100%|██████████| 6/6 [01:33<00:00, 15.63s/it]\n",
      "Linear Regression Tuning: 100%|██████████| 6/6 [00:00<00:00, 28.09it/s]\n",
      "ANN Tuning: 100%|██████████| 6/6 [01:23<00:00, 13.86s/it]\n",
      "Linear Regression Tuning: 100%|██████████| 6/6 [00:00<00:00, 35.99it/s]\n",
      "ANN Tuning: 100%|██████████| 6/6 [01:23<00:00, 13.95s/it]\n",
      "Linear Regression Tuning: 100%|██████████| 6/6 [00:00<00:00, 32.52it/s]\n",
      "ANN Tuning: 100%|██████████| 6/6 [01:27<00:00, 14.51s/it]\n",
      "Linear Regression Tuning: 100%|██████████| 6/6 [00:00<00:00, 34.97it/s]\n",
      "ANN Tuning: 100%|██████████| 6/6 [01:40<00:00, 16.73s/it]\n",
      "Linear Regression Tuning: 100%|██████████| 6/6 [00:00<00:00, 36.68it/s]\n",
      "ANN Tuning: 100%|██████████| 6/6 [01:27<00:00, 14.51s/it]\n",
      "Linear Regression Tuning: 100%|██████████| 6/6 [00:00<00:00, 35.25it/s]\n",
      "ANN Tuning: 100%|██████████| 6/6 [01:21<00:00, 13.56s/it]\n",
      "Linear Regression Tuning: 100%|██████████| 6/6 [00:00<00:00, 36.84it/s]\n",
      "ANN Tuning: 100%|██████████| 6/6 [01:26<00:00, 14.38s/it]\n",
      "Linear Regression Tuning: 100%|██████████| 6/6 [00:00<00:00, 35.11it/s]\n",
      "ANN Tuning: 100%|██████████| 6/6 [01:25<00:00, 14.33s/it]\n",
      "Linear Regression Tuning: 100%|██████████| 6/6 [00:00<00:00, 36.81it/s]\n",
      "ANN Tuning: 100%|██████████| 6/6 [01:26<00:00, 14.43s/it]\n",
      "Linear Regression Tuning: 100%|██████████| 6/6 [00:00<00:00, 32.87it/s]\n",
      "Outer CV: 10it [15:05, 90.54s/it]"
     ]
    },
    {
     "name": "stdout",
     "output_type": "stream",
     "text": [
      "   outer_fold  best_h  test_mse_ann  best_lambda  test_mse_linreg  \\\n",
      "0           1      32  7.387754e+08        10000     1.964315e+10   \n",
      "1           2      32  1.426222e+10        10000     1.670919e+10   \n",
      "2           3      32  7.357393e+07        10000     2.399173e+10   \n",
      "3           4      32  2.219569e+10        10000     4.111237e+10   \n",
      "4           5      32  3.287433e+07        10000     3.036055e+07   \n",
      "5           6      32  5.312566e+07        10000     2.399069e+10   \n",
      "6           7      32  4.070376e+07        10000     1.609616e+07   \n",
      "7           8      32  3.969305e+07        10000     4.425355e+07   \n",
      "8           9      32  1.456825e+09        10000     1.393658e+10   \n",
      "9          10      32  3.406446e+09        10000     1.535987e+10   \n",
      "\n",
      "   test_mse_baseline  \n",
      "0       1.986468e+10  \n",
      "1       1.680635e+10  \n",
      "2       2.426877e+10  \n",
      "3       4.139120e+10  \n",
      "4       5.063747e+07  \n",
      "5       2.426621e+10  \n",
      "6       3.131637e+07  \n",
      "7       7.241897e+07  \n",
      "8       1.403018e+10  \n",
      "9       1.553081e+10  \n"
     ]
    },
    {
     "name": "stderr",
     "output_type": "stream",
     "text": [
      "\n"
     ]
    }
   ],
   "source": [
    "# Placeholder data - load your actual data here\n",
    "X = X_reg  # Feature matrix\n",
    "y = y_reg  # Target variable\n",
    "\n",
    "# Define hyperparameter grids\n",
    "lambda_values = [0.01, 0.1, 10, 100, 1000, 10000]  # Example values for regularization in Ridge\n",
    "hidden_units_values = [1, 2, 4, 8, 16, 32]  # Example values for ANN hidden units\n",
    "\n",
    "# Outer cross-validation\n",
    "outer_cv = KFold(n_splits=10, shuffle=True, random_state=42)\n",
    "outer_results = []\n",
    "\n",
    "# Outer CV loop\n",
    "for outer_fold, (train_outer_idx, test_outer_idx) in enumerate(tqdm(outer_cv.split(X), desc=\"Outer CV\")):\n",
    "    X_train_outer, X_test_outer = X[train_outer_idx], X[test_outer_idx]\n",
    "    y_train_outer, y_test_outer = y[train_outer_idx], y[test_outer_idx]\n",
    "\n",
    "    # Standardize features based on outer train set\n",
    "    scaler = StandardScaler()\n",
    "    X_train_outer = scaler.fit_transform(X_train_outer)\n",
    "    X_test_outer = scaler.transform(X_test_outer)\n",
    "\n",
    "    # Inner cross-validation for hyperparameter tuning\n",
    "    inner_cv = KFold(n_splits=10, shuffle=True, random_state=42)\n",
    "    \n",
    "    # Initialize placeholders for best models and errors\n",
    "    best_ann_mse, best_linreg_mse = float('inf'), float('inf')\n",
    "    best_h, best_lambda = None, None\n",
    "\n",
    "    # ANN tuning\n",
    "    for h in tqdm(hidden_units_values, desc=\"ANN Tuning\"):\n",
    "        ann_mses = []\n",
    "        for train_inner_idx, val_inner_idx in inner_cv.split(X_train_outer):\n",
    "            X_train_inner, X_val_inner = X_train_outer[train_inner_idx], X_train_outer[val_inner_idx]\n",
    "            y_train_inner, y_val_inner = y[train_inner_idx], y[val_inner_idx]\n",
    "\n",
    "            # Define ANN model\n",
    "            model = lambda: nn.Sequential(\n",
    "                nn.Linear(X_train_inner.shape[1], 2*h),\n",
    "                nn.ReLU(),\n",
    "                nn.Linear(2*h, h),\n",
    "                nn.ReLU(),\n",
    "                nn.Linear(h, 1),\n",
    "            )\n",
    "            ann_model = model()\n",
    "            criterion = nn.MSELoss()\n",
    "            optimizer = optim.Adam(ann_model.parameters(), lr=0.001)\n",
    "\n",
    "            # Train the model\n",
    "            ann_model.train()\n",
    "            for epoch in range(1000):\n",
    "                optimizer.zero_grad()\n",
    "                outputs = ann_model(torch.tensor(X_train_inner, dtype=torch.float32))\n",
    "                loss = criterion(outputs, torch.tensor(y_train_inner, dtype=torch.float32).view(-1, 1))\n",
    "                loss.backward()\n",
    "                optimizer.step()\n",
    "\n",
    "            # Validate the model\n",
    "            ann_model.eval()\n",
    "            with torch.no_grad():\n",
    "                y_pred_val = ann_model(torch.tensor(X_val_inner, dtype=torch.float32)).numpy()\n",
    "            ann_mse = mean_squared_error(y_val_inner, y_pred_val)\n",
    "            ann_mses.append(ann_mse)\n",
    "\n",
    "        avg_ann_mse = np.mean(ann_mses)\n",
    "        if avg_ann_mse < best_ann_mse:\n",
    "            best_ann_mse = avg_ann_mse\n",
    "            best_h = h\n",
    "\n",
    "    # Linear regression tuning\n",
    "    for lam in tqdm(lambda_values, desc=\"Linear Regression Tuning\"):\n",
    "        linreg_mses = []\n",
    "        for train_inner_idx, val_inner_idx in inner_cv.split(X_train_outer):\n",
    "            X_train_inner, X_val_inner = X_train_outer[train_inner_idx], X_train_outer[val_inner_idx]\n",
    "            y_train_inner, y_val_inner = y[train_inner_idx], y[val_inner_idx]\n",
    "\n",
    "            # Define linear model with regularization\n",
    "            linreg_model = Ridge(alpha=lam)\n",
    "            linreg_model.fit(X_train_inner, y_train_inner)\n",
    "            y_pred_val = linreg_model.predict(X_val_inner)\n",
    "            linreg_mse = mean_squared_error(y_val_inner, y_pred_val)\n",
    "            linreg_mses.append(linreg_mse)\n",
    "\n",
    "        avg_linreg_mse = np.mean(linreg_mses)\n",
    "        if avg_linreg_mse < best_linreg_mse:\n",
    "            best_linreg_mse = avg_linreg_mse\n",
    "            best_lambda = lam\n",
    "\n",
    "    # Train best models from inner loop on the entire outer training set\n",
    "    ann_model = model()\n",
    "    criterion = nn.MSELoss()\n",
    "    optimizer = optim.Adam(ann_model.parameters(), lr=0.01)\n",
    "    ann_model.train()\n",
    "    for epoch in range(1000):\n",
    "        optimizer.zero_grad()\n",
    "        outputs = ann_model(torch.tensor(X_train_outer, dtype=torch.float32))\n",
    "        loss = criterion(outputs, torch.tensor(y_train_outer, dtype=torch.float32).view(-1, 1))\n",
    "        loss.backward()\n",
    "        optimizer.step()\n",
    "\n",
    "    ann_model.eval()\n",
    "    with torch.no_grad():\n",
    "        y_pred_test_ann = ann_model(torch.tensor(X_test_outer, dtype=torch.float32)).numpy()\n",
    "    test_mse_ann = mean_squared_error(np.exp(y_test_outer)+1, np.exp(y_pred_test_ann)+1)\n",
    "\n",
    "    linreg_model = Ridge(alpha=best_lambda)\n",
    "    linreg_model.fit(X_train_outer, y_train_outer)\n",
    "    y_pred_test_linreg = linreg_model.predict(X_test_outer)\n",
    "    test_mse_linreg = mean_squared_error(np.exp(y_test_outer)+1, np.exp(y_pred_test_linreg)+1)\n",
    "\n",
    "    # Baseline model (predicting the mean)\n",
    "    baseline_model = DummyRegressor(strategy=\"mean\")\n",
    "    baseline_model.fit(X_train_outer, y_train_outer)\n",
    "    y_pred_test_baseline = baseline_model.predict(X_test_outer)\n",
    "    test_mse_baseline = mean_squared_error(np.exp(y_test_outer)+1, np.exp(y_pred_test_baseline)+1)\n",
    "\n",
    "    # Append results for this outer fold\n",
    "    outer_results.append({\n",
    "        'outer_fold': outer_fold + 1,\n",
    "        'best_h': best_h,\n",
    "        'test_mse_ann': test_mse_ann,\n",
    "        'best_lambda': best_lambda,\n",
    "        'test_mse_linreg': test_mse_linreg,\n",
    "        'test_mse_baseline': test_mse_baseline\n",
    "    })\n",
    "\n",
    "# Create a DataFrame to display results in table format\n",
    "results_df = pd.DataFrame(outer_results)\n",
    "print(results_df)"
   ]
  },
  {
   "cell_type": "markdown",
   "metadata": {},
   "source": [
    "### New attempt also with a GLM"
   ]
  },
  {
   "cell_type": "code",
   "execution_count": 76,
   "metadata": {},
   "outputs": [
    {
     "name": "stderr",
     "output_type": "stream",
     "text": [
      "ANN Tuning: 100%|██████████| 6/6 [01:34<00:00, 15.77s/it]\n",
      "Linear Regression Tuning: 100%|██████████| 6/6 [00:00<00:00, 26.75it/s]\n",
      "GLM Tuning: 100%|██████████| 3/3 [03:17<00:00, 65.92s/it]\n",
      "Outer CV: 1it [04:55, 295.29s/it]"
     ]
    },
    {
     "name": "stdout",
     "output_type": "stream",
     "text": [
      "[{'outer_fold': 1, 'best_h': 32, 'test_mse_ann': 738775384.165011, 'best_lambda': 10000, 'test_mse_linreg': 19643148183.13463, 'test_mse_baseline': 19864679985.78159}, {'outer_fold': 2, 'best_h': 32, 'test_mse_ann': 14262217148.607422, 'best_lambda': 10000, 'test_mse_linreg': 16709188939.313482, 'test_mse_baseline': 16806352404.63012}, {'outer_fold': 3, 'best_h': 32, 'test_mse_ann': 73573934.93377702, 'best_lambda': 10000, 'test_mse_linreg': 23991725642.129875, 'test_mse_baseline': 24268767874.281}, {'outer_fold': 4, 'best_h': 32, 'test_mse_ann': 22195685982.575184, 'best_lambda': 10000, 'test_mse_linreg': 41112373598.84125, 'test_mse_baseline': 41391200795.43109}, {'outer_fold': 5, 'best_h': 32, 'test_mse_ann': 32874327.04789609, 'best_lambda': 10000, 'test_mse_linreg': 30360551.52572315, 'test_mse_baseline': 50637469.84446768}, {'outer_fold': 6, 'best_h': 32, 'test_mse_ann': 53125658.79258171, 'best_lambda': 10000, 'test_mse_linreg': 23990686935.699535, 'test_mse_baseline': 24266214402.631}, {'outer_fold': 7, 'best_h': 32, 'test_mse_ann': 40703759.34066733, 'best_lambda': 10000, 'test_mse_linreg': 16096162.094796967, 'test_mse_baseline': 31316370.96052955}, {'outer_fold': 8, 'best_h': 32, 'test_mse_ann': 39693048.147885635, 'best_lambda': 10000, 'test_mse_linreg': 44253549.081711926, 'test_mse_baseline': 72418969.15177196}, {'outer_fold': 9, 'best_h': 32, 'test_mse_ann': 1456824601.3822527, 'best_lambda': 10000, 'test_mse_linreg': 13936582821.008394, 'test_mse_baseline': 14030180863.852722}, {'outer_fold': 10, 'best_h': 32, 'test_mse_ann': 3406445976.2998276, 'best_lambda': 10000, 'test_mse_linreg': 15359866881.837797, 'test_mse_baseline': 15530807633.168636}, {'outer_fold': 1, 'best_h': 32, 'test_mse_ann': 48803569.48140842, 'best_lambda': 10000, 'test_mse_linreg': 19643148183.13463, 'test_mse_baseline': 19864679985.78159, 'best_glm_params': {'degree': 1, 'lambda': 100}, 'test_mse_glm': 18292912529.515217}, {'outer_fold': 2, 'best_h': 32, 'test_mse_ann': 12924239250.812452, 'best_lambda': 10000, 'test_mse_linreg': 16709188939.313482, 'test_mse_baseline': 16806352404.63012, 'best_glm_params': {'degree': 1, 'lambda': 100}, 'test_mse_glm': 16127243159.654833}, {'outer_fold': 3, 'best_h': 32, 'test_mse_ann': 183049110.51320037, 'best_lambda': 10000, 'test_mse_linreg': 23991725642.129875, 'test_mse_baseline': 24268767874.281, 'best_glm_params': {'degree': 1, 'lambda': 100}, 'test_mse_glm': 22240826857.664154}, {'outer_fold': 4, 'best_h': 32, 'test_mse_ann': 19026312948.563522, 'best_lambda': 10000, 'test_mse_linreg': 41112373598.84125, 'test_mse_baseline': 41391200795.43109, 'best_glm_params': {'degree': 1, 'lambda': 100}, 'test_mse_glm': 39667074513.652916}, {'outer_fold': 5, 'best_h': 32, 'test_mse_ann': 19573163.732484322, 'best_lambda': 10000, 'test_mse_linreg': 30360551.52572315, 'test_mse_baseline': 50637469.84446768, 'best_glm_params': {'degree': 1, 'lambda': 100}, 'test_mse_glm': 10304949.98203716}, {'outer_fold': 6, 'best_h': 32, 'test_mse_ann': 86746154.46036638, 'best_lambda': 10000, 'test_mse_linreg': 23990686935.699535, 'test_mse_baseline': 24266214402.631, 'best_glm_params': {'degree': 1, 'lambda': 100}, 'test_mse_glm': 22185998345.65432}, {'outer_fold': 7, 'best_h': 32, 'test_mse_ann': 44588505.24343255, 'best_lambda': 10000, 'test_mse_linreg': 16096162.094796967, 'test_mse_baseline': 31316370.96052955, 'best_glm_params': {'degree': 1, 'lambda': 100}, 'test_mse_glm': 6991634.802984196}, {'outer_fold': 8, 'best_h': 32, 'test_mse_ann': 48565900.009528525, 'best_lambda': 10000, 'test_mse_linreg': 44253549.081711926, 'test_mse_baseline': 72418969.15177196, 'best_glm_params': {'degree': 1, 'lambda': 100}, 'test_mse_glm': 15132567.82399151}, {'outer_fold': 9, 'best_h': 32, 'test_mse_ann': 1052321471.979801, 'best_lambda': 10000, 'test_mse_linreg': 13936582821.008394, 'test_mse_baseline': 14030180863.852722, 'best_glm_params': {'degree': 1, 'lambda': 100}, 'test_mse_glm': 13223322693.528929}, {'outer_fold': 10, 'best_h': 32, 'test_mse_ann': 3433576578.7524433, 'best_lambda': 10000, 'test_mse_linreg': 15359866881.837797, 'test_mse_baseline': 15530807633.168636, 'best_glm_params': {'degree': 1, 'lambda': 100}, 'test_mse_glm': 14318695005.631943}, {'outer_fold': 1, 'best_h': 32, 'test_mse_ann': 51437064.51811056, 'best_lambda': 10000, 'test_mse_linreg': 19643148183.13463, 'test_mse_baseline': 19864679985.78159, 'best_glm_params': {'degree': 1, 'lambda': 10000}, 'test_mse_glm': 19643148183.13463}]\n"
     ]
    },
    {
     "name": "stderr",
     "output_type": "stream",
     "text": [
      "ANN Tuning: 100%|██████████| 6/6 [01:27<00:00, 14.64s/it]\n",
      "Linear Regression Tuning: 100%|██████████| 6/6 [00:00<00:00, 29.67it/s]\n",
      "GLM Tuning: 100%|██████████| 3/3 [03:32<00:00, 70.84s/it]\n",
      "Outer CV: 2it [09:59, 300.28s/it]"
     ]
    },
    {
     "name": "stdout",
     "output_type": "stream",
     "text": [
      "[{'outer_fold': 1, 'best_h': 32, 'test_mse_ann': 738775384.165011, 'best_lambda': 10000, 'test_mse_linreg': 19643148183.13463, 'test_mse_baseline': 19864679985.78159}, {'outer_fold': 2, 'best_h': 32, 'test_mse_ann': 14262217148.607422, 'best_lambda': 10000, 'test_mse_linreg': 16709188939.313482, 'test_mse_baseline': 16806352404.63012}, {'outer_fold': 3, 'best_h': 32, 'test_mse_ann': 73573934.93377702, 'best_lambda': 10000, 'test_mse_linreg': 23991725642.129875, 'test_mse_baseline': 24268767874.281}, {'outer_fold': 4, 'best_h': 32, 'test_mse_ann': 22195685982.575184, 'best_lambda': 10000, 'test_mse_linreg': 41112373598.84125, 'test_mse_baseline': 41391200795.43109}, {'outer_fold': 5, 'best_h': 32, 'test_mse_ann': 32874327.04789609, 'best_lambda': 10000, 'test_mse_linreg': 30360551.52572315, 'test_mse_baseline': 50637469.84446768}, {'outer_fold': 6, 'best_h': 32, 'test_mse_ann': 53125658.79258171, 'best_lambda': 10000, 'test_mse_linreg': 23990686935.699535, 'test_mse_baseline': 24266214402.631}, {'outer_fold': 7, 'best_h': 32, 'test_mse_ann': 40703759.34066733, 'best_lambda': 10000, 'test_mse_linreg': 16096162.094796967, 'test_mse_baseline': 31316370.96052955}, {'outer_fold': 8, 'best_h': 32, 'test_mse_ann': 39693048.147885635, 'best_lambda': 10000, 'test_mse_linreg': 44253549.081711926, 'test_mse_baseline': 72418969.15177196}, {'outer_fold': 9, 'best_h': 32, 'test_mse_ann': 1456824601.3822527, 'best_lambda': 10000, 'test_mse_linreg': 13936582821.008394, 'test_mse_baseline': 14030180863.852722}, {'outer_fold': 10, 'best_h': 32, 'test_mse_ann': 3406445976.2998276, 'best_lambda': 10000, 'test_mse_linreg': 15359866881.837797, 'test_mse_baseline': 15530807633.168636}, {'outer_fold': 1, 'best_h': 32, 'test_mse_ann': 48803569.48140842, 'best_lambda': 10000, 'test_mse_linreg': 19643148183.13463, 'test_mse_baseline': 19864679985.78159, 'best_glm_params': {'degree': 1, 'lambda': 100}, 'test_mse_glm': 18292912529.515217}, {'outer_fold': 2, 'best_h': 32, 'test_mse_ann': 12924239250.812452, 'best_lambda': 10000, 'test_mse_linreg': 16709188939.313482, 'test_mse_baseline': 16806352404.63012, 'best_glm_params': {'degree': 1, 'lambda': 100}, 'test_mse_glm': 16127243159.654833}, {'outer_fold': 3, 'best_h': 32, 'test_mse_ann': 183049110.51320037, 'best_lambda': 10000, 'test_mse_linreg': 23991725642.129875, 'test_mse_baseline': 24268767874.281, 'best_glm_params': {'degree': 1, 'lambda': 100}, 'test_mse_glm': 22240826857.664154}, {'outer_fold': 4, 'best_h': 32, 'test_mse_ann': 19026312948.563522, 'best_lambda': 10000, 'test_mse_linreg': 41112373598.84125, 'test_mse_baseline': 41391200795.43109, 'best_glm_params': {'degree': 1, 'lambda': 100}, 'test_mse_glm': 39667074513.652916}, {'outer_fold': 5, 'best_h': 32, 'test_mse_ann': 19573163.732484322, 'best_lambda': 10000, 'test_mse_linreg': 30360551.52572315, 'test_mse_baseline': 50637469.84446768, 'best_glm_params': {'degree': 1, 'lambda': 100}, 'test_mse_glm': 10304949.98203716}, {'outer_fold': 6, 'best_h': 32, 'test_mse_ann': 86746154.46036638, 'best_lambda': 10000, 'test_mse_linreg': 23990686935.699535, 'test_mse_baseline': 24266214402.631, 'best_glm_params': {'degree': 1, 'lambda': 100}, 'test_mse_glm': 22185998345.65432}, {'outer_fold': 7, 'best_h': 32, 'test_mse_ann': 44588505.24343255, 'best_lambda': 10000, 'test_mse_linreg': 16096162.094796967, 'test_mse_baseline': 31316370.96052955, 'best_glm_params': {'degree': 1, 'lambda': 100}, 'test_mse_glm': 6991634.802984196}, {'outer_fold': 8, 'best_h': 32, 'test_mse_ann': 48565900.009528525, 'best_lambda': 10000, 'test_mse_linreg': 44253549.081711926, 'test_mse_baseline': 72418969.15177196, 'best_glm_params': {'degree': 1, 'lambda': 100}, 'test_mse_glm': 15132567.82399151}, {'outer_fold': 9, 'best_h': 32, 'test_mse_ann': 1052321471.979801, 'best_lambda': 10000, 'test_mse_linreg': 13936582821.008394, 'test_mse_baseline': 14030180863.852722, 'best_glm_params': {'degree': 1, 'lambda': 100}, 'test_mse_glm': 13223322693.528929}, {'outer_fold': 10, 'best_h': 32, 'test_mse_ann': 3433576578.7524433, 'best_lambda': 10000, 'test_mse_linreg': 15359866881.837797, 'test_mse_baseline': 15530807633.168636, 'best_glm_params': {'degree': 1, 'lambda': 100}, 'test_mse_glm': 14318695005.631943}, {'outer_fold': 1, 'best_h': 32, 'test_mse_ann': 51437064.51811056, 'best_lambda': 10000, 'test_mse_linreg': 19643148183.13463, 'test_mse_baseline': 19864679985.78159, 'best_glm_params': {'degree': 1, 'lambda': 10000}, 'test_mse_glm': 19643148183.13463}, {'outer_fold': 2, 'best_h': 32, 'test_mse_ann': 13005094972.814486, 'best_lambda': 10000, 'test_mse_linreg': 16709188939.313482, 'test_mse_baseline': 16806352404.63012, 'best_glm_params': {'degree': 1, 'lambda': 10000}, 'test_mse_glm': 16709188939.313482}]\n"
     ]
    },
    {
     "name": "stderr",
     "output_type": "stream",
     "text": [
      "ANN Tuning: 100%|██████████| 6/6 [01:25<00:00, 14.22s/it]\n",
      "Linear Regression Tuning: 100%|██████████| 6/6 [00:00<00:00, 30.29it/s]\n",
      "GLM Tuning: 100%|██████████| 3/3 [03:20<00:00, 66.89s/it]\n",
      "Outer CV: 3it [14:52, 297.30s/it]"
     ]
    },
    {
     "name": "stdout",
     "output_type": "stream",
     "text": [
      "[{'outer_fold': 1, 'best_h': 32, 'test_mse_ann': 738775384.165011, 'best_lambda': 10000, 'test_mse_linreg': 19643148183.13463, 'test_mse_baseline': 19864679985.78159}, {'outer_fold': 2, 'best_h': 32, 'test_mse_ann': 14262217148.607422, 'best_lambda': 10000, 'test_mse_linreg': 16709188939.313482, 'test_mse_baseline': 16806352404.63012}, {'outer_fold': 3, 'best_h': 32, 'test_mse_ann': 73573934.93377702, 'best_lambda': 10000, 'test_mse_linreg': 23991725642.129875, 'test_mse_baseline': 24268767874.281}, {'outer_fold': 4, 'best_h': 32, 'test_mse_ann': 22195685982.575184, 'best_lambda': 10000, 'test_mse_linreg': 41112373598.84125, 'test_mse_baseline': 41391200795.43109}, {'outer_fold': 5, 'best_h': 32, 'test_mse_ann': 32874327.04789609, 'best_lambda': 10000, 'test_mse_linreg': 30360551.52572315, 'test_mse_baseline': 50637469.84446768}, {'outer_fold': 6, 'best_h': 32, 'test_mse_ann': 53125658.79258171, 'best_lambda': 10000, 'test_mse_linreg': 23990686935.699535, 'test_mse_baseline': 24266214402.631}, {'outer_fold': 7, 'best_h': 32, 'test_mse_ann': 40703759.34066733, 'best_lambda': 10000, 'test_mse_linreg': 16096162.094796967, 'test_mse_baseline': 31316370.96052955}, {'outer_fold': 8, 'best_h': 32, 'test_mse_ann': 39693048.147885635, 'best_lambda': 10000, 'test_mse_linreg': 44253549.081711926, 'test_mse_baseline': 72418969.15177196}, {'outer_fold': 9, 'best_h': 32, 'test_mse_ann': 1456824601.3822527, 'best_lambda': 10000, 'test_mse_linreg': 13936582821.008394, 'test_mse_baseline': 14030180863.852722}, {'outer_fold': 10, 'best_h': 32, 'test_mse_ann': 3406445976.2998276, 'best_lambda': 10000, 'test_mse_linreg': 15359866881.837797, 'test_mse_baseline': 15530807633.168636}, {'outer_fold': 1, 'best_h': 32, 'test_mse_ann': 48803569.48140842, 'best_lambda': 10000, 'test_mse_linreg': 19643148183.13463, 'test_mse_baseline': 19864679985.78159, 'best_glm_params': {'degree': 1, 'lambda': 100}, 'test_mse_glm': 18292912529.515217}, {'outer_fold': 2, 'best_h': 32, 'test_mse_ann': 12924239250.812452, 'best_lambda': 10000, 'test_mse_linreg': 16709188939.313482, 'test_mse_baseline': 16806352404.63012, 'best_glm_params': {'degree': 1, 'lambda': 100}, 'test_mse_glm': 16127243159.654833}, {'outer_fold': 3, 'best_h': 32, 'test_mse_ann': 183049110.51320037, 'best_lambda': 10000, 'test_mse_linreg': 23991725642.129875, 'test_mse_baseline': 24268767874.281, 'best_glm_params': {'degree': 1, 'lambda': 100}, 'test_mse_glm': 22240826857.664154}, {'outer_fold': 4, 'best_h': 32, 'test_mse_ann': 19026312948.563522, 'best_lambda': 10000, 'test_mse_linreg': 41112373598.84125, 'test_mse_baseline': 41391200795.43109, 'best_glm_params': {'degree': 1, 'lambda': 100}, 'test_mse_glm': 39667074513.652916}, {'outer_fold': 5, 'best_h': 32, 'test_mse_ann': 19573163.732484322, 'best_lambda': 10000, 'test_mse_linreg': 30360551.52572315, 'test_mse_baseline': 50637469.84446768, 'best_glm_params': {'degree': 1, 'lambda': 100}, 'test_mse_glm': 10304949.98203716}, {'outer_fold': 6, 'best_h': 32, 'test_mse_ann': 86746154.46036638, 'best_lambda': 10000, 'test_mse_linreg': 23990686935.699535, 'test_mse_baseline': 24266214402.631, 'best_glm_params': {'degree': 1, 'lambda': 100}, 'test_mse_glm': 22185998345.65432}, {'outer_fold': 7, 'best_h': 32, 'test_mse_ann': 44588505.24343255, 'best_lambda': 10000, 'test_mse_linreg': 16096162.094796967, 'test_mse_baseline': 31316370.96052955, 'best_glm_params': {'degree': 1, 'lambda': 100}, 'test_mse_glm': 6991634.802984196}, {'outer_fold': 8, 'best_h': 32, 'test_mse_ann': 48565900.009528525, 'best_lambda': 10000, 'test_mse_linreg': 44253549.081711926, 'test_mse_baseline': 72418969.15177196, 'best_glm_params': {'degree': 1, 'lambda': 100}, 'test_mse_glm': 15132567.82399151}, {'outer_fold': 9, 'best_h': 32, 'test_mse_ann': 1052321471.979801, 'best_lambda': 10000, 'test_mse_linreg': 13936582821.008394, 'test_mse_baseline': 14030180863.852722, 'best_glm_params': {'degree': 1, 'lambda': 100}, 'test_mse_glm': 13223322693.528929}, {'outer_fold': 10, 'best_h': 32, 'test_mse_ann': 3433576578.7524433, 'best_lambda': 10000, 'test_mse_linreg': 15359866881.837797, 'test_mse_baseline': 15530807633.168636, 'best_glm_params': {'degree': 1, 'lambda': 100}, 'test_mse_glm': 14318695005.631943}, {'outer_fold': 1, 'best_h': 32, 'test_mse_ann': 51437064.51811056, 'best_lambda': 10000, 'test_mse_linreg': 19643148183.13463, 'test_mse_baseline': 19864679985.78159, 'best_glm_params': {'degree': 1, 'lambda': 10000}, 'test_mse_glm': 19643148183.13463}, {'outer_fold': 2, 'best_h': 32, 'test_mse_ann': 13005094972.814486, 'best_lambda': 10000, 'test_mse_linreg': 16709188939.313482, 'test_mse_baseline': 16806352404.63012, 'best_glm_params': {'degree': 1, 'lambda': 10000}, 'test_mse_glm': 16709188939.313482}, {'outer_fold': 3, 'best_h': 32, 'test_mse_ann': 211679824.98493686, 'best_lambda': 10000, 'test_mse_linreg': 23991725642.129875, 'test_mse_baseline': 24268767874.281, 'best_glm_params': {'degree': 1, 'lambda': 10000}, 'test_mse_glm': 23991725642.129875}]\n"
     ]
    },
    {
     "name": "stderr",
     "output_type": "stream",
     "text": [
      "ANN Tuning: 100%|██████████| 6/6 [01:21<00:00, 13.61s/it]\n",
      "Linear Regression Tuning: 100%|██████████| 6/6 [00:00<00:00, 33.79it/s]\n",
      "GLM Tuning: 100%|██████████| 3/3 [03:12<00:00, 64.30s/it]\n",
      "Outer CV: 4it [19:34, 291.19s/it]"
     ]
    },
    {
     "name": "stdout",
     "output_type": "stream",
     "text": [
      "[{'outer_fold': 1, 'best_h': 32, 'test_mse_ann': 738775384.165011, 'best_lambda': 10000, 'test_mse_linreg': 19643148183.13463, 'test_mse_baseline': 19864679985.78159}, {'outer_fold': 2, 'best_h': 32, 'test_mse_ann': 14262217148.607422, 'best_lambda': 10000, 'test_mse_linreg': 16709188939.313482, 'test_mse_baseline': 16806352404.63012}, {'outer_fold': 3, 'best_h': 32, 'test_mse_ann': 73573934.93377702, 'best_lambda': 10000, 'test_mse_linreg': 23991725642.129875, 'test_mse_baseline': 24268767874.281}, {'outer_fold': 4, 'best_h': 32, 'test_mse_ann': 22195685982.575184, 'best_lambda': 10000, 'test_mse_linreg': 41112373598.84125, 'test_mse_baseline': 41391200795.43109}, {'outer_fold': 5, 'best_h': 32, 'test_mse_ann': 32874327.04789609, 'best_lambda': 10000, 'test_mse_linreg': 30360551.52572315, 'test_mse_baseline': 50637469.84446768}, {'outer_fold': 6, 'best_h': 32, 'test_mse_ann': 53125658.79258171, 'best_lambda': 10000, 'test_mse_linreg': 23990686935.699535, 'test_mse_baseline': 24266214402.631}, {'outer_fold': 7, 'best_h': 32, 'test_mse_ann': 40703759.34066733, 'best_lambda': 10000, 'test_mse_linreg': 16096162.094796967, 'test_mse_baseline': 31316370.96052955}, {'outer_fold': 8, 'best_h': 32, 'test_mse_ann': 39693048.147885635, 'best_lambda': 10000, 'test_mse_linreg': 44253549.081711926, 'test_mse_baseline': 72418969.15177196}, {'outer_fold': 9, 'best_h': 32, 'test_mse_ann': 1456824601.3822527, 'best_lambda': 10000, 'test_mse_linreg': 13936582821.008394, 'test_mse_baseline': 14030180863.852722}, {'outer_fold': 10, 'best_h': 32, 'test_mse_ann': 3406445976.2998276, 'best_lambda': 10000, 'test_mse_linreg': 15359866881.837797, 'test_mse_baseline': 15530807633.168636}, {'outer_fold': 1, 'best_h': 32, 'test_mse_ann': 48803569.48140842, 'best_lambda': 10000, 'test_mse_linreg': 19643148183.13463, 'test_mse_baseline': 19864679985.78159, 'best_glm_params': {'degree': 1, 'lambda': 100}, 'test_mse_glm': 18292912529.515217}, {'outer_fold': 2, 'best_h': 32, 'test_mse_ann': 12924239250.812452, 'best_lambda': 10000, 'test_mse_linreg': 16709188939.313482, 'test_mse_baseline': 16806352404.63012, 'best_glm_params': {'degree': 1, 'lambda': 100}, 'test_mse_glm': 16127243159.654833}, {'outer_fold': 3, 'best_h': 32, 'test_mse_ann': 183049110.51320037, 'best_lambda': 10000, 'test_mse_linreg': 23991725642.129875, 'test_mse_baseline': 24268767874.281, 'best_glm_params': {'degree': 1, 'lambda': 100}, 'test_mse_glm': 22240826857.664154}, {'outer_fold': 4, 'best_h': 32, 'test_mse_ann': 19026312948.563522, 'best_lambda': 10000, 'test_mse_linreg': 41112373598.84125, 'test_mse_baseline': 41391200795.43109, 'best_glm_params': {'degree': 1, 'lambda': 100}, 'test_mse_glm': 39667074513.652916}, {'outer_fold': 5, 'best_h': 32, 'test_mse_ann': 19573163.732484322, 'best_lambda': 10000, 'test_mse_linreg': 30360551.52572315, 'test_mse_baseline': 50637469.84446768, 'best_glm_params': {'degree': 1, 'lambda': 100}, 'test_mse_glm': 10304949.98203716}, {'outer_fold': 6, 'best_h': 32, 'test_mse_ann': 86746154.46036638, 'best_lambda': 10000, 'test_mse_linreg': 23990686935.699535, 'test_mse_baseline': 24266214402.631, 'best_glm_params': {'degree': 1, 'lambda': 100}, 'test_mse_glm': 22185998345.65432}, {'outer_fold': 7, 'best_h': 32, 'test_mse_ann': 44588505.24343255, 'best_lambda': 10000, 'test_mse_linreg': 16096162.094796967, 'test_mse_baseline': 31316370.96052955, 'best_glm_params': {'degree': 1, 'lambda': 100}, 'test_mse_glm': 6991634.802984196}, {'outer_fold': 8, 'best_h': 32, 'test_mse_ann': 48565900.009528525, 'best_lambda': 10000, 'test_mse_linreg': 44253549.081711926, 'test_mse_baseline': 72418969.15177196, 'best_glm_params': {'degree': 1, 'lambda': 100}, 'test_mse_glm': 15132567.82399151}, {'outer_fold': 9, 'best_h': 32, 'test_mse_ann': 1052321471.979801, 'best_lambda': 10000, 'test_mse_linreg': 13936582821.008394, 'test_mse_baseline': 14030180863.852722, 'best_glm_params': {'degree': 1, 'lambda': 100}, 'test_mse_glm': 13223322693.528929}, {'outer_fold': 10, 'best_h': 32, 'test_mse_ann': 3433576578.7524433, 'best_lambda': 10000, 'test_mse_linreg': 15359866881.837797, 'test_mse_baseline': 15530807633.168636, 'best_glm_params': {'degree': 1, 'lambda': 100}, 'test_mse_glm': 14318695005.631943}, {'outer_fold': 1, 'best_h': 32, 'test_mse_ann': 51437064.51811056, 'best_lambda': 10000, 'test_mse_linreg': 19643148183.13463, 'test_mse_baseline': 19864679985.78159, 'best_glm_params': {'degree': 1, 'lambda': 10000}, 'test_mse_glm': 19643148183.13463}, {'outer_fold': 2, 'best_h': 32, 'test_mse_ann': 13005094972.814486, 'best_lambda': 10000, 'test_mse_linreg': 16709188939.313482, 'test_mse_baseline': 16806352404.63012, 'best_glm_params': {'degree': 1, 'lambda': 10000}, 'test_mse_glm': 16709188939.313482}, {'outer_fold': 3, 'best_h': 32, 'test_mse_ann': 211679824.98493686, 'best_lambda': 10000, 'test_mse_linreg': 23991725642.129875, 'test_mse_baseline': 24268767874.281, 'best_glm_params': {'degree': 1, 'lambda': 10000}, 'test_mse_glm': 23991725642.129875}, {'outer_fold': 4, 'best_h': 32, 'test_mse_ann': 18982380061.41908, 'best_lambda': 10000, 'test_mse_linreg': 41112373598.84125, 'test_mse_baseline': 41391200795.43109, 'best_glm_params': {'degree': 1, 'lambda': 10000}, 'test_mse_glm': 41112373598.84125}]\n"
     ]
    },
    {
     "name": "stderr",
     "output_type": "stream",
     "text": [
      "ANN Tuning: 100%|██████████| 6/6 [01:23<00:00, 13.91s/it]\n",
      "Linear Regression Tuning: 100%|██████████| 6/6 [00:00<00:00, 35.36it/s]\n",
      "GLM Tuning: 100%|██████████| 3/3 [03:16<00:00, 65.64s/it]\n",
      "Outer CV: 5it [24:19, 289.05s/it]"
     ]
    },
    {
     "name": "stdout",
     "output_type": "stream",
     "text": [
      "[{'outer_fold': 1, 'best_h': 32, 'test_mse_ann': 738775384.165011, 'best_lambda': 10000, 'test_mse_linreg': 19643148183.13463, 'test_mse_baseline': 19864679985.78159}, {'outer_fold': 2, 'best_h': 32, 'test_mse_ann': 14262217148.607422, 'best_lambda': 10000, 'test_mse_linreg': 16709188939.313482, 'test_mse_baseline': 16806352404.63012}, {'outer_fold': 3, 'best_h': 32, 'test_mse_ann': 73573934.93377702, 'best_lambda': 10000, 'test_mse_linreg': 23991725642.129875, 'test_mse_baseline': 24268767874.281}, {'outer_fold': 4, 'best_h': 32, 'test_mse_ann': 22195685982.575184, 'best_lambda': 10000, 'test_mse_linreg': 41112373598.84125, 'test_mse_baseline': 41391200795.43109}, {'outer_fold': 5, 'best_h': 32, 'test_mse_ann': 32874327.04789609, 'best_lambda': 10000, 'test_mse_linreg': 30360551.52572315, 'test_mse_baseline': 50637469.84446768}, {'outer_fold': 6, 'best_h': 32, 'test_mse_ann': 53125658.79258171, 'best_lambda': 10000, 'test_mse_linreg': 23990686935.699535, 'test_mse_baseline': 24266214402.631}, {'outer_fold': 7, 'best_h': 32, 'test_mse_ann': 40703759.34066733, 'best_lambda': 10000, 'test_mse_linreg': 16096162.094796967, 'test_mse_baseline': 31316370.96052955}, {'outer_fold': 8, 'best_h': 32, 'test_mse_ann': 39693048.147885635, 'best_lambda': 10000, 'test_mse_linreg': 44253549.081711926, 'test_mse_baseline': 72418969.15177196}, {'outer_fold': 9, 'best_h': 32, 'test_mse_ann': 1456824601.3822527, 'best_lambda': 10000, 'test_mse_linreg': 13936582821.008394, 'test_mse_baseline': 14030180863.852722}, {'outer_fold': 10, 'best_h': 32, 'test_mse_ann': 3406445976.2998276, 'best_lambda': 10000, 'test_mse_linreg': 15359866881.837797, 'test_mse_baseline': 15530807633.168636}, {'outer_fold': 1, 'best_h': 32, 'test_mse_ann': 48803569.48140842, 'best_lambda': 10000, 'test_mse_linreg': 19643148183.13463, 'test_mse_baseline': 19864679985.78159, 'best_glm_params': {'degree': 1, 'lambda': 100}, 'test_mse_glm': 18292912529.515217}, {'outer_fold': 2, 'best_h': 32, 'test_mse_ann': 12924239250.812452, 'best_lambda': 10000, 'test_mse_linreg': 16709188939.313482, 'test_mse_baseline': 16806352404.63012, 'best_glm_params': {'degree': 1, 'lambda': 100}, 'test_mse_glm': 16127243159.654833}, {'outer_fold': 3, 'best_h': 32, 'test_mse_ann': 183049110.51320037, 'best_lambda': 10000, 'test_mse_linreg': 23991725642.129875, 'test_mse_baseline': 24268767874.281, 'best_glm_params': {'degree': 1, 'lambda': 100}, 'test_mse_glm': 22240826857.664154}, {'outer_fold': 4, 'best_h': 32, 'test_mse_ann': 19026312948.563522, 'best_lambda': 10000, 'test_mse_linreg': 41112373598.84125, 'test_mse_baseline': 41391200795.43109, 'best_glm_params': {'degree': 1, 'lambda': 100}, 'test_mse_glm': 39667074513.652916}, {'outer_fold': 5, 'best_h': 32, 'test_mse_ann': 19573163.732484322, 'best_lambda': 10000, 'test_mse_linreg': 30360551.52572315, 'test_mse_baseline': 50637469.84446768, 'best_glm_params': {'degree': 1, 'lambda': 100}, 'test_mse_glm': 10304949.98203716}, {'outer_fold': 6, 'best_h': 32, 'test_mse_ann': 86746154.46036638, 'best_lambda': 10000, 'test_mse_linreg': 23990686935.699535, 'test_mse_baseline': 24266214402.631, 'best_glm_params': {'degree': 1, 'lambda': 100}, 'test_mse_glm': 22185998345.65432}, {'outer_fold': 7, 'best_h': 32, 'test_mse_ann': 44588505.24343255, 'best_lambda': 10000, 'test_mse_linreg': 16096162.094796967, 'test_mse_baseline': 31316370.96052955, 'best_glm_params': {'degree': 1, 'lambda': 100}, 'test_mse_glm': 6991634.802984196}, {'outer_fold': 8, 'best_h': 32, 'test_mse_ann': 48565900.009528525, 'best_lambda': 10000, 'test_mse_linreg': 44253549.081711926, 'test_mse_baseline': 72418969.15177196, 'best_glm_params': {'degree': 1, 'lambda': 100}, 'test_mse_glm': 15132567.82399151}, {'outer_fold': 9, 'best_h': 32, 'test_mse_ann': 1052321471.979801, 'best_lambda': 10000, 'test_mse_linreg': 13936582821.008394, 'test_mse_baseline': 14030180863.852722, 'best_glm_params': {'degree': 1, 'lambda': 100}, 'test_mse_glm': 13223322693.528929}, {'outer_fold': 10, 'best_h': 32, 'test_mse_ann': 3433576578.7524433, 'best_lambda': 10000, 'test_mse_linreg': 15359866881.837797, 'test_mse_baseline': 15530807633.168636, 'best_glm_params': {'degree': 1, 'lambda': 100}, 'test_mse_glm': 14318695005.631943}, {'outer_fold': 1, 'best_h': 32, 'test_mse_ann': 51437064.51811056, 'best_lambda': 10000, 'test_mse_linreg': 19643148183.13463, 'test_mse_baseline': 19864679985.78159, 'best_glm_params': {'degree': 1, 'lambda': 10000}, 'test_mse_glm': 19643148183.13463}, {'outer_fold': 2, 'best_h': 32, 'test_mse_ann': 13005094972.814486, 'best_lambda': 10000, 'test_mse_linreg': 16709188939.313482, 'test_mse_baseline': 16806352404.63012, 'best_glm_params': {'degree': 1, 'lambda': 10000}, 'test_mse_glm': 16709188939.313482}, {'outer_fold': 3, 'best_h': 32, 'test_mse_ann': 211679824.98493686, 'best_lambda': 10000, 'test_mse_linreg': 23991725642.129875, 'test_mse_baseline': 24268767874.281, 'best_glm_params': {'degree': 1, 'lambda': 10000}, 'test_mse_glm': 23991725642.129875}, {'outer_fold': 4, 'best_h': 32, 'test_mse_ann': 18982380061.41908, 'best_lambda': 10000, 'test_mse_linreg': 41112373598.84125, 'test_mse_baseline': 41391200795.43109, 'best_glm_params': {'degree': 1, 'lambda': 10000}, 'test_mse_glm': 41112373598.84125}, {'outer_fold': 5, 'best_h': 32, 'test_mse_ann': 29090035.7020648, 'best_lambda': 10000, 'test_mse_linreg': 30360551.52572315, 'test_mse_baseline': 50637469.84446768, 'best_glm_params': {'degree': 1, 'lambda': 10000}, 'test_mse_glm': 30360551.52572315}]\n"
     ]
    },
    {
     "name": "stderr",
     "output_type": "stream",
     "text": [
      "ANN Tuning: 100%|██████████| 6/6 [01:24<00:00, 14.10s/it]\n",
      "Linear Regression Tuning: 100%|██████████| 6/6 [00:00<00:00, 34.82it/s]\n",
      "GLM Tuning: 100%|██████████| 3/3 [15:21<00:00, 307.26s/it]\n",
      "Outer CV: 6it [41:09, 533.99s/it]"
     ]
    },
    {
     "name": "stdout",
     "output_type": "stream",
     "text": [
      "[{'outer_fold': 1, 'best_h': 32, 'test_mse_ann': 738775384.165011, 'best_lambda': 10000, 'test_mse_linreg': 19643148183.13463, 'test_mse_baseline': 19864679985.78159}, {'outer_fold': 2, 'best_h': 32, 'test_mse_ann': 14262217148.607422, 'best_lambda': 10000, 'test_mse_linreg': 16709188939.313482, 'test_mse_baseline': 16806352404.63012}, {'outer_fold': 3, 'best_h': 32, 'test_mse_ann': 73573934.93377702, 'best_lambda': 10000, 'test_mse_linreg': 23991725642.129875, 'test_mse_baseline': 24268767874.281}, {'outer_fold': 4, 'best_h': 32, 'test_mse_ann': 22195685982.575184, 'best_lambda': 10000, 'test_mse_linreg': 41112373598.84125, 'test_mse_baseline': 41391200795.43109}, {'outer_fold': 5, 'best_h': 32, 'test_mse_ann': 32874327.04789609, 'best_lambda': 10000, 'test_mse_linreg': 30360551.52572315, 'test_mse_baseline': 50637469.84446768}, {'outer_fold': 6, 'best_h': 32, 'test_mse_ann': 53125658.79258171, 'best_lambda': 10000, 'test_mse_linreg': 23990686935.699535, 'test_mse_baseline': 24266214402.631}, {'outer_fold': 7, 'best_h': 32, 'test_mse_ann': 40703759.34066733, 'best_lambda': 10000, 'test_mse_linreg': 16096162.094796967, 'test_mse_baseline': 31316370.96052955}, {'outer_fold': 8, 'best_h': 32, 'test_mse_ann': 39693048.147885635, 'best_lambda': 10000, 'test_mse_linreg': 44253549.081711926, 'test_mse_baseline': 72418969.15177196}, {'outer_fold': 9, 'best_h': 32, 'test_mse_ann': 1456824601.3822527, 'best_lambda': 10000, 'test_mse_linreg': 13936582821.008394, 'test_mse_baseline': 14030180863.852722}, {'outer_fold': 10, 'best_h': 32, 'test_mse_ann': 3406445976.2998276, 'best_lambda': 10000, 'test_mse_linreg': 15359866881.837797, 'test_mse_baseline': 15530807633.168636}, {'outer_fold': 1, 'best_h': 32, 'test_mse_ann': 48803569.48140842, 'best_lambda': 10000, 'test_mse_linreg': 19643148183.13463, 'test_mse_baseline': 19864679985.78159, 'best_glm_params': {'degree': 1, 'lambda': 100}, 'test_mse_glm': 18292912529.515217}, {'outer_fold': 2, 'best_h': 32, 'test_mse_ann': 12924239250.812452, 'best_lambda': 10000, 'test_mse_linreg': 16709188939.313482, 'test_mse_baseline': 16806352404.63012, 'best_glm_params': {'degree': 1, 'lambda': 100}, 'test_mse_glm': 16127243159.654833}, {'outer_fold': 3, 'best_h': 32, 'test_mse_ann': 183049110.51320037, 'best_lambda': 10000, 'test_mse_linreg': 23991725642.129875, 'test_mse_baseline': 24268767874.281, 'best_glm_params': {'degree': 1, 'lambda': 100}, 'test_mse_glm': 22240826857.664154}, {'outer_fold': 4, 'best_h': 32, 'test_mse_ann': 19026312948.563522, 'best_lambda': 10000, 'test_mse_linreg': 41112373598.84125, 'test_mse_baseline': 41391200795.43109, 'best_glm_params': {'degree': 1, 'lambda': 100}, 'test_mse_glm': 39667074513.652916}, {'outer_fold': 5, 'best_h': 32, 'test_mse_ann': 19573163.732484322, 'best_lambda': 10000, 'test_mse_linreg': 30360551.52572315, 'test_mse_baseline': 50637469.84446768, 'best_glm_params': {'degree': 1, 'lambda': 100}, 'test_mse_glm': 10304949.98203716}, {'outer_fold': 6, 'best_h': 32, 'test_mse_ann': 86746154.46036638, 'best_lambda': 10000, 'test_mse_linreg': 23990686935.699535, 'test_mse_baseline': 24266214402.631, 'best_glm_params': {'degree': 1, 'lambda': 100}, 'test_mse_glm': 22185998345.65432}, {'outer_fold': 7, 'best_h': 32, 'test_mse_ann': 44588505.24343255, 'best_lambda': 10000, 'test_mse_linreg': 16096162.094796967, 'test_mse_baseline': 31316370.96052955, 'best_glm_params': {'degree': 1, 'lambda': 100}, 'test_mse_glm': 6991634.802984196}, {'outer_fold': 8, 'best_h': 32, 'test_mse_ann': 48565900.009528525, 'best_lambda': 10000, 'test_mse_linreg': 44253549.081711926, 'test_mse_baseline': 72418969.15177196, 'best_glm_params': {'degree': 1, 'lambda': 100}, 'test_mse_glm': 15132567.82399151}, {'outer_fold': 9, 'best_h': 32, 'test_mse_ann': 1052321471.979801, 'best_lambda': 10000, 'test_mse_linreg': 13936582821.008394, 'test_mse_baseline': 14030180863.852722, 'best_glm_params': {'degree': 1, 'lambda': 100}, 'test_mse_glm': 13223322693.528929}, {'outer_fold': 10, 'best_h': 32, 'test_mse_ann': 3433576578.7524433, 'best_lambda': 10000, 'test_mse_linreg': 15359866881.837797, 'test_mse_baseline': 15530807633.168636, 'best_glm_params': {'degree': 1, 'lambda': 100}, 'test_mse_glm': 14318695005.631943}, {'outer_fold': 1, 'best_h': 32, 'test_mse_ann': 51437064.51811056, 'best_lambda': 10000, 'test_mse_linreg': 19643148183.13463, 'test_mse_baseline': 19864679985.78159, 'best_glm_params': {'degree': 1, 'lambda': 10000}, 'test_mse_glm': 19643148183.13463}, {'outer_fold': 2, 'best_h': 32, 'test_mse_ann': 13005094972.814486, 'best_lambda': 10000, 'test_mse_linreg': 16709188939.313482, 'test_mse_baseline': 16806352404.63012, 'best_glm_params': {'degree': 1, 'lambda': 10000}, 'test_mse_glm': 16709188939.313482}, {'outer_fold': 3, 'best_h': 32, 'test_mse_ann': 211679824.98493686, 'best_lambda': 10000, 'test_mse_linreg': 23991725642.129875, 'test_mse_baseline': 24268767874.281, 'best_glm_params': {'degree': 1, 'lambda': 10000}, 'test_mse_glm': 23991725642.129875}, {'outer_fold': 4, 'best_h': 32, 'test_mse_ann': 18982380061.41908, 'best_lambda': 10000, 'test_mse_linreg': 41112373598.84125, 'test_mse_baseline': 41391200795.43109, 'best_glm_params': {'degree': 1, 'lambda': 10000}, 'test_mse_glm': 41112373598.84125}, {'outer_fold': 5, 'best_h': 32, 'test_mse_ann': 29090035.7020648, 'best_lambda': 10000, 'test_mse_linreg': 30360551.52572315, 'test_mse_baseline': 50637469.84446768, 'best_glm_params': {'degree': 1, 'lambda': 10000}, 'test_mse_glm': 30360551.52572315}, {'outer_fold': 6, 'best_h': 32, 'test_mse_ann': 133206137.62347932, 'best_lambda': 10000, 'test_mse_linreg': 23990686935.699535, 'test_mse_baseline': 24266214402.631, 'best_glm_params': {'degree': 1, 'lambda': 10000}, 'test_mse_glm': 23990686935.699535}]\n"
     ]
    },
    {
     "name": "stderr",
     "output_type": "stream",
     "text": [
      "ANN Tuning: 100%|██████████| 6/6 [01:28<00:00, 14.83s/it]\n",
      "Linear Regression Tuning: 100%|██████████| 6/6 [00:00<00:00, 34.42it/s]\n",
      "GLM Tuning: 100%|██████████| 3/3 [03:19<00:00, 66.35s/it]\n",
      "Outer CV: 7it [45:59, 454.35s/it]"
     ]
    },
    {
     "name": "stdout",
     "output_type": "stream",
     "text": [
      "[{'outer_fold': 1, 'best_h': 32, 'test_mse_ann': 738775384.165011, 'best_lambda': 10000, 'test_mse_linreg': 19643148183.13463, 'test_mse_baseline': 19864679985.78159}, {'outer_fold': 2, 'best_h': 32, 'test_mse_ann': 14262217148.607422, 'best_lambda': 10000, 'test_mse_linreg': 16709188939.313482, 'test_mse_baseline': 16806352404.63012}, {'outer_fold': 3, 'best_h': 32, 'test_mse_ann': 73573934.93377702, 'best_lambda': 10000, 'test_mse_linreg': 23991725642.129875, 'test_mse_baseline': 24268767874.281}, {'outer_fold': 4, 'best_h': 32, 'test_mse_ann': 22195685982.575184, 'best_lambda': 10000, 'test_mse_linreg': 41112373598.84125, 'test_mse_baseline': 41391200795.43109}, {'outer_fold': 5, 'best_h': 32, 'test_mse_ann': 32874327.04789609, 'best_lambda': 10000, 'test_mse_linreg': 30360551.52572315, 'test_mse_baseline': 50637469.84446768}, {'outer_fold': 6, 'best_h': 32, 'test_mse_ann': 53125658.79258171, 'best_lambda': 10000, 'test_mse_linreg': 23990686935.699535, 'test_mse_baseline': 24266214402.631}, {'outer_fold': 7, 'best_h': 32, 'test_mse_ann': 40703759.34066733, 'best_lambda': 10000, 'test_mse_linreg': 16096162.094796967, 'test_mse_baseline': 31316370.96052955}, {'outer_fold': 8, 'best_h': 32, 'test_mse_ann': 39693048.147885635, 'best_lambda': 10000, 'test_mse_linreg': 44253549.081711926, 'test_mse_baseline': 72418969.15177196}, {'outer_fold': 9, 'best_h': 32, 'test_mse_ann': 1456824601.3822527, 'best_lambda': 10000, 'test_mse_linreg': 13936582821.008394, 'test_mse_baseline': 14030180863.852722}, {'outer_fold': 10, 'best_h': 32, 'test_mse_ann': 3406445976.2998276, 'best_lambda': 10000, 'test_mse_linreg': 15359866881.837797, 'test_mse_baseline': 15530807633.168636}, {'outer_fold': 1, 'best_h': 32, 'test_mse_ann': 48803569.48140842, 'best_lambda': 10000, 'test_mse_linreg': 19643148183.13463, 'test_mse_baseline': 19864679985.78159, 'best_glm_params': {'degree': 1, 'lambda': 100}, 'test_mse_glm': 18292912529.515217}, {'outer_fold': 2, 'best_h': 32, 'test_mse_ann': 12924239250.812452, 'best_lambda': 10000, 'test_mse_linreg': 16709188939.313482, 'test_mse_baseline': 16806352404.63012, 'best_glm_params': {'degree': 1, 'lambda': 100}, 'test_mse_glm': 16127243159.654833}, {'outer_fold': 3, 'best_h': 32, 'test_mse_ann': 183049110.51320037, 'best_lambda': 10000, 'test_mse_linreg': 23991725642.129875, 'test_mse_baseline': 24268767874.281, 'best_glm_params': {'degree': 1, 'lambda': 100}, 'test_mse_glm': 22240826857.664154}, {'outer_fold': 4, 'best_h': 32, 'test_mse_ann': 19026312948.563522, 'best_lambda': 10000, 'test_mse_linreg': 41112373598.84125, 'test_mse_baseline': 41391200795.43109, 'best_glm_params': {'degree': 1, 'lambda': 100}, 'test_mse_glm': 39667074513.652916}, {'outer_fold': 5, 'best_h': 32, 'test_mse_ann': 19573163.732484322, 'best_lambda': 10000, 'test_mse_linreg': 30360551.52572315, 'test_mse_baseline': 50637469.84446768, 'best_glm_params': {'degree': 1, 'lambda': 100}, 'test_mse_glm': 10304949.98203716}, {'outer_fold': 6, 'best_h': 32, 'test_mse_ann': 86746154.46036638, 'best_lambda': 10000, 'test_mse_linreg': 23990686935.699535, 'test_mse_baseline': 24266214402.631, 'best_glm_params': {'degree': 1, 'lambda': 100}, 'test_mse_glm': 22185998345.65432}, {'outer_fold': 7, 'best_h': 32, 'test_mse_ann': 44588505.24343255, 'best_lambda': 10000, 'test_mse_linreg': 16096162.094796967, 'test_mse_baseline': 31316370.96052955, 'best_glm_params': {'degree': 1, 'lambda': 100}, 'test_mse_glm': 6991634.802984196}, {'outer_fold': 8, 'best_h': 32, 'test_mse_ann': 48565900.009528525, 'best_lambda': 10000, 'test_mse_linreg': 44253549.081711926, 'test_mse_baseline': 72418969.15177196, 'best_glm_params': {'degree': 1, 'lambda': 100}, 'test_mse_glm': 15132567.82399151}, {'outer_fold': 9, 'best_h': 32, 'test_mse_ann': 1052321471.979801, 'best_lambda': 10000, 'test_mse_linreg': 13936582821.008394, 'test_mse_baseline': 14030180863.852722, 'best_glm_params': {'degree': 1, 'lambda': 100}, 'test_mse_glm': 13223322693.528929}, {'outer_fold': 10, 'best_h': 32, 'test_mse_ann': 3433576578.7524433, 'best_lambda': 10000, 'test_mse_linreg': 15359866881.837797, 'test_mse_baseline': 15530807633.168636, 'best_glm_params': {'degree': 1, 'lambda': 100}, 'test_mse_glm': 14318695005.631943}, {'outer_fold': 1, 'best_h': 32, 'test_mse_ann': 51437064.51811056, 'best_lambda': 10000, 'test_mse_linreg': 19643148183.13463, 'test_mse_baseline': 19864679985.78159, 'best_glm_params': {'degree': 1, 'lambda': 10000}, 'test_mse_glm': 19643148183.13463}, {'outer_fold': 2, 'best_h': 32, 'test_mse_ann': 13005094972.814486, 'best_lambda': 10000, 'test_mse_linreg': 16709188939.313482, 'test_mse_baseline': 16806352404.63012, 'best_glm_params': {'degree': 1, 'lambda': 10000}, 'test_mse_glm': 16709188939.313482}, {'outer_fold': 3, 'best_h': 32, 'test_mse_ann': 211679824.98493686, 'best_lambda': 10000, 'test_mse_linreg': 23991725642.129875, 'test_mse_baseline': 24268767874.281, 'best_glm_params': {'degree': 1, 'lambda': 10000}, 'test_mse_glm': 23991725642.129875}, {'outer_fold': 4, 'best_h': 32, 'test_mse_ann': 18982380061.41908, 'best_lambda': 10000, 'test_mse_linreg': 41112373598.84125, 'test_mse_baseline': 41391200795.43109, 'best_glm_params': {'degree': 1, 'lambda': 10000}, 'test_mse_glm': 41112373598.84125}, {'outer_fold': 5, 'best_h': 32, 'test_mse_ann': 29090035.7020648, 'best_lambda': 10000, 'test_mse_linreg': 30360551.52572315, 'test_mse_baseline': 50637469.84446768, 'best_glm_params': {'degree': 1, 'lambda': 10000}, 'test_mse_glm': 30360551.52572315}, {'outer_fold': 6, 'best_h': 32, 'test_mse_ann': 133206137.62347932, 'best_lambda': 10000, 'test_mse_linreg': 23990686935.699535, 'test_mse_baseline': 24266214402.631, 'best_glm_params': {'degree': 1, 'lambda': 10000}, 'test_mse_glm': 23990686935.699535}, {'outer_fold': 7, 'best_h': 32, 'test_mse_ann': 35140721.663824625, 'best_lambda': 10000, 'test_mse_linreg': 16096162.094796967, 'test_mse_baseline': 31316370.96052955, 'best_glm_params': {'degree': 1, 'lambda': 10000}, 'test_mse_glm': 16096162.094796967}]\n"
     ]
    },
    {
     "name": "stderr",
     "output_type": "stream",
     "text": [
      "ANN Tuning: 100%|██████████| 6/6 [01:22<00:00, 13.83s/it]\n",
      "Linear Regression Tuning: 100%|██████████| 6/6 [00:00<00:00, 33.76it/s]\n",
      "GLM Tuning: 100%|██████████| 3/3 [03:47<00:00, 75.74s/it] \n",
      "Outer CV: 8it [51:13, 409.55s/it]"
     ]
    },
    {
     "name": "stdout",
     "output_type": "stream",
     "text": [
      "[{'outer_fold': 1, 'best_h': 32, 'test_mse_ann': 738775384.165011, 'best_lambda': 10000, 'test_mse_linreg': 19643148183.13463, 'test_mse_baseline': 19864679985.78159}, {'outer_fold': 2, 'best_h': 32, 'test_mse_ann': 14262217148.607422, 'best_lambda': 10000, 'test_mse_linreg': 16709188939.313482, 'test_mse_baseline': 16806352404.63012}, {'outer_fold': 3, 'best_h': 32, 'test_mse_ann': 73573934.93377702, 'best_lambda': 10000, 'test_mse_linreg': 23991725642.129875, 'test_mse_baseline': 24268767874.281}, {'outer_fold': 4, 'best_h': 32, 'test_mse_ann': 22195685982.575184, 'best_lambda': 10000, 'test_mse_linreg': 41112373598.84125, 'test_mse_baseline': 41391200795.43109}, {'outer_fold': 5, 'best_h': 32, 'test_mse_ann': 32874327.04789609, 'best_lambda': 10000, 'test_mse_linreg': 30360551.52572315, 'test_mse_baseline': 50637469.84446768}, {'outer_fold': 6, 'best_h': 32, 'test_mse_ann': 53125658.79258171, 'best_lambda': 10000, 'test_mse_linreg': 23990686935.699535, 'test_mse_baseline': 24266214402.631}, {'outer_fold': 7, 'best_h': 32, 'test_mse_ann': 40703759.34066733, 'best_lambda': 10000, 'test_mse_linreg': 16096162.094796967, 'test_mse_baseline': 31316370.96052955}, {'outer_fold': 8, 'best_h': 32, 'test_mse_ann': 39693048.147885635, 'best_lambda': 10000, 'test_mse_linreg': 44253549.081711926, 'test_mse_baseline': 72418969.15177196}, {'outer_fold': 9, 'best_h': 32, 'test_mse_ann': 1456824601.3822527, 'best_lambda': 10000, 'test_mse_linreg': 13936582821.008394, 'test_mse_baseline': 14030180863.852722}, {'outer_fold': 10, 'best_h': 32, 'test_mse_ann': 3406445976.2998276, 'best_lambda': 10000, 'test_mse_linreg': 15359866881.837797, 'test_mse_baseline': 15530807633.168636}, {'outer_fold': 1, 'best_h': 32, 'test_mse_ann': 48803569.48140842, 'best_lambda': 10000, 'test_mse_linreg': 19643148183.13463, 'test_mse_baseline': 19864679985.78159, 'best_glm_params': {'degree': 1, 'lambda': 100}, 'test_mse_glm': 18292912529.515217}, {'outer_fold': 2, 'best_h': 32, 'test_mse_ann': 12924239250.812452, 'best_lambda': 10000, 'test_mse_linreg': 16709188939.313482, 'test_mse_baseline': 16806352404.63012, 'best_glm_params': {'degree': 1, 'lambda': 100}, 'test_mse_glm': 16127243159.654833}, {'outer_fold': 3, 'best_h': 32, 'test_mse_ann': 183049110.51320037, 'best_lambda': 10000, 'test_mse_linreg': 23991725642.129875, 'test_mse_baseline': 24268767874.281, 'best_glm_params': {'degree': 1, 'lambda': 100}, 'test_mse_glm': 22240826857.664154}, {'outer_fold': 4, 'best_h': 32, 'test_mse_ann': 19026312948.563522, 'best_lambda': 10000, 'test_mse_linreg': 41112373598.84125, 'test_mse_baseline': 41391200795.43109, 'best_glm_params': {'degree': 1, 'lambda': 100}, 'test_mse_glm': 39667074513.652916}, {'outer_fold': 5, 'best_h': 32, 'test_mse_ann': 19573163.732484322, 'best_lambda': 10000, 'test_mse_linreg': 30360551.52572315, 'test_mse_baseline': 50637469.84446768, 'best_glm_params': {'degree': 1, 'lambda': 100}, 'test_mse_glm': 10304949.98203716}, {'outer_fold': 6, 'best_h': 32, 'test_mse_ann': 86746154.46036638, 'best_lambda': 10000, 'test_mse_linreg': 23990686935.699535, 'test_mse_baseline': 24266214402.631, 'best_glm_params': {'degree': 1, 'lambda': 100}, 'test_mse_glm': 22185998345.65432}, {'outer_fold': 7, 'best_h': 32, 'test_mse_ann': 44588505.24343255, 'best_lambda': 10000, 'test_mse_linreg': 16096162.094796967, 'test_mse_baseline': 31316370.96052955, 'best_glm_params': {'degree': 1, 'lambda': 100}, 'test_mse_glm': 6991634.802984196}, {'outer_fold': 8, 'best_h': 32, 'test_mse_ann': 48565900.009528525, 'best_lambda': 10000, 'test_mse_linreg': 44253549.081711926, 'test_mse_baseline': 72418969.15177196, 'best_glm_params': {'degree': 1, 'lambda': 100}, 'test_mse_glm': 15132567.82399151}, {'outer_fold': 9, 'best_h': 32, 'test_mse_ann': 1052321471.979801, 'best_lambda': 10000, 'test_mse_linreg': 13936582821.008394, 'test_mse_baseline': 14030180863.852722, 'best_glm_params': {'degree': 1, 'lambda': 100}, 'test_mse_glm': 13223322693.528929}, {'outer_fold': 10, 'best_h': 32, 'test_mse_ann': 3433576578.7524433, 'best_lambda': 10000, 'test_mse_linreg': 15359866881.837797, 'test_mse_baseline': 15530807633.168636, 'best_glm_params': {'degree': 1, 'lambda': 100}, 'test_mse_glm': 14318695005.631943}, {'outer_fold': 1, 'best_h': 32, 'test_mse_ann': 51437064.51811056, 'best_lambda': 10000, 'test_mse_linreg': 19643148183.13463, 'test_mse_baseline': 19864679985.78159, 'best_glm_params': {'degree': 1, 'lambda': 10000}, 'test_mse_glm': 19643148183.13463}, {'outer_fold': 2, 'best_h': 32, 'test_mse_ann': 13005094972.814486, 'best_lambda': 10000, 'test_mse_linreg': 16709188939.313482, 'test_mse_baseline': 16806352404.63012, 'best_glm_params': {'degree': 1, 'lambda': 10000}, 'test_mse_glm': 16709188939.313482}, {'outer_fold': 3, 'best_h': 32, 'test_mse_ann': 211679824.98493686, 'best_lambda': 10000, 'test_mse_linreg': 23991725642.129875, 'test_mse_baseline': 24268767874.281, 'best_glm_params': {'degree': 1, 'lambda': 10000}, 'test_mse_glm': 23991725642.129875}, {'outer_fold': 4, 'best_h': 32, 'test_mse_ann': 18982380061.41908, 'best_lambda': 10000, 'test_mse_linreg': 41112373598.84125, 'test_mse_baseline': 41391200795.43109, 'best_glm_params': {'degree': 1, 'lambda': 10000}, 'test_mse_glm': 41112373598.84125}, {'outer_fold': 5, 'best_h': 32, 'test_mse_ann': 29090035.7020648, 'best_lambda': 10000, 'test_mse_linreg': 30360551.52572315, 'test_mse_baseline': 50637469.84446768, 'best_glm_params': {'degree': 1, 'lambda': 10000}, 'test_mse_glm': 30360551.52572315}, {'outer_fold': 6, 'best_h': 32, 'test_mse_ann': 133206137.62347932, 'best_lambda': 10000, 'test_mse_linreg': 23990686935.699535, 'test_mse_baseline': 24266214402.631, 'best_glm_params': {'degree': 1, 'lambda': 10000}, 'test_mse_glm': 23990686935.699535}, {'outer_fold': 7, 'best_h': 32, 'test_mse_ann': 35140721.663824625, 'best_lambda': 10000, 'test_mse_linreg': 16096162.094796967, 'test_mse_baseline': 31316370.96052955, 'best_glm_params': {'degree': 1, 'lambda': 10000}, 'test_mse_glm': 16096162.094796967}, {'outer_fold': 8, 'best_h': 32, 'test_mse_ann': 53070689.92783417, 'best_lambda': 10000, 'test_mse_linreg': 44253549.081711926, 'test_mse_baseline': 72418969.15177196, 'best_glm_params': {'degree': 1, 'lambda': 10000}, 'test_mse_glm': 44253549.081711926}]\n"
     ]
    },
    {
     "name": "stderr",
     "output_type": "stream",
     "text": [
      "ANN Tuning: 100%|██████████| 6/6 [01:25<00:00, 14.19s/it]\n",
      "Linear Regression Tuning: 100%|██████████| 6/6 [00:00<00:00, 32.48it/s]\n",
      "GLM Tuning: 100%|██████████| 3/3 [03:26<00:00, 68.88s/it]\n",
      "Outer CV: 9it [56:08, 373.78s/it]"
     ]
    },
    {
     "name": "stdout",
     "output_type": "stream",
     "text": [
      "[{'outer_fold': 1, 'best_h': 32, 'test_mse_ann': 738775384.165011, 'best_lambda': 10000, 'test_mse_linreg': 19643148183.13463, 'test_mse_baseline': 19864679985.78159}, {'outer_fold': 2, 'best_h': 32, 'test_mse_ann': 14262217148.607422, 'best_lambda': 10000, 'test_mse_linreg': 16709188939.313482, 'test_mse_baseline': 16806352404.63012}, {'outer_fold': 3, 'best_h': 32, 'test_mse_ann': 73573934.93377702, 'best_lambda': 10000, 'test_mse_linreg': 23991725642.129875, 'test_mse_baseline': 24268767874.281}, {'outer_fold': 4, 'best_h': 32, 'test_mse_ann': 22195685982.575184, 'best_lambda': 10000, 'test_mse_linreg': 41112373598.84125, 'test_mse_baseline': 41391200795.43109}, {'outer_fold': 5, 'best_h': 32, 'test_mse_ann': 32874327.04789609, 'best_lambda': 10000, 'test_mse_linreg': 30360551.52572315, 'test_mse_baseline': 50637469.84446768}, {'outer_fold': 6, 'best_h': 32, 'test_mse_ann': 53125658.79258171, 'best_lambda': 10000, 'test_mse_linreg': 23990686935.699535, 'test_mse_baseline': 24266214402.631}, {'outer_fold': 7, 'best_h': 32, 'test_mse_ann': 40703759.34066733, 'best_lambda': 10000, 'test_mse_linreg': 16096162.094796967, 'test_mse_baseline': 31316370.96052955}, {'outer_fold': 8, 'best_h': 32, 'test_mse_ann': 39693048.147885635, 'best_lambda': 10000, 'test_mse_linreg': 44253549.081711926, 'test_mse_baseline': 72418969.15177196}, {'outer_fold': 9, 'best_h': 32, 'test_mse_ann': 1456824601.3822527, 'best_lambda': 10000, 'test_mse_linreg': 13936582821.008394, 'test_mse_baseline': 14030180863.852722}, {'outer_fold': 10, 'best_h': 32, 'test_mse_ann': 3406445976.2998276, 'best_lambda': 10000, 'test_mse_linreg': 15359866881.837797, 'test_mse_baseline': 15530807633.168636}, {'outer_fold': 1, 'best_h': 32, 'test_mse_ann': 48803569.48140842, 'best_lambda': 10000, 'test_mse_linreg': 19643148183.13463, 'test_mse_baseline': 19864679985.78159, 'best_glm_params': {'degree': 1, 'lambda': 100}, 'test_mse_glm': 18292912529.515217}, {'outer_fold': 2, 'best_h': 32, 'test_mse_ann': 12924239250.812452, 'best_lambda': 10000, 'test_mse_linreg': 16709188939.313482, 'test_mse_baseline': 16806352404.63012, 'best_glm_params': {'degree': 1, 'lambda': 100}, 'test_mse_glm': 16127243159.654833}, {'outer_fold': 3, 'best_h': 32, 'test_mse_ann': 183049110.51320037, 'best_lambda': 10000, 'test_mse_linreg': 23991725642.129875, 'test_mse_baseline': 24268767874.281, 'best_glm_params': {'degree': 1, 'lambda': 100}, 'test_mse_glm': 22240826857.664154}, {'outer_fold': 4, 'best_h': 32, 'test_mse_ann': 19026312948.563522, 'best_lambda': 10000, 'test_mse_linreg': 41112373598.84125, 'test_mse_baseline': 41391200795.43109, 'best_glm_params': {'degree': 1, 'lambda': 100}, 'test_mse_glm': 39667074513.652916}, {'outer_fold': 5, 'best_h': 32, 'test_mse_ann': 19573163.732484322, 'best_lambda': 10000, 'test_mse_linreg': 30360551.52572315, 'test_mse_baseline': 50637469.84446768, 'best_glm_params': {'degree': 1, 'lambda': 100}, 'test_mse_glm': 10304949.98203716}, {'outer_fold': 6, 'best_h': 32, 'test_mse_ann': 86746154.46036638, 'best_lambda': 10000, 'test_mse_linreg': 23990686935.699535, 'test_mse_baseline': 24266214402.631, 'best_glm_params': {'degree': 1, 'lambda': 100}, 'test_mse_glm': 22185998345.65432}, {'outer_fold': 7, 'best_h': 32, 'test_mse_ann': 44588505.24343255, 'best_lambda': 10000, 'test_mse_linreg': 16096162.094796967, 'test_mse_baseline': 31316370.96052955, 'best_glm_params': {'degree': 1, 'lambda': 100}, 'test_mse_glm': 6991634.802984196}, {'outer_fold': 8, 'best_h': 32, 'test_mse_ann': 48565900.009528525, 'best_lambda': 10000, 'test_mse_linreg': 44253549.081711926, 'test_mse_baseline': 72418969.15177196, 'best_glm_params': {'degree': 1, 'lambda': 100}, 'test_mse_glm': 15132567.82399151}, {'outer_fold': 9, 'best_h': 32, 'test_mse_ann': 1052321471.979801, 'best_lambda': 10000, 'test_mse_linreg': 13936582821.008394, 'test_mse_baseline': 14030180863.852722, 'best_glm_params': {'degree': 1, 'lambda': 100}, 'test_mse_glm': 13223322693.528929}, {'outer_fold': 10, 'best_h': 32, 'test_mse_ann': 3433576578.7524433, 'best_lambda': 10000, 'test_mse_linreg': 15359866881.837797, 'test_mse_baseline': 15530807633.168636, 'best_glm_params': {'degree': 1, 'lambda': 100}, 'test_mse_glm': 14318695005.631943}, {'outer_fold': 1, 'best_h': 32, 'test_mse_ann': 51437064.51811056, 'best_lambda': 10000, 'test_mse_linreg': 19643148183.13463, 'test_mse_baseline': 19864679985.78159, 'best_glm_params': {'degree': 1, 'lambda': 10000}, 'test_mse_glm': 19643148183.13463}, {'outer_fold': 2, 'best_h': 32, 'test_mse_ann': 13005094972.814486, 'best_lambda': 10000, 'test_mse_linreg': 16709188939.313482, 'test_mse_baseline': 16806352404.63012, 'best_glm_params': {'degree': 1, 'lambda': 10000}, 'test_mse_glm': 16709188939.313482}, {'outer_fold': 3, 'best_h': 32, 'test_mse_ann': 211679824.98493686, 'best_lambda': 10000, 'test_mse_linreg': 23991725642.129875, 'test_mse_baseline': 24268767874.281, 'best_glm_params': {'degree': 1, 'lambda': 10000}, 'test_mse_glm': 23991725642.129875}, {'outer_fold': 4, 'best_h': 32, 'test_mse_ann': 18982380061.41908, 'best_lambda': 10000, 'test_mse_linreg': 41112373598.84125, 'test_mse_baseline': 41391200795.43109, 'best_glm_params': {'degree': 1, 'lambda': 10000}, 'test_mse_glm': 41112373598.84125}, {'outer_fold': 5, 'best_h': 32, 'test_mse_ann': 29090035.7020648, 'best_lambda': 10000, 'test_mse_linreg': 30360551.52572315, 'test_mse_baseline': 50637469.84446768, 'best_glm_params': {'degree': 1, 'lambda': 10000}, 'test_mse_glm': 30360551.52572315}, {'outer_fold': 6, 'best_h': 32, 'test_mse_ann': 133206137.62347932, 'best_lambda': 10000, 'test_mse_linreg': 23990686935.699535, 'test_mse_baseline': 24266214402.631, 'best_glm_params': {'degree': 1, 'lambda': 10000}, 'test_mse_glm': 23990686935.699535}, {'outer_fold': 7, 'best_h': 32, 'test_mse_ann': 35140721.663824625, 'best_lambda': 10000, 'test_mse_linreg': 16096162.094796967, 'test_mse_baseline': 31316370.96052955, 'best_glm_params': {'degree': 1, 'lambda': 10000}, 'test_mse_glm': 16096162.094796967}, {'outer_fold': 8, 'best_h': 32, 'test_mse_ann': 53070689.92783417, 'best_lambda': 10000, 'test_mse_linreg': 44253549.081711926, 'test_mse_baseline': 72418969.15177196, 'best_glm_params': {'degree': 1, 'lambda': 10000}, 'test_mse_glm': 44253549.081711926}, {'outer_fold': 9, 'best_h': 32, 'test_mse_ann': 896254019.6793989, 'best_lambda': 10000, 'test_mse_linreg': 13936582821.008394, 'test_mse_baseline': 14030180863.852722, 'best_glm_params': {'degree': 1, 'lambda': 10000}, 'test_mse_glm': 13936582821.008394}]\n"
     ]
    },
    {
     "name": "stderr",
     "output_type": "stream",
     "text": [
      "ANN Tuning: 100%|██████████| 6/6 [01:29<00:00, 14.94s/it]\n",
      "Linear Regression Tuning: 100%|██████████| 6/6 [00:00<00:00, 32.02it/s]\n",
      "GLM Tuning: 100%|██████████| 3/3 [03:29<00:00, 69.68s/it]\n",
      "Outer CV: 10it [1:01:10, 367.04s/it]"
     ]
    },
    {
     "name": "stdout",
     "output_type": "stream",
     "text": [
      "[{'outer_fold': 1, 'best_h': 32, 'test_mse_ann': 738775384.165011, 'best_lambda': 10000, 'test_mse_linreg': 19643148183.13463, 'test_mse_baseline': 19864679985.78159}, {'outer_fold': 2, 'best_h': 32, 'test_mse_ann': 14262217148.607422, 'best_lambda': 10000, 'test_mse_linreg': 16709188939.313482, 'test_mse_baseline': 16806352404.63012}, {'outer_fold': 3, 'best_h': 32, 'test_mse_ann': 73573934.93377702, 'best_lambda': 10000, 'test_mse_linreg': 23991725642.129875, 'test_mse_baseline': 24268767874.281}, {'outer_fold': 4, 'best_h': 32, 'test_mse_ann': 22195685982.575184, 'best_lambda': 10000, 'test_mse_linreg': 41112373598.84125, 'test_mse_baseline': 41391200795.43109}, {'outer_fold': 5, 'best_h': 32, 'test_mse_ann': 32874327.04789609, 'best_lambda': 10000, 'test_mse_linreg': 30360551.52572315, 'test_mse_baseline': 50637469.84446768}, {'outer_fold': 6, 'best_h': 32, 'test_mse_ann': 53125658.79258171, 'best_lambda': 10000, 'test_mse_linreg': 23990686935.699535, 'test_mse_baseline': 24266214402.631}, {'outer_fold': 7, 'best_h': 32, 'test_mse_ann': 40703759.34066733, 'best_lambda': 10000, 'test_mse_linreg': 16096162.094796967, 'test_mse_baseline': 31316370.96052955}, {'outer_fold': 8, 'best_h': 32, 'test_mse_ann': 39693048.147885635, 'best_lambda': 10000, 'test_mse_linreg': 44253549.081711926, 'test_mse_baseline': 72418969.15177196}, {'outer_fold': 9, 'best_h': 32, 'test_mse_ann': 1456824601.3822527, 'best_lambda': 10000, 'test_mse_linreg': 13936582821.008394, 'test_mse_baseline': 14030180863.852722}, {'outer_fold': 10, 'best_h': 32, 'test_mse_ann': 3406445976.2998276, 'best_lambda': 10000, 'test_mse_linreg': 15359866881.837797, 'test_mse_baseline': 15530807633.168636}, {'outer_fold': 1, 'best_h': 32, 'test_mse_ann': 48803569.48140842, 'best_lambda': 10000, 'test_mse_linreg': 19643148183.13463, 'test_mse_baseline': 19864679985.78159, 'best_glm_params': {'degree': 1, 'lambda': 100}, 'test_mse_glm': 18292912529.515217}, {'outer_fold': 2, 'best_h': 32, 'test_mse_ann': 12924239250.812452, 'best_lambda': 10000, 'test_mse_linreg': 16709188939.313482, 'test_mse_baseline': 16806352404.63012, 'best_glm_params': {'degree': 1, 'lambda': 100}, 'test_mse_glm': 16127243159.654833}, {'outer_fold': 3, 'best_h': 32, 'test_mse_ann': 183049110.51320037, 'best_lambda': 10000, 'test_mse_linreg': 23991725642.129875, 'test_mse_baseline': 24268767874.281, 'best_glm_params': {'degree': 1, 'lambda': 100}, 'test_mse_glm': 22240826857.664154}, {'outer_fold': 4, 'best_h': 32, 'test_mse_ann': 19026312948.563522, 'best_lambda': 10000, 'test_mse_linreg': 41112373598.84125, 'test_mse_baseline': 41391200795.43109, 'best_glm_params': {'degree': 1, 'lambda': 100}, 'test_mse_glm': 39667074513.652916}, {'outer_fold': 5, 'best_h': 32, 'test_mse_ann': 19573163.732484322, 'best_lambda': 10000, 'test_mse_linreg': 30360551.52572315, 'test_mse_baseline': 50637469.84446768, 'best_glm_params': {'degree': 1, 'lambda': 100}, 'test_mse_glm': 10304949.98203716}, {'outer_fold': 6, 'best_h': 32, 'test_mse_ann': 86746154.46036638, 'best_lambda': 10000, 'test_mse_linreg': 23990686935.699535, 'test_mse_baseline': 24266214402.631, 'best_glm_params': {'degree': 1, 'lambda': 100}, 'test_mse_glm': 22185998345.65432}, {'outer_fold': 7, 'best_h': 32, 'test_mse_ann': 44588505.24343255, 'best_lambda': 10000, 'test_mse_linreg': 16096162.094796967, 'test_mse_baseline': 31316370.96052955, 'best_glm_params': {'degree': 1, 'lambda': 100}, 'test_mse_glm': 6991634.802984196}, {'outer_fold': 8, 'best_h': 32, 'test_mse_ann': 48565900.009528525, 'best_lambda': 10000, 'test_mse_linreg': 44253549.081711926, 'test_mse_baseline': 72418969.15177196, 'best_glm_params': {'degree': 1, 'lambda': 100}, 'test_mse_glm': 15132567.82399151}, {'outer_fold': 9, 'best_h': 32, 'test_mse_ann': 1052321471.979801, 'best_lambda': 10000, 'test_mse_linreg': 13936582821.008394, 'test_mse_baseline': 14030180863.852722, 'best_glm_params': {'degree': 1, 'lambda': 100}, 'test_mse_glm': 13223322693.528929}, {'outer_fold': 10, 'best_h': 32, 'test_mse_ann': 3433576578.7524433, 'best_lambda': 10000, 'test_mse_linreg': 15359866881.837797, 'test_mse_baseline': 15530807633.168636, 'best_glm_params': {'degree': 1, 'lambda': 100}, 'test_mse_glm': 14318695005.631943}, {'outer_fold': 1, 'best_h': 32, 'test_mse_ann': 51437064.51811056, 'best_lambda': 10000, 'test_mse_linreg': 19643148183.13463, 'test_mse_baseline': 19864679985.78159, 'best_glm_params': {'degree': 1, 'lambda': 10000}, 'test_mse_glm': 19643148183.13463}, {'outer_fold': 2, 'best_h': 32, 'test_mse_ann': 13005094972.814486, 'best_lambda': 10000, 'test_mse_linreg': 16709188939.313482, 'test_mse_baseline': 16806352404.63012, 'best_glm_params': {'degree': 1, 'lambda': 10000}, 'test_mse_glm': 16709188939.313482}, {'outer_fold': 3, 'best_h': 32, 'test_mse_ann': 211679824.98493686, 'best_lambda': 10000, 'test_mse_linreg': 23991725642.129875, 'test_mse_baseline': 24268767874.281, 'best_glm_params': {'degree': 1, 'lambda': 10000}, 'test_mse_glm': 23991725642.129875}, {'outer_fold': 4, 'best_h': 32, 'test_mse_ann': 18982380061.41908, 'best_lambda': 10000, 'test_mse_linreg': 41112373598.84125, 'test_mse_baseline': 41391200795.43109, 'best_glm_params': {'degree': 1, 'lambda': 10000}, 'test_mse_glm': 41112373598.84125}, {'outer_fold': 5, 'best_h': 32, 'test_mse_ann': 29090035.7020648, 'best_lambda': 10000, 'test_mse_linreg': 30360551.52572315, 'test_mse_baseline': 50637469.84446768, 'best_glm_params': {'degree': 1, 'lambda': 10000}, 'test_mse_glm': 30360551.52572315}, {'outer_fold': 6, 'best_h': 32, 'test_mse_ann': 133206137.62347932, 'best_lambda': 10000, 'test_mse_linreg': 23990686935.699535, 'test_mse_baseline': 24266214402.631, 'best_glm_params': {'degree': 1, 'lambda': 10000}, 'test_mse_glm': 23990686935.699535}, {'outer_fold': 7, 'best_h': 32, 'test_mse_ann': 35140721.663824625, 'best_lambda': 10000, 'test_mse_linreg': 16096162.094796967, 'test_mse_baseline': 31316370.96052955, 'best_glm_params': {'degree': 1, 'lambda': 10000}, 'test_mse_glm': 16096162.094796967}, {'outer_fold': 8, 'best_h': 32, 'test_mse_ann': 53070689.92783417, 'best_lambda': 10000, 'test_mse_linreg': 44253549.081711926, 'test_mse_baseline': 72418969.15177196, 'best_glm_params': {'degree': 1, 'lambda': 10000}, 'test_mse_glm': 44253549.081711926}, {'outer_fold': 9, 'best_h': 32, 'test_mse_ann': 896254019.6793989, 'best_lambda': 10000, 'test_mse_linreg': 13936582821.008394, 'test_mse_baseline': 14030180863.852722, 'best_glm_params': {'degree': 1, 'lambda': 10000}, 'test_mse_glm': 13936582821.008394}, {'outer_fold': 10, 'best_h': 32, 'test_mse_ann': 3472738574.8408346, 'best_lambda': 10000, 'test_mse_linreg': 15359866881.837797, 'test_mse_baseline': 15530807633.168636, 'best_glm_params': {'degree': 1, 'lambda': 10000}, 'test_mse_glm': 15359866881.837797}]\n"
     ]
    },
    {
     "name": "stderr",
     "output_type": "stream",
     "text": [
      "\n"
     ]
    }
   ],
   "source": [
    "# Define polynomial degree and lambda values for GLM\n",
    "poly_degrees = [1, 2, 3]  # 1 for linear interactions, 2 for quadratic interactions\n",
    "glm_lambda_values = [0.1, 1, 10, 100, 1000, 10000]\n",
    "outer_results = []\n",
    "# Outer CV loop\n",
    "for outer_fold, (train_outer_idx, test_outer_idx) in enumerate(tqdm(outer_cv.split(X), desc=\"Outer CV\")):\n",
    "    X_train_outer, X_test_outer = X[train_outer_idx], X[test_outer_idx]\n",
    "    y_train_outer, y_test_outer = y[train_outer_idx], y[test_outer_idx]\n",
    "\n",
    "    # Standardize features based on outer train set\n",
    "    scaler = StandardScaler()\n",
    "    X_train_outer = scaler.fit_transform(X_train_outer)\n",
    "    X_test_outer = scaler.transform(X_test_outer)\n",
    "\n",
    "    # Inner cross-validation for hyperparameter tuning\n",
    "    inner_cv = KFold(n_splits=10, shuffle=True, random_state=42)\n",
    "    \n",
    "    # Initialize placeholders for best models and errors\n",
    "    best_ann_mse, best_linreg_mse, best_glm_mse = float('inf'), float('inf'), float('inf')\n",
    "    best_h, best_lambda, best_glm_params = None, None, None\n",
    "\n",
    "    # ANN tuning\n",
    "    for h in tqdm(hidden_units_values, desc=\"ANN Tuning\"):\n",
    "        ann_mses = []\n",
    "        for train_inner_idx, val_inner_idx in inner_cv.split(X_train_outer):\n",
    "            X_train_inner, X_val_inner = X_train_outer[train_inner_idx], X_train_outer[val_inner_idx]\n",
    "            y_train_inner, y_val_inner = y[train_inner_idx], y[val_inner_idx]\n",
    "\n",
    "            # Define ANN model\n",
    "            model = lambda: nn.Sequential(\n",
    "                nn.Linear(X_train_outer.shape[1], 2 * h),\n",
    "                nn.ReLU(),\n",
    "                nn.Linear(2 * h, h),\n",
    "                nn.ReLU(),\n",
    "                nn.Linear(h, 1),\n",
    "            )\n",
    "            ann_model = model()\n",
    "            criterion = nn.MSELoss()\n",
    "            optimizer = optim.Adam(ann_model.parameters(), lr=0.001)\n",
    "\n",
    "            # Train the model\n",
    "            ann_model.train()\n",
    "            for epoch in range(1000):\n",
    "                optimizer.zero_grad()\n",
    "                outputs = ann_model(torch.tensor(X_train_inner, dtype=torch.float32))\n",
    "                loss = criterion(outputs, torch.tensor(y_train_inner, dtype=torch.float32).view(-1, 1))\n",
    "                loss.backward()\n",
    "                optimizer.step()\n",
    "\n",
    "            # Validate the model\n",
    "            ann_model.eval()\n",
    "            with torch.no_grad():\n",
    "                y_pred_val = ann_model(torch.tensor(X_val_inner, dtype=torch.float32)).numpy()\n",
    "            ann_mse = mean_squared_error(y_val_inner, y_pred_val)\n",
    "            ann_mses.append(ann_mse)\n",
    "\n",
    "        avg_ann_mse = np.mean(ann_mses)\n",
    "        if avg_ann_mse < best_ann_mse:\n",
    "            best_ann_mse = avg_ann_mse\n",
    "            best_h = h\n",
    "\n",
    "    # Linear regression tuning\n",
    "    for lam in tqdm(lambda_values, desc=\"Linear Regression Tuning\"):\n",
    "        linreg_mses = []\n",
    "        for train_inner_idx, val_inner_idx in inner_cv.split(X_train_outer):\n",
    "            X_train_inner, X_val_inner = X_train_outer[train_inner_idx], X_train_outer[val_inner_idx]\n",
    "            y_train_inner, y_val_inner = y[train_inner_idx], y[val_inner_idx]\n",
    "\n",
    "            # Define linear model with regularization\n",
    "            linreg_model = Ridge(alpha=lam)\n",
    "            linreg_model.fit(X_train_inner, y_train_inner)\n",
    "            y_pred_val = linreg_model.predict(X_val_inner)\n",
    "            linreg_mse = mean_squared_error(y_val_inner, y_pred_val)\n",
    "            linreg_mses.append(linreg_mse)\n",
    "\n",
    "        avg_linreg_mse = np.mean(linreg_mses)\n",
    "        if avg_linreg_mse < best_linreg_mse:\n",
    "            best_linreg_mse = avg_linreg_mse\n",
    "            best_lambda = lam\n",
    "\n",
    "\n",
    "    # GLM tuning with cross-join effects\n",
    "    for degree in tqdm(poly_degrees, desc=\"GLM Tuning\"):\n",
    "        for lam in glm_lambda_values:\n",
    "            glm_mses = []\n",
    "            for train_inner_idx, val_inner_idx in inner_cv.split(X_train_outer):\n",
    "                X_train_inner, X_val_inner = X_train_outer[train_inner_idx], X_train_outer[val_inner_idx]\n",
    "                y_train_inner, y_val_inner = y[train_inner_idx], y[val_inner_idx]\n",
    "\n",
    "                # Define GLM model with cross-join interactions\n",
    "                glm_model = make_pipeline(\n",
    "                    PolynomialFeatures(degree=degree, interaction_only=True, include_bias=False),\n",
    "                    Ridge(alpha=lam)\n",
    "                )\n",
    "                glm_model.fit(X_train_inner, y_train_inner)\n",
    "                y_pred_val = glm_model.predict(X_val_inner)\n",
    "                glm_mse = mean_squared_error(y_val_inner, y_pred_val)\n",
    "                glm_mses.append(glm_mse)\n",
    "\n",
    "            avg_glm_mse = np.mean(glm_mses)\n",
    "            if avg_glm_mse < best_glm_mse:\n",
    "                best_glm_mse = avg_glm_mse\n",
    "                best_glm_params = {'degree': degree, 'lambda': lam}\n",
    "\n",
    "    # Train best models from inner loop on the entire outer training set\n",
    "    best_ann_model = lambda: nn.Sequential(\n",
    "                nn.Linear(X_train_outer.shape[1], 2 * best_h),\n",
    "                nn.ReLU(),\n",
    "                nn.Linear(2 * best_h, best_h),\n",
    "                nn.ReLU(),\n",
    "                nn.Linear(best_h, 1),\n",
    "            )\n",
    "    ann_model = best_ann_model()\n",
    "    criterion = nn.MSELoss()\n",
    "    optimizer = optim.Adam(ann_model.parameters(), lr=0.01)\n",
    "    ann_model.train()\n",
    "    for epoch in range(1000):\n",
    "        optimizer.zero_grad()\n",
    "        outputs = ann_model(torch.tensor(X_train_outer, dtype=torch.float32))\n",
    "        loss = criterion(outputs, torch.tensor(y_train_outer, dtype=torch.float32).view(-1, 1))\n",
    "        loss.backward()\n",
    "        optimizer.step()\n",
    "\n",
    "    ann_model.eval()\n",
    "    with torch.no_grad():\n",
    "        y_pred_test_ann = ann_model(torch.tensor(X_test_outer, dtype=torch.float32)).numpy()\n",
    "    test_mse_ann = mean_squared_error(np.exp(y_test_outer)+1, np.exp(y_pred_test_ann)+1)\n",
    "\n",
    "    #Linear model\n",
    "    linreg_model = Ridge(alpha=best_lambda)\n",
    "    linreg_model.fit(X_train_outer, y_train_outer)\n",
    "    y_pred_test_linreg = linreg_model.predict(X_test_outer)\n",
    "    test_mse_linreg = mean_squared_error(np.exp(y_test_outer)+1, np.exp(y_pred_test_linreg)+1)\n",
    "\n",
    "    # Baseline model (predicting the mean)\n",
    "    baseline_model = DummyRegressor(strategy=\"mean\")\n",
    "    baseline_model.fit(X_train_outer, y_train_outer)\n",
    "    y_pred_test_baseline = baseline_model.predict(X_test_outer)\n",
    "    test_mse_baseline = mean_squared_error(np.exp(y_test_outer)+1, np.exp(y_pred_test_baseline)+1)\n",
    "\n",
    "    # Train best GLM model on the outer training set\n",
    "    glm_model = make_pipeline(\n",
    "        PolynomialFeatures(degree=best_glm_params['degree'], interaction_only=True, include_bias=False),\n",
    "        Ridge(alpha=best_glm_params['lambda'])\n",
    "    )\n",
    "    glm_model.fit(X_train_outer, y_train_outer)\n",
    "    y_pred_test_glm = glm_model.predict(X_test_outer)\n",
    "    test_mse_glm = mean_squared_error(np.exp(y_test_outer)+1, np.exp(y_pred_test_glm)+1)\n",
    "\n",
    "    # Append results for this outer fold\n",
    "    outer_results.append({\n",
    "        'outer_fold': outer_fold + 1,\n",
    "        'best_h': best_h,\n",
    "        'test_mse_ann': test_mse_ann,\n",
    "        'best_lambda': best_lambda,\n",
    "        'test_mse_linreg': test_mse_linreg,\n",
    "        'test_mse_baseline': test_mse_baseline,\n",
    "        'best_glm_params': best_glm_params,\n",
    "        'test_mse_glm': test_mse_glm\n",
    "    })\n",
    "    print(outer_results)\n",
    "# Create a DataFrame to display results in table format\n",
    "results1_df = pd.DataFrame(outer_results)"
   ]
  },
  {
   "cell_type": "code",
   "execution_count": 77,
   "metadata": {},
   "outputs": [
    {
     "data": {
      "text/plain": [
       "30"
      ]
     },
     "execution_count": 77,
     "metadata": {},
     "output_type": "execute_result"
    }
   ],
   "source": [
    "len(outer_results)"
   ]
  },
  {
   "cell_type": "markdown",
   "metadata": {},
   "source": [
    "### Format results "
   ]
  },
  {
   "cell_type": "code",
   "execution_count": 40,
   "metadata": {},
   "outputs": [],
   "source": [
    "results_df.columns = ['Outer Fold', 'Best Hidden Units', 'Test MSE ANN', 'Best Lambda', 'Test MSE LinReg', 'Test MSE Baseline']"
   ]
  },
  {
   "cell_type": "code",
   "execution_count": 55,
   "metadata": {},
   "outputs": [],
   "source": [
    "results_df['Test MSE ANN'] = results_df['Test MSE ANN'].apply(lambda x: round(x/10**8, 2))\n",
    "\n",
    "results_df['Test MSE LinReg'] = results_df['Test MSE LinReg'].apply(lambda x: round(x/10**8, 2))\n",
    "\n",
    "results_df['Test MSE Baseline'] = results_df['Test MSE Baseline'].apply(lambda x: round(x/10**8, 2))"
   ]
  },
  {
   "cell_type": "code",
   "execution_count": 59,
   "metadata": {},
   "outputs": [
    {
     "data": {
      "text/plain": [
       "'\\\\begin{tabular}{lllllll}\\n\\\\toprule\\n & Outer Fold & Best Hidden Units & Test MSE ANN & Best Lambda & Test MSE LinReg & Test MSE Baseline \\\\\\\\\\n\\\\midrule\\n0 & 1 & 32 & 2.3e+08 & 10 & 181.56e+08 & 198.65e+08 \\\\\\\\\\n1 & 2 & 32 & 142.94e+08 & 10 & 160.59e+08 & 168.06e+08 \\\\\\\\\\n2 & 3 & 32 & 1.37e+08 & 10 & 220.74e+08 & 242.69e+08 \\\\\\\\\\n3 & 4 & 32 & 195.35e+08 & 10 & 395.08e+08 & 413.91e+08 \\\\\\\\\\n4 & 5 & 32 & 0.33e+08 & 10 & 0.1e+08 & 0.51e+08 \\\\\\\\\\n5 & 6 & 32 & 2.08e+08 & 10 & 220.11e+08 & 242.66e+08 \\\\\\\\\\n6 & 7 & 32 & 0.72e+08 & 10 & 0.07e+08 & 0.31e+08 \\\\\\\\\\n7 & 8 & 32 & 0.37e+08 & 10 & 0.18e+08 & 0.72e+08 \\\\\\\\\\n8 & 9 & 32 & 4.74e+08 & 10 & 131.32e+08 & 140.3e+08 \\\\\\\\\\n9 & 10 & 32 & 33.32e+08 & 10 & 142.3e+08 & 155.31e+08 \\\\\\\\\\n\\\\bottomrule\\n\\\\end{tabular}\\n'"
      ]
     },
     "execution_count": 59,
     "metadata": {},
     "output_type": "execute_result"
    }
   ],
   "source": [
    "results_df.to_latex()"
   ]
  },
  {
   "cell_type": "code",
   "execution_count": null,
   "metadata": {},
   "outputs": [],
   "source": [
    "results1_df.iloc[20:,:]"
   ]
  },
  {
   "cell_type": "code",
   "execution_count": null,
   "metadata": {},
   "outputs": [],
   "source": []
  },
  {
   "cell_type": "markdown",
   "metadata": {},
   "source": [
    "### Check best model"
   ]
  },
  {
   "cell_type": "code",
   "execution_count": 21,
   "metadata": {},
   "outputs": [],
   "source": [
    "# Define ANN model\n",
    "model = lambda: nn.Sequential(\n",
    "    nn.Linear(X_train_inner.shape[1], 2*h),\n",
    "    nn.ReLU(),\n",
    "    nn.Linear(2*h, h),\n",
    "    nn.ReLU(),\n",
    "    nn.Linear(h, 1),\n",
    ")"
   ]
  },
  {
   "cell_type": "code",
   "execution_count": 22,
   "metadata": {},
   "outputs": [],
   "source": [
    "X_train_outer, X_test_outer = X[train_outer_idx], X[test_outer_idx]\n",
    "y_train_outer, y_test_outer = y[train_outer_idx], y[test_outer_idx]\n",
    "\n",
    "# Standardize features based on outer train set\n",
    "scaler = StandardScaler()\n",
    "X_train_outer = scaler.fit_transform(X_train_outer)\n",
    "X_test_outer = scaler.transform(X_test_outer)\n",
    "\n",
    "\n",
    "# Train best models from inner loop on the entire outer training set\n",
    "ann_model = model()\n",
    "criterion = nn.MSELoss()\n",
    "optimizer = optim.Adam(ann_model.parameters(), lr=0.01)\n",
    "ann_model.train()\n",
    "for epoch in range(1000):\n",
    "    optimizer.zero_grad()\n",
    "    outputs = ann_model(torch.tensor(X_train_outer, dtype=torch.float32))\n",
    "    loss = criterion(outputs, torch.tensor(y_train_outer, dtype=torch.float32).view(-1, 1))\n",
    "    loss.backward()\n",
    "    optimizer.step()\n",
    "\n",
    "ann_model.eval()\n",
    "with torch.no_grad():\n",
    "    y_pred_test_ann = ann_model(torch.tensor(X_test_outer, dtype=torch.float32)).numpy()\n",
    "test_mse_ann = mean_squared_error(np.exp(y_test_outer)+1, np.exp(y_pred_test_ann)+1)\n",
    "\n"
   ]
  },
  {
   "cell_type": "code",
   "execution_count": 31,
   "metadata": {},
   "outputs": [],
   "source": [
    "pred_vs_true = pd.concat([pd.DataFrame(np.exp(y_test_outer)+1), pd.DataFrame(np.exp(y_pred_test_ann)+1)], axis=1)\n",
    "pred_vs_true.columns = ['true', 'pred']"
   ]
  },
  {
   "cell_type": "code",
   "execution_count": 32,
   "metadata": {},
   "outputs": [],
   "source": [
    "pred_vs_true['diff'] = abs(pred_vs_true['true'] - pred_vs_true['pred'])"
   ]
  },
  {
   "cell_type": "code",
   "execution_count": 34,
   "metadata": {},
   "outputs": [
    {
     "data": {
      "text/html": [
       "<div>\n",
       "<style scoped>\n",
       "    .dataframe tbody tr th:only-of-type {\n",
       "        vertical-align: middle;\n",
       "    }\n",
       "\n",
       "    .dataframe tbody tr th {\n",
       "        vertical-align: top;\n",
       "    }\n",
       "\n",
       "    .dataframe thead th {\n",
       "        text-align: right;\n",
       "    }\n",
       "</style>\n",
       "<table border=\"1\" class=\"dataframe\">\n",
       "  <thead>\n",
       "    <tr style=\"text-align: right;\">\n",
       "      <th></th>\n",
       "      <th>true</th>\n",
       "      <th>pred</th>\n",
       "      <th>diff</th>\n",
       "    </tr>\n",
       "  </thead>\n",
       "  <tbody>\n",
       "    <tr>\n",
       "      <th>count</th>\n",
       "      <td>1.820000e+02</td>\n",
       "      <td>1.820000e+02</td>\n",
       "      <td>182.000000</td>\n",
       "    </tr>\n",
       "    <tr>\n",
       "      <th>mean</th>\n",
       "      <td>2.673741e+04</td>\n",
       "      <td>2.236883e+04</td>\n",
       "      <td>7494.889828</td>\n",
       "    </tr>\n",
       "    <tr>\n",
       "      <th>std</th>\n",
       "      <td>1.242160e+05</td>\n",
       "      <td>1.107363e+05</td>\n",
       "      <td>58272.845221</td>\n",
       "    </tr>\n",
       "    <tr>\n",
       "      <th>min</th>\n",
       "      <td>4.302000e+03</td>\n",
       "      <td>2.270754e+02</td>\n",
       "      <td>1.513672</td>\n",
       "    </tr>\n",
       "    <tr>\n",
       "      <th>25%</th>\n",
       "      <td>1.102700e+04</td>\n",
       "      <td>9.886339e+03</td>\n",
       "      <td>425.035645</td>\n",
       "    </tr>\n",
       "    <tr>\n",
       "      <th>50%</th>\n",
       "      <td>1.350200e+04</td>\n",
       "      <td>1.268412e+04</td>\n",
       "      <td>1769.262695</td>\n",
       "    </tr>\n",
       "    <tr>\n",
       "      <th>75%</th>\n",
       "      <td>1.675075e+04</td>\n",
       "      <td>1.727384e+04</td>\n",
       "      <td>4065.020752</td>\n",
       "    </tr>\n",
       "    <tr>\n",
       "      <th>max</th>\n",
       "      <td>1.497352e+06</td>\n",
       "      <td>1.503605e+06</td>\n",
       "      <td>786547.137695</td>\n",
       "    </tr>\n",
       "  </tbody>\n",
       "</table>\n",
       "</div>"
      ],
      "text/plain": [
       "               true          pred           diff\n",
       "count  1.820000e+02  1.820000e+02     182.000000\n",
       "mean   2.673741e+04  2.236883e+04    7494.889828\n",
       "std    1.242160e+05  1.107363e+05   58272.845221\n",
       "min    4.302000e+03  2.270754e+02       1.513672\n",
       "25%    1.102700e+04  9.886339e+03     425.035645\n",
       "50%    1.350200e+04  1.268412e+04    1769.262695\n",
       "75%    1.675075e+04  1.727384e+04    4065.020752\n",
       "max    1.497352e+06  1.503605e+06  786547.137695"
      ]
     },
     "execution_count": 34,
     "metadata": {},
     "output_type": "execute_result"
    }
   ],
   "source": [
    "pred_vs_true.describe()"
   ]
  },
  {
   "cell_type": "code",
   "execution_count": 19,
   "metadata": {},
   "outputs": [
    {
     "data": {
      "text/plain": [
       "230355871.84476316"
      ]
     },
     "execution_count": 19,
     "metadata": {},
     "output_type": "execute_result"
    }
   ],
   "source": [
    "results_df['test_mse_ann'][0]"
   ]
  },
  {
   "cell_type": "markdown",
   "metadata": {},
   "source": [
    "### Test for best model with Setup II"
   ]
  },
  {
   "cell_type": "code",
   "execution_count": 64,
   "metadata": {},
   "outputs": [
    {
     "name": "stdout",
     "output_type": "stream",
     "text": [
      "ANN vs Ridge Regression:\n",
      "  Mean Difference: 0.1403, Std. Dev: 0.1760, P-Value: 0.0328\n",
      "  Confidence Interval: (0.01435395317052729, 0.2662226767224303)\n",
      "\n",
      "ANN vs Baseline:\n",
      "  Mean Difference: -0.0011, Std. Dev: 0.2020, P-Value: 0.9871\n",
      "  Confidence Interval: (-0.14556631252528773, 0.14344198020223697)\n",
      "\n",
      "Ridge Regression vs Baseline:\n",
      "  Mean Difference: -0.1414, Std. Dev: 0.0354, P-Value: 0.0000\n",
      "  Confidence Interval: (-0.16667743729056955, -0.11602352492543878)\n",
      "\n"
     ]
    }
   ],
   "source": [
    "# Define ANN model\n",
    "def create_ann_model(input_size, h):\n",
    "    return nn.Sequential(\n",
    "        nn.Linear(input_size, 2 * h),\n",
    "        nn.ReLU(),\n",
    "        nn.Linear(2 * h, h),\n",
    "        nn.ReLU(),\n",
    "        nn.Linear(h, 1),\n",
    "    )\n",
    "\n",
    "# Function to evaluate models\n",
    "def evaluate_models(X, y, n_splits=10, h=16, lambda_reg=10000):\n",
    "    kf = KFold(n_splits=n_splits, shuffle=True, random_state=42)\n",
    "\n",
    "    ann_errors = []\n",
    "    ridge_errors = []\n",
    "    baseline_errors = []\n",
    "    \n",
    "    # Baseline prediction (mean)\n",
    "    baseline_prediction = np.mean(y)\n",
    "\n",
    "    for train_index, test_index in kf.split(X):\n",
    "        X_train, X_test = X[train_index], X[test_index]\n",
    "        y_train, y_test = y[train_index], y[test_index]\n",
    "\n",
    "        # Standardize features\n",
    "        scaler = StandardScaler()\n",
    "        X_train = scaler.fit_transform(X_train)\n",
    "        X_test = scaler.transform(X_test)\n",
    "\n",
    "        # Train Ridge Regression\n",
    "        ridge_model = Ridge(alpha=lambda_reg)\n",
    "        ridge_model.fit(X_train, y_train)\n",
    "        ridge_pred = ridge_model.predict(X_test)\n",
    "        ridge_errors.append(mean_squared_error(y_test, ridge_pred))\n",
    "\n",
    "        # Train ANN\n",
    "        ann_model = create_ann_model(X_train.shape[1], h)\n",
    "        criterion = nn.MSELoss()\n",
    "        optimizer = optim.Adam(ann_model.parameters(), lr=0.01)\n",
    "        ann_model.train()\n",
    "\n",
    "        # Training Loop\n",
    "        for epoch in range(1000):\n",
    "            optimizer.zero_grad()\n",
    "            outputs = ann_model(torch.tensor(X_train, dtype=torch.float32))\n",
    "            loss = criterion(outputs, torch.tensor(y_train, dtype=torch.float32).view(-1, 1))\n",
    "            loss.backward()\n",
    "            optimizer.step()\n",
    "\n",
    "        # Evaluation\n",
    "        ann_model.eval()\n",
    "        with torch.no_grad():\n",
    "            y_pred_ann = ann_model(torch.tensor(X_test, dtype=torch.float32)).numpy()\n",
    "        ann_errors.append(mean_squared_error(y_test, y_pred_ann))\n",
    "\n",
    "        # Calculate Baseline Error\n",
    "        baseline_errors.append(mean_squared_error(y_test, [baseline_prediction]*len(y_test)))\n",
    "\n",
    "    return np.array(ann_errors), np.array(ridge_errors), np.array(baseline_errors)\n",
    "\n",
    "\n",
    "# Evaluate models\n",
    "h_value = 16  # Hidden units for ANN\n",
    "lambda_value = 10000  # Regularization parameter for Ridge\n",
    "ann_errors, ridge_errors, baseline_errors = evaluate_models(X, y, h=h_value, lambda_reg=lambda_value)\n",
    "\n",
    "# Function to perform correlated t-test\n",
    "def correlated_t_test(model_a_errors, model_b_errors):\n",
    "    differences = model_a_errors - model_b_errors\n",
    "    mean_diff = np.mean(differences)\n",
    "    std_diff = np.std(differences, ddof=1)\n",
    "    J = len(differences)\n",
    "    \n",
    "    # t-statistic\n",
    "    t_stat = mean_diff / (std_diff / np.sqrt(J))\n",
    "    df = J - 1\n",
    "    p_value = 2 * stats.t.cdf(-np.abs(t_stat), df)\n",
    "    \n",
    "    # Confidence interval\n",
    "    alpha = 0.05\n",
    "    ci_low = mean_diff - stats.t.ppf(1 - alpha / 2, df) * (std_diff / np.sqrt(J))\n",
    "    ci_high = mean_diff + stats.t.ppf(1 - alpha / 2, df) * (std_diff / np.sqrt(J))\n",
    "    \n",
    "    return mean_diff, std_diff, p_value, (ci_low, ci_high)\n",
    "\n",
    "# Pairwise comparisons\n",
    "results = {}\n",
    "\n",
    "# ANN vs Ridge Regression\n",
    "results['ANN vs Ridge Regression'] = correlated_t_test(ann_errors, ridge_errors)\n",
    "\n",
    "# ANN vs Baseline\n",
    "results['ANN vs Baseline'] = correlated_t_test(ann_errors, baseline_errors)\n",
    "\n",
    "# Ridge Regression vs Baseline\n",
    "results['Ridge Regression vs Baseline'] = correlated_t_test(ridge_errors, baseline_errors)\n",
    "\n",
    "# Print results\n",
    "for comparison, (mean_diff, std_diff, p_value, ci) in results.items():\n",
    "    print(f\"{comparison}:\")\n",
    "    print(f\"  Mean Difference: {mean_diff:.4f}, Std. Dev: {std_diff:.4f}, P-Value: {p_value:.4f}\")\n",
    "    print(f\"  Confidence Interval: {ci}\")\n",
    "    print()"
   ]
  }
 ],
 "metadata": {
  "kernelspec": {
   "display_name": "dtuenv",
   "language": "python",
   "name": "python3"
  },
  "language_info": {
   "codemirror_mode": {
    "name": "ipython",
    "version": 3
   },
   "file_extension": ".py",
   "mimetype": "text/x-python",
   "name": "python",
   "nbconvert_exporter": "python",
   "pygments_lexer": "ipython3",
   "version": "3.10.15"
  }
 },
 "nbformat": 4,
 "nbformat_minor": 2
}
