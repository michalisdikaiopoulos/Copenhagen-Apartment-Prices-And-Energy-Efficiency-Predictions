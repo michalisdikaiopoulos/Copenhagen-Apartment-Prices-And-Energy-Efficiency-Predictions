{
  "cells": [
    {
      "cell_type": "code",
      "execution_count": 305,
      "metadata": {
        "id": "YQDSooq2iCRl"
      },
      "outputs": [],
      "source": [
        "import pandas as pd\n",
        "import numpy as np\n",
        "import matplotlib.pyplot as plt\n",
        "import seaborn as sns\n"
      ]
    },
    {
      "cell_type": "code",
      "execution_count": 306,
      "metadata": {
        "id": "rkAXIKAZjRX-"
      },
      "outputs": [],
      "source": [
        "df = pd.read_csv('bolig_data.csv')"
      ]
    },
    {
      "cell_type": "code",
      "execution_count": 307,
      "metadata": {
        "colab": {
          "base_uri": "https://localhost:8080/"
        },
        "id": "R17DeAS1jdnz",
        "outputId": "a59ecd4d-c008-4ff7-e286-afc5bc0dd82e"
      },
      "outputs": [
        {
          "name": "stdout",
          "output_type": "stream",
          "text": [
            "<class 'pandas.core.frame.DataFrame'>\n",
            "RangeIndex: 1897 entries, 0 to 1896\n",
            "Data columns (total 36 columns):\n",
            " #   Column               Non-Null Count  Dtype  \n",
            "---  ------               --------------  -----  \n",
            " 0   breadcrumb           1897 non-null   object \n",
            " 1   title                1897 non-null   object \n",
            " 2   description          1897 non-null   object \n",
            " 3   address              1897 non-null   object \n",
            " 4   monthly_rent         1897 non-null   object \n",
            " 5   monthly_aconto       1897 non-null   object \n",
            " 6   move_in_price        1897 non-null   object \n",
            " 7   available_from       1897 non-null   object \n",
            " 8   rental_period        1897 non-null   object \n",
            " 9   Boligtype            1897 non-null   object \n",
            " 10  Størrelse            1897 non-null   object \n",
            " 11  Værelser             1897 non-null   float64\n",
            " 12  Etage                1897 non-null   object \n",
            " 13  Møbleret             1897 non-null   object \n",
            " 14  Delevenlig           1897 non-null   object \n",
            " 15  Husdyr tilladt       1897 non-null   object \n",
            " 16  Elevator             1897 non-null   object \n",
            " 17  Seniorvenlig         1897 non-null   object \n",
            " 18  Kun for studerende   1897 non-null   object \n",
            " 19  Altan/terrasse       1897 non-null   object \n",
            " 20  Parkering            1897 non-null   object \n",
            " 21  Opvaskemaskine       1897 non-null   object \n",
            " 22  Vaskemaskine         1897 non-null   object \n",
            " 23  Ladestander          1897 non-null   object \n",
            " 24  Tørretumbler         1897 non-null   object \n",
            " 25  Lejeperiode          1897 non-null   object \n",
            " 26  Ledig fra            1897 non-null   object \n",
            " 27  Månedlig leje        1897 non-null   object \n",
            " 28  Aconto               1838 non-null   object \n",
            " 29  Depositum            1897 non-null   object \n",
            " 30  Forudbetalt husleje  1827 non-null   object \n",
            " 31  Indflytningspris     1897 non-null   object \n",
            " 32  Oprettelsesdato      1897 non-null   object \n",
            " 33  Sagsnr.              1897 non-null   int64  \n",
            " 34  energy_mark_src      1897 non-null   object \n",
            " 35  Energimærke          898 non-null    object \n",
            "dtypes: float64(1), int64(1), object(34)\n",
            "memory usage: 533.7+ KB\n"
          ]
        }
      ],
      "source": [
        "#we start inspecting how our dataset looks like.\n",
        "df.info()"
      ]
    },
    {
      "cell_type": "code",
      "execution_count": 308,
      "metadata": {
        "colab": {
          "base_uri": "https://localhost:8080/",
          "height": 741
        },
        "id": "Bcy_CyDxj-Da",
        "outputId": "fa4f1c3a-5b3e-4d80-bd72-76c9b418e6f8"
      },
      "outputs": [
        {
          "data": {
            "text/html": [
              "<div>\n",
              "<style scoped>\n",
              "    .dataframe tbody tr th:only-of-type {\n",
              "        vertical-align: middle;\n",
              "    }\n",
              "\n",
              "    .dataframe tbody tr th {\n",
              "        vertical-align: top;\n",
              "    }\n",
              "\n",
              "    .dataframe thead th {\n",
              "        text-align: right;\n",
              "    }\n",
              "</style>\n",
              "<table border=\"1\" class=\"dataframe\">\n",
              "  <thead>\n",
              "    <tr style=\"text-align: right;\">\n",
              "      <th></th>\n",
              "      <th>breadcrumb</th>\n",
              "      <th>title</th>\n",
              "      <th>description</th>\n",
              "      <th>address</th>\n",
              "      <th>monthly_rent</th>\n",
              "      <th>monthly_aconto</th>\n",
              "      <th>move_in_price</th>\n",
              "      <th>available_from</th>\n",
              "      <th>rental_period</th>\n",
              "      <th>Boligtype</th>\n",
              "      <th>Størrelse</th>\n",
              "      <th>Værelser</th>\n",
              "      <th>Etage</th>\n",
              "      <th>Møbleret</th>\n",
              "      <th>Delevenlig</th>\n",
              "      <th>Husdyr tilladt</th>\n",
              "      <th>Elevator</th>\n",
              "      <th>Seniorvenlig</th>\n",
              "      <th>Kun for studerende</th>\n",
              "      <th>Altan/terrasse</th>\n",
              "      <th>Parkering</th>\n",
              "      <th>Opvaskemaskine</th>\n",
              "      <th>Vaskemaskine</th>\n",
              "      <th>Ladestander</th>\n",
              "      <th>Tørretumbler</th>\n",
              "      <th>Lejeperiode</th>\n",
              "      <th>Ledig fra</th>\n",
              "      <th>Månedlig leje</th>\n",
              "      <th>Aconto</th>\n",
              "      <th>Depositum</th>\n",
              "      <th>Forudbetalt husleje</th>\n",
              "      <th>Indflytningspris</th>\n",
              "      <th>Oprettelsesdato</th>\n",
              "      <th>Sagsnr.</th>\n",
              "      <th>energy_mark_src</th>\n",
              "      <th>Energimærke</th>\n",
              "    </tr>\n",
              "  </thead>\n",
              "  <tbody>\n",
              "    <tr>\n",
              "      <th>0</th>\n",
              "      <td>Hjem &gt; Lejligheder &gt; København &gt; 3 værelses &gt; ...</td>\n",
              "      <td>Furnished apartment, 2 bedroom</td>\n",
              "      <td>Fully furnished charming apartment for rent in...</td>\n",
              "      <td>3 timer siden, Erik Menveds Vej, 1965 Københav...</td>\n",
              "      <td>12.850 kr.</td>\n",
              "      <td>1.350 kr.</td>\n",
              "      <td>52.750 kr.</td>\n",
              "      <td>Snarest muligt</td>\n",
              "      <td>52.750 kr.</td>\n",
              "      <td>Lejlighed</td>\n",
              "      <td>86 m²</td>\n",
              "      <td>3.0</td>\n",
              "      <td>3.</td>\n",
              "      <td>Ja</td>\n",
              "      <td>Nej</td>\n",
              "      <td>Nej</td>\n",
              "      <td>Nej</td>\n",
              "      <td>Nej</td>\n",
              "      <td>Nej</td>\n",
              "      <td>Nej</td>\n",
              "      <td>Nej</td>\n",
              "      <td>Ikke angivet</td>\n",
              "      <td>Ja</td>\n",
              "      <td>Ikke angivet</td>\n",
              "      <td>Ikke angivet</td>\n",
              "      <td>24+ måneder</td>\n",
              "      <td>Snarest muligt</td>\n",
              "      <td>12.850 kr.</td>\n",
              "      <td>1.350 kr.</td>\n",
              "      <td>38.550 kr.</td>\n",
              "      <td>0 kr.</td>\n",
              "      <td>52.750 kr.</td>\n",
              "      <td>7.9.2024</td>\n",
              "      <td>5080588</td>\n",
              "      <td>/static/images/energy_labels/D_str2.png</td>\n",
              "      <td>NaN</td>\n",
              "    </tr>\n",
              "    <tr>\n",
              "      <th>1</th>\n",
              "      <td>Hjem &gt; Lejligheder &gt; København &gt; 4 værelses &gt; ...</td>\n",
              "      <td>Velindrettet 4-værelses lejlighed på 113 m2 me...</td>\n",
              "      <td>Indretning:\\n\\nVelkommen indefor i denne store...</td>\n",
              "      <td>9 timer siden, Laurentsvej, 2880 København, Ba...</td>\n",
              "      <td>15.700 kr.</td>\n",
              "      <td>1.224 kr.</td>\n",
              "      <td>79.724 kr.</td>\n",
              "      <td>15. november 2024</td>\n",
              "      <td>79.724 kr.</td>\n",
              "      <td>Lejlighed</td>\n",
              "      <td>113 m²</td>\n",
              "      <td>4.0</td>\n",
              "      <td>4.</td>\n",
              "      <td>Nej</td>\n",
              "      <td>Nej</td>\n",
              "      <td>Ja</td>\n",
              "      <td>Ja</td>\n",
              "      <td>Nej</td>\n",
              "      <td>Nej</td>\n",
              "      <td>Ja</td>\n",
              "      <td>Ja</td>\n",
              "      <td>Ja</td>\n",
              "      <td>Ja</td>\n",
              "      <td>Nej</td>\n",
              "      <td>Ja</td>\n",
              "      <td>Ubegrænset</td>\n",
              "      <td>15. november 2024</td>\n",
              "      <td>15.700 kr.</td>\n",
              "      <td>1.224 kr.</td>\n",
              "      <td>47.100 kr.</td>\n",
              "      <td>15.700 kr.</td>\n",
              "      <td>79.724 kr.</td>\n",
              "      <td>7.9.2024</td>\n",
              "      <td>5455654</td>\n",
              "      <td>/static/images/energy_labels/A15_str2.png</td>\n",
              "      <td>NaN</td>\n",
              "    </tr>\n",
              "    <tr>\n",
              "      <th>2</th>\n",
              "      <td>Hjem &gt; Værelser &gt; København &gt; 1 værelses &gt; Kas...</td>\n",
              "      <td>Brand new room for rent in newly build house</td>\n",
              "      <td>9m2 værelse i nybygget hus til leje \\n(kan lej...</td>\n",
              "      <td>11 timer siden, Pilegård Alle, 2770 København,...</td>\n",
              "      <td>5.000 kr.</td>\n",
              "      <td>1.000 kr.</td>\n",
              "      <td>21.000 kr.</td>\n",
              "      <td>1. december 2024</td>\n",
              "      <td>21.000 kr.</td>\n",
              "      <td>Værelse</td>\n",
              "      <td>9 m²</td>\n",
              "      <td>1.0</td>\n",
              "      <td>-</td>\n",
              "      <td>Ja</td>\n",
              "      <td>Ja</td>\n",
              "      <td>Nej</td>\n",
              "      <td>Nej</td>\n",
              "      <td>Nej</td>\n",
              "      <td>Nej</td>\n",
              "      <td>Ja</td>\n",
              "      <td>Ja</td>\n",
              "      <td>Ikke angivet</td>\n",
              "      <td>Ja</td>\n",
              "      <td>Ikke angivet</td>\n",
              "      <td>Ja</td>\n",
              "      <td>Ubegrænset</td>\n",
              "      <td>1. december 2024</td>\n",
              "      <td>5.000 kr.</td>\n",
              "      <td>1.000 kr.</td>\n",
              "      <td>15.000 kr.</td>\n",
              "      <td>0 kr.</td>\n",
              "      <td>21.000 kr.</td>\n",
              "      <td>7.9.2024</td>\n",
              "      <td>5455638</td>\n",
              "      <td>/static/images/energy_labels/A20_str2.png</td>\n",
              "      <td>NaN</td>\n",
              "    </tr>\n",
              "    <tr>\n",
              "      <th>3</th>\n",
              "      <td>Hjem &gt; Værelser &gt; København &gt; 1 værelses &gt; Køb...</td>\n",
              "      <td>Værelse i Villa ved strand og Metro</td>\n",
              "      <td>Et værelse udlejes i en skøn villa i et dejlig...</td>\n",
              "      <td>11 timer siden, Borneovej, 2300 København, Køb...</td>\n",
              "      <td>3.500 kr.</td>\n",
              "      <td>500 kr.</td>\n",
              "      <td>11.500 kr.</td>\n",
              "      <td>1. november 2024</td>\n",
              "      <td>11.500 kr.</td>\n",
              "      <td>Værelse</td>\n",
              "      <td>14 m²</td>\n",
              "      <td>1.0</td>\n",
              "      <td>-</td>\n",
              "      <td>Ja</td>\n",
              "      <td>Ja</td>\n",
              "      <td>Nej</td>\n",
              "      <td>Nej</td>\n",
              "      <td>Nej</td>\n",
              "      <td>Nej</td>\n",
              "      <td>Ja</td>\n",
              "      <td>Ja</td>\n",
              "      <td>Nej</td>\n",
              "      <td>Ja</td>\n",
              "      <td>Nej</td>\n",
              "      <td>Ja</td>\n",
              "      <td>Ubegrænset</td>\n",
              "      <td>1. november 2024</td>\n",
              "      <td>3.500 kr.</td>\n",
              "      <td>500 kr.</td>\n",
              "      <td>4.000 kr.</td>\n",
              "      <td>3.500 kr.</td>\n",
              "      <td>11.500 kr.</td>\n",
              "      <td>7.9.2024</td>\n",
              "      <td>5144039</td>\n",
              "      <td>/static/images/energy_labels/C_str2.png</td>\n",
              "      <td>NaN</td>\n",
              "    </tr>\n",
              "    <tr>\n",
              "      <th>4</th>\n",
              "      <td>Hjem &gt; Værelser &gt; København &gt; 1 værelses &gt; Køb...</td>\n",
              "      <td>Small Single Room</td>\n",
              "      <td>Hi there!\\n\\nAre you going to study in Copenha...</td>\n",
              "      <td>13 timer siden, Vesterbrogade, 1620 København,...</td>\n",
              "      <td>4.650 kr.</td>\n",
              "      <td>0 kr.</td>\n",
              "      <td>13.950 kr.</td>\n",
              "      <td>Snarest muligt</td>\n",
              "      <td>13.950 kr.</td>\n",
              "      <td>Værelse</td>\n",
              "      <td>7 m²</td>\n",
              "      <td>1.0</td>\n",
              "      <td>4.</td>\n",
              "      <td>Ja</td>\n",
              "      <td>Nej</td>\n",
              "      <td>Nej</td>\n",
              "      <td>Ja</td>\n",
              "      <td>Nej</td>\n",
              "      <td>Ja</td>\n",
              "      <td>Nej</td>\n",
              "      <td>Nej</td>\n",
              "      <td>Ikke angivet</td>\n",
              "      <td>Ikke angivet</td>\n",
              "      <td>Ikke angivet</td>\n",
              "      <td>Ikke angivet</td>\n",
              "      <td>1-11 måneder</td>\n",
              "      <td>Snarest muligt</td>\n",
              "      <td>4.650 kr.</td>\n",
              "      <td>0 kr.</td>\n",
              "      <td>9.300 kr.</td>\n",
              "      <td>0 kr.</td>\n",
              "      <td>13.950 kr.</td>\n",
              "      <td>7.9.2024</td>\n",
              "      <td>5455643</td>\n",
              "      <td>none</td>\n",
              "      <td>-</td>\n",
              "    </tr>\n",
              "  </tbody>\n",
              "</table>\n",
              "</div>"
            ],
            "text/plain": [
              "                                          breadcrumb  \\\n",
              "0  Hjem > Lejligheder > København > 3 værelses > ...   \n",
              "1  Hjem > Lejligheder > København > 4 værelses > ...   \n",
              "2  Hjem > Værelser > København > 1 værelses > Kas...   \n",
              "3  Hjem > Værelser > København > 1 værelses > Køb...   \n",
              "4  Hjem > Værelser > København > 1 værelses > Køb...   \n",
              "\n",
              "                                               title  \\\n",
              "0                     Furnished apartment, 2 bedroom   \n",
              "1  Velindrettet 4-værelses lejlighed på 113 m2 me...   \n",
              "2       Brand new room for rent in newly build house   \n",
              "3                Værelse i Villa ved strand og Metro   \n",
              "4                                  Small Single Room   \n",
              "\n",
              "                                         description  \\\n",
              "0  Fully furnished charming apartment for rent in...   \n",
              "1  Indretning:\\n\\nVelkommen indefor i denne store...   \n",
              "2  9m2 værelse i nybygget hus til leje \\n(kan lej...   \n",
              "3  Et værelse udlejes i en skøn villa i et dejlig...   \n",
              "4  Hi there!\\n\\nAre you going to study in Copenha...   \n",
              "\n",
              "                                             address monthly_rent  \\\n",
              "0  3 timer siden, Erik Menveds Vej, 1965 Københav...   12.850 kr.   \n",
              "1  9 timer siden, Laurentsvej, 2880 København, Ba...   15.700 kr.   \n",
              "2  11 timer siden, Pilegård Alle, 2770 København,...    5.000 kr.   \n",
              "3  11 timer siden, Borneovej, 2300 København, Køb...    3.500 kr.   \n",
              "4  13 timer siden, Vesterbrogade, 1620 København,...    4.650 kr.   \n",
              "\n",
              "  monthly_aconto move_in_price     available_from rental_period  Boligtype  \\\n",
              "0      1.350 kr.    52.750 kr.     Snarest muligt    52.750 kr.  Lejlighed   \n",
              "1      1.224 kr.    79.724 kr.  15. november 2024    79.724 kr.  Lejlighed   \n",
              "2      1.000 kr.    21.000 kr.   1. december 2024    21.000 kr.    Værelse   \n",
              "3        500 kr.    11.500 kr.   1. november 2024    11.500 kr.    Værelse   \n",
              "4          0 kr.    13.950 kr.     Snarest muligt    13.950 kr.    Værelse   \n",
              "\n",
              "  Størrelse  Værelser Etage Møbleret Delevenlig Husdyr tilladt Elevator  \\\n",
              "0     86 m²       3.0    3.       Ja        Nej            Nej      Nej   \n",
              "1    113 m²       4.0    4.      Nej        Nej             Ja       Ja   \n",
              "2      9 m²       1.0     -       Ja         Ja            Nej      Nej   \n",
              "3     14 m²       1.0     -       Ja         Ja            Nej      Nej   \n",
              "4      7 m²       1.0    4.       Ja        Nej            Nej       Ja   \n",
              "\n",
              "  Seniorvenlig Kun for studerende Altan/terrasse Parkering Opvaskemaskine  \\\n",
              "0          Nej                Nej            Nej       Nej   Ikke angivet   \n",
              "1          Nej                Nej             Ja        Ja             Ja   \n",
              "2          Nej                Nej             Ja        Ja   Ikke angivet   \n",
              "3          Nej                Nej             Ja        Ja            Nej   \n",
              "4          Nej                 Ja            Nej       Nej   Ikke angivet   \n",
              "\n",
              "   Vaskemaskine   Ladestander  Tørretumbler   Lejeperiode          Ledig fra  \\\n",
              "0            Ja  Ikke angivet  Ikke angivet   24+ måneder     Snarest muligt   \n",
              "1            Ja           Nej            Ja    Ubegrænset  15. november 2024   \n",
              "2            Ja  Ikke angivet            Ja    Ubegrænset   1. december 2024   \n",
              "3            Ja           Nej            Ja    Ubegrænset   1. november 2024   \n",
              "4  Ikke angivet  Ikke angivet  Ikke angivet  1-11 måneder     Snarest muligt   \n",
              "\n",
              "  Månedlig leje     Aconto   Depositum Forudbetalt husleje Indflytningspris  \\\n",
              "0    12.850 kr.  1.350 kr.  38.550 kr.               0 kr.       52.750 kr.   \n",
              "1    15.700 kr.  1.224 kr.  47.100 kr.          15.700 kr.       79.724 kr.   \n",
              "2     5.000 kr.  1.000 kr.  15.000 kr.               0 kr.       21.000 kr.   \n",
              "3     3.500 kr.    500 kr.   4.000 kr.           3.500 kr.       11.500 kr.   \n",
              "4     4.650 kr.      0 kr.   9.300 kr.               0 kr.       13.950 kr.   \n",
              "\n",
              "  Oprettelsesdato  Sagsnr.                            energy_mark_src  \\\n",
              "0        7.9.2024  5080588    /static/images/energy_labels/D_str2.png   \n",
              "1        7.9.2024  5455654  /static/images/energy_labels/A15_str2.png   \n",
              "2        7.9.2024  5455638  /static/images/energy_labels/A20_str2.png   \n",
              "3        7.9.2024  5144039    /static/images/energy_labels/C_str2.png   \n",
              "4        7.9.2024  5455643                                       none   \n",
              "\n",
              "  Energimærke   \n",
              "0          NaN  \n",
              "1          NaN  \n",
              "2          NaN  \n",
              "3          NaN  \n",
              "4            -  "
            ]
          },
          "execution_count": 308,
          "metadata": {},
          "output_type": "execute_result"
        }
      ],
      "source": [
        "df.head()"
      ]
    },
    {
      "cell_type": "code",
      "execution_count": 309,
      "metadata": {},
      "outputs": [],
      "source": [
        "pcts = df.isnull().sum()/len(df)*100"
      ]
    },
    {
      "cell_type": "code",
      "execution_count": 310,
      "metadata": {
        "colab": {
          "base_uri": "https://localhost:8080/",
          "height": 1000
        },
        "id": "oNRnp0jZkAgh",
        "outputId": "397a1553-4077-470c-eca4-e71a37da62cf"
      },
      "outputs": [
        {
          "name": "stdout",
          "output_type": "stream",
          "text": [
            "Aconto: 3.11% null\n",
            "Forudbetalt husleje: 3.69% null\n",
            "Energimærke : 52.66% null\n"
          ]
        }
      ],
      "source": [
        "for null_col,pct in zip(df.columns[pcts>0],pcts[df.columns[pcts>0]]):\n",
        "    print(f'{null_col}: {pct:.2f}% null')"
      ]
    },
    {
      "cell_type": "code",
      "execution_count": 311,
      "metadata": {
        "colab": {
          "base_uri": "https://localhost:8080/"
        },
        "id": "MxKxfp1HmwGW",
        "outputId": "5837d694-d962-45dd-8612-8db3816b9aa7"
      },
      "outputs": [
        {
          "name": "stdout",
          "output_type": "stream",
          "text": [
            "Index(['breadcrumb', 'title', 'description', 'address', 'monthly_rent',\n",
            "       'monthly_aconto', 'move_in_price', 'available_from', 'rental_period',\n",
            "       'Boligtype', 'Størrelse', 'Værelser', 'Etage', 'Møbleret', 'Delevenlig',\n",
            "       'Husdyr tilladt', 'Elevator', 'Seniorvenlig', 'Kun for studerende',\n",
            "       'Altan/terrasse', 'Parkering', 'Opvaskemaskine', 'Vaskemaskine',\n",
            "       'Ladestander', 'Tørretumbler', 'Lejeperiode', 'Ledig fra',\n",
            "       'Månedlig leje', 'Aconto', 'Depositum', 'Forudbetalt husleje',\n",
            "       'Indflytningspris', 'Oprettelsesdato', 'Sagsnr.', 'energy_mark_src',\n",
            "       'Energimærke '],\n",
            "      dtype='object')\n"
          ]
        }
      ],
      "source": [
        "print(df.columns)"
      ]
    },
    {
      "cell_type": "code",
      "execution_count": 312,
      "metadata": {
        "id": "RuHHsTF9ENEU"
      },
      "outputs": [],
      "source": [
        "#'monthly_rent' and 'Månedlig leje' both refer to \"monthly rent\" (one in English and one in Danish).\n",
        "#'available_from' and 'Ledig fra' both refer to \"available from\" (one in English and one in Danish).\n",
        "# 'Indflytningspris' refer to move_in_price which is the same as the english move_in_price column\n",
        "# 'Lejeperiode' and rental_period both refer to rental period\n",
        "# 'Aconto' and monthly_aconto both refer to aconto\n",
        "\n",
        "\n",
        "# Drop the Danish versions if you want to keep the English ones\n",
        "df.drop(['Månedlig leje', 'Ledig fra', 'Indflytningspris', 'Lejeperiode', 'Aconto'], axis=1, inplace=True)"
      ]
    },
    {
      "cell_type": "code",
      "execution_count": 313,
      "metadata": {
        "id": "tBERVbyfAYc3"
      },
      "outputs": [],
      "source": [
        "# Now for easier understanding of which columns we need for our project we will translate the columns from Danish to English\n",
        "# Dictionary for translating column names\n",
        "translations = {\n",
        "    'breadcrumb': 'breadcrumb',\n",
        "    'title': 'title',\n",
        "    'description': 'description',\n",
        "    'address': 'address',\n",
        "    'monthly_rent': 'monthly_rent',\n",
        "    'monthly_aconto': 'monthly_aconto',\n",
        "    'move_in_price': 'move_in_price',\n",
        "    'available_from': 'available_from',\n",
        "    'rental_period': 'rental_period',\n",
        "    'Boligtype': 'housing_type',  # Danish: Boligtype\n",
        "    'Størrelse': 'size_sqm',  # Danish: Størrelse\n",
        "    'Værelser': 'rooms',  # Danish: Værelser\n",
        "    'Etage': 'floor',  # Danish: Etage\n",
        "    'Møbleret': 'furnished',  # Danish: Møbleret\n",
        "    'Delevenlig': 'roommate_friendly',  # Danish: Delevenlig\n",
        "    'Husdyr tilladt': 'pets_allowed',  # Danish: Husdyr tilladt\n",
        "    'Elevator': 'elevator',  # Danish: Elevator\n",
        "    'Seniorvenlig': 'senior_friendly',  # Danish: Seniorvenlig\n",
        "    'Kun for studerende': 'students_only',  # Danish: Kun for studerende\n",
        "    'Altan/terrasse': 'balcony_terrace',  # Danish: Altan/terrasse\n",
        "    'Parkering': 'parking',  # Danish: Parkering\n",
        "    'Opvaskemaskine': 'dishwasher',  # Danish: Opvaskemaskine\n",
        "    'Vaskemaskine': 'washing_machine',  # Danish: Vaskemaskine\n",
        "    'Ladestander': 'charging_station',  # Danish: Ladestander\n",
        "    'Tørretumbler': 'dryer',  # Danish: Tørretumbler\n",
        "    'Lejeperiode': 'rental_period',  # Danish: Lejeperiode\n",
        "    'Ledig fra': 'available_from',  # Danish: Ledig fra\n",
        "    'Månedlig leje': 'monthly_rent',  # Danish: Månedlig leje\n",
        "    'Aconto': 'aconto',  # Danish: Aconto\n",
        "    'Depositum': 'deposit',  # Danish: Depositum\n",
        "    'Forudbetalt husleje': 'prepaid_rent',  # Danish: Forudbetalt husleje\n",
        "    'Indflytningspris': 'move_in_price',  # Danish: Indflytningspris\n",
        "    'Oprettelsesdato': 'creation_date',  # Danish: Oprettelsesdato\n",
        "    'Sagsnr.': 'case_number',  # Danish: Sagsnr.\n",
        "    'energy_mark_src': 'energy_mark_source',\n",
        "    'Energimærke ': 'energy_label'  # Danish: Energimærke\n",
        "}\n",
        "\n",
        "# Apply the translations to rename columns\n",
        "df.rename(columns=translations, inplace=True)"
      ]
    },
    {
      "cell_type": "code",
      "execution_count": 314,
      "metadata": {
        "colab": {
          "base_uri": "https://localhost:8080/"
        },
        "id": "kLWf12d6A1Ju",
        "outputId": "5e989d92-3b4a-4a5d-f8df-cc50e8972c61"
      },
      "outputs": [
        {
          "name": "stdout",
          "output_type": "stream",
          "text": [
            "Index(['breadcrumb', 'title', 'description', 'address', 'monthly_rent',\n",
            "       'monthly_aconto', 'move_in_price', 'available_from', 'rental_period',\n",
            "       'housing_type', 'size_sqm', 'rooms', 'floor', 'furnished',\n",
            "       'roommate_friendly', 'pets_allowed', 'elevator', 'senior_friendly',\n",
            "       'students_only', 'balcony_terrace', 'parking', 'dishwasher',\n",
            "       'washing_machine', 'charging_station', 'dryer', 'deposit',\n",
            "       'prepaid_rent', 'creation_date', 'case_number', 'energy_mark_source',\n",
            "       'energy_label'],\n",
            "      dtype='object')\n"
          ]
        }
      ],
      "source": [
        "print(df.columns)"
      ]
    },
    {
      "cell_type": "code",
      "execution_count": 315,
      "metadata": {
        "id": "bftv3bTPCRTo"
      },
      "outputs": [],
      "source": [
        "#Check for Extra Spaces: It's possible that the column names have leading or trailing spaces, which is common when importing data.\n",
        "# Let's clean the column names by stripping any unnecessary spaces.\n",
        "\n",
        "# Strip any leading or trailing spaces from column names\n",
        "df.columns = df.columns.str.strip()"
      ]
    },
    {
      "cell_type": "code",
      "execution_count": 316,
      "metadata": {
        "colab": {
          "base_uri": "https://localhost:8080/"
        },
        "id": "ykLp2iqHEgP6",
        "outputId": "93490695-a8a9-4cb3-8d9a-46efee10fa61"
      },
      "outputs": [
        {
          "name": "stdout",
          "output_type": "stream",
          "text": [
            "<class 'pandas.core.frame.DataFrame'>\n",
            "RangeIndex: 1897 entries, 0 to 1896\n",
            "Data columns (total 31 columns):\n",
            " #   Column              Non-Null Count  Dtype  \n",
            "---  ------              --------------  -----  \n",
            " 0   breadcrumb          1897 non-null   object \n",
            " 1   title               1897 non-null   object \n",
            " 2   description         1897 non-null   object \n",
            " 3   address             1897 non-null   object \n",
            " 4   monthly_rent        1897 non-null   object \n",
            " 5   monthly_aconto      1897 non-null   object \n",
            " 6   move_in_price       1897 non-null   object \n",
            " 7   available_from      1897 non-null   object \n",
            " 8   rental_period       1897 non-null   object \n",
            " 9   housing_type        1897 non-null   object \n",
            " 10  size_sqm            1897 non-null   object \n",
            " 11  rooms               1897 non-null   float64\n",
            " 12  floor               1897 non-null   object \n",
            " 13  furnished           1897 non-null   object \n",
            " 14  roommate_friendly   1897 non-null   object \n",
            " 15  pets_allowed        1897 non-null   object \n",
            " 16  elevator            1897 non-null   object \n",
            " 17  senior_friendly     1897 non-null   object \n",
            " 18  students_only       1897 non-null   object \n",
            " 19  balcony_terrace     1897 non-null   object \n",
            " 20  parking             1897 non-null   object \n",
            " 21  dishwasher          1897 non-null   object \n",
            " 22  washing_machine     1897 non-null   object \n",
            " 23  charging_station    1897 non-null   object \n",
            " 24  dryer               1897 non-null   object \n",
            " 25  deposit             1897 non-null   object \n",
            " 26  prepaid_rent        1827 non-null   object \n",
            " 27  creation_date       1897 non-null   object \n",
            " 28  case_number         1897 non-null   int64  \n",
            " 29  energy_mark_source  1897 non-null   object \n",
            " 30  energy_label        898 non-null    object \n",
            "dtypes: float64(1), int64(1), object(29)\n",
            "memory usage: 459.6+ KB\n"
          ]
        }
      ],
      "source": [
        "df.info()"
      ]
    },
    {
      "cell_type": "code",
      "execution_count": 317,
      "metadata": {
        "id": "egnAva1PEXru"
      },
      "outputs": [],
      "source": [
        "# We will now try to transform some of object data types to numeric ones. Mostly those that refer to prices.\n",
        "columns_to_transform=['monthly_rent', 'monthly_aconto', 'deposit', 'prepaid_rent']\n",
        "# Remove ' kr' and '.' for multiple columns\n",
        "df[columns_to_transform] = df[columns_to_transform].apply(lambda x: x.str.replace('kr', '').str.replace('.', '').str.replace(',', '').str.strip() if x.str else '0')"
      ]
    },
    {
      "cell_type": "code",
      "execution_count": 318,
      "metadata": {},
      "outputs": [],
      "source": [
        "df['move_in_price'] = df['move_in_price'].apply(lambda x: x.replace('måneder','').replace('Ubegrænset','0').replace('+','').split('-')[0])"
      ]
    },
    {
      "cell_type": "code",
      "execution_count": 319,
      "metadata": {
        "id": "mHGz7bJ5QKxX"
      },
      "outputs": [],
      "source": [
        "column=['move_in_price']\n",
        "\n",
        "df[column]= df[column].apply(lambda x: x.str.replace(' kr', '').str.replace('.', '').str.replace(',', ''))"
      ]
    },
    {
      "cell_type": "code",
      "execution_count": 320,
      "metadata": {
        "id": "lLL-OuzjfAAR"
      },
      "outputs": [],
      "source": [
        "df[columns_to_transform+['move_in_price']] = df[columns_to_transform+['move_in_price']].apply(pd.to_numeric)"
      ]
    },
    {
      "cell_type": "code",
      "execution_count": 321,
      "metadata": {},
      "outputs": [],
      "source": [
        "# In the move in price, whenever we have a value between 0 and 24 it's months of rent, so we multiply the months by monthly rent to get the accurate move_in_price and replace it with the number of months\n",
        "df.loc[(df['move_in_price']<25)&(df['move_in_price']>0),'move_in_price'] = df.loc[(df['move_in_price']<25)&(df['move_in_price']>0),'move_in_price']*df.loc[(df['move_in_price']<25)&(df['move_in_price']>0),'monthly_rent']"
      ]
    },
    {
      "cell_type": "code",
      "execution_count": 322,
      "metadata": {},
      "outputs": [],
      "source": [
        "# assumption: set prepaid rent to 0 when it's NaN\n",
        "\n",
        "df['prepaid_rent'] = df['prepaid_rent'].fillna('0').astype(float)"
      ]
    },
    {
      "cell_type": "code",
      "execution_count": 323,
      "metadata": {},
      "outputs": [],
      "source": [
        "df[df.select_dtypes(include=['float']).columns] = df.select_dtypes(include=['float']).astype(int)"
      ]
    },
    {
      "cell_type": "code",
      "execution_count": 324,
      "metadata": {},
      "outputs": [],
      "source": [
        "df['energy_mark'] = df['energy_mark_source'].apply(lambda x: x.split('/')[-1].split('_')[0])"
      ]
    },
    {
      "cell_type": "code",
      "execution_count": 325,
      "metadata": {},
      "outputs": [],
      "source": [
        "df['size_sqm'] = df['size_sqm'].apply(lambda x: x.replace('m²','').strip().split('.')[0]).astype(int)"
      ]
    },
    {
      "cell_type": "code",
      "execution_count": 326,
      "metadata": {},
      "outputs": [],
      "source": [
        "df.drop(columns=['energy_mark_source','energy_label','breadcrumb','title','description','rental_period', 'case_number'], inplace=True)"
      ]
    },
    {
      "cell_type": "code",
      "execution_count": 327,
      "metadata": {},
      "outputs": [],
      "source": [
        "# Replacing As soon as possible in available_from column with the creation_date of the correspondent listing\n",
        "df.loc[df['available_from'].str.contains('Snarest'),'available_from'] = df.loc[df['available_from'].str.contains('Snarest'),'creation_date']"
      ]
    },
    {
      "cell_type": "code",
      "execution_count": 328,
      "metadata": {},
      "outputs": [],
      "source": [
        "import datetime\n",
        "\n",
        "# Dictionary to map Danish month names to numbers\n",
        "danish_months = {\n",
        "    \" januar \": \"1.\",\n",
        "    \" februar \": \"2.\",\n",
        "    \" marts \": \"3.\",\n",
        "    \" april \": \"4.\",\n",
        "    \" maj \": \"5.\",\n",
        "    \" juni \": \"6.\",\n",
        "    \" juli \": \"7.\",\n",
        "    \" august \": \"8.\",\n",
        "    \" september \": \"9.\",\n",
        "    \" oktober \": \"10.\",\n",
        "    \" november \": \"11.\",\n",
        "    \" december \": \"12.\"\n",
        "}\n",
        "\n",
        "def format_date(date_str):\n",
        "    # Try to parse the date with the Danish month name\n",
        "    for month, number in danish_months.items():\n",
        "        if month in date_str:\n",
        "            # Replace the month name with the corresponding number\n",
        "            date_str = date_str.replace(month, number)\n",
        "            # Parse the date to a datetime object\n",
        "            #date_obj = datetime.datetime.strptime(date_str, \"%d. %m. %Y\")\n",
        "            #return date_obj.strftime(\"%d.%m.%Y\")\n",
        "            return date_str\n",
        "    # If it's already in the correct format\n",
        "    #date_obj = datetime.datetime.strptime(date_str, \"%d.%m.%Y\")\n",
        "    return date_str"
      ]
    },
    {
      "cell_type": "code",
      "execution_count": 329,
      "metadata": {},
      "outputs": [],
      "source": [
        "df['available_from'] = pd.to_datetime(df['available_from'].apply(format_date), dayfirst=True)"
      ]
    },
    {
      "cell_type": "code",
      "execution_count": 330,
      "metadata": {},
      "outputs": [],
      "source": [
        "df['creation_date'] = pd.to_datetime(df['creation_date'], dayfirst=True)"
      ]
    },
    {
      "cell_type": "code",
      "execution_count": 331,
      "metadata": {},
      "outputs": [],
      "source": [
        "df['area'] = df['address'].apply(lambda x: x.split('-')[0].split(',')[-1].strip() if '-' in x else x.split(',')[-1].strip())"
      ]
    },
    {
      "cell_type": "code",
      "execution_count": 332,
      "metadata": {},
      "outputs": [],
      "source": [
        "# We want to make floor a numeric var so we have to make assumptions: Stuen (=living room) is ground floor, Kælder (=cellar) is -1, - is translated to 0 as there is no floor\n",
        "df['floor'] = df['floor'].apply(lambda x: x.replace('Stuen','0').replace('Kælder','-1').replace('-','0').replace('.','')).astype(int)"
      ]
    },
    {
      "cell_type": "code",
      "execution_count": 333,
      "metadata": {},
      "outputs": [],
      "source": [
        "df.drop(columns=['address'],inplace=True)"
      ]
    },
    {
      "cell_type": "code",
      "execution_count": 334,
      "metadata": {},
      "outputs": [
        {
          "name": "stdout",
          "output_type": "stream",
          "text": [
            "Type: int64\n",
            "Columns: ['monthly_rent', 'monthly_aconto', 'move_in_price', 'size_sqm', 'rooms', 'floor', 'deposit', 'prepaid_rent']\n",
            "\n",
            "Type: datetime64[ns]\n",
            "Columns: ['available_from', 'creation_date']\n",
            "\n",
            "Type: object\n",
            "Columns: ['housing_type', 'furnished', 'roommate_friendly', 'pets_allowed', 'elevator', 'senior_friendly', 'students_only', 'balcony_terrace', 'parking', 'dishwasher', 'washing_machine', 'charging_station', 'dryer', 'energy_mark', 'area']\n",
            "\n"
          ]
        }
      ],
      "source": [
        "for dtype, columns in df.columns.to_series().groupby(df.dtypes):\n",
        "    print(f\"Type: {dtype}\")\n",
        "    print(f\"Columns: {list(columns)}\\n\")"
      ]
    },
    {
      "cell_type": "code",
      "execution_count": 335,
      "metadata": {},
      "outputs": [
        {
          "name": "stdout",
          "output_type": "stream",
          "text": [
            "###########################\n",
            "housing_type\n",
            "['Lejlighed' 'Værelse']\n",
            "\n",
            "###########################\n",
            "furnished\n",
            "['Ja' 'Nej']\n",
            "\n",
            "###########################\n",
            "roommate_friendly\n",
            "['Nej' 'Ja' 'Ikke angivet']\n",
            "\n",
            "###########################\n",
            "pets_allowed\n",
            "['Nej' 'Ja' 'Ikke angivet']\n",
            "\n",
            "###########################\n",
            "elevator\n",
            "['Nej' 'Ja' 'Ikke angivet']\n",
            "\n",
            "###########################\n",
            "senior_friendly\n",
            "['Nej' 'Ikke angivet' 'Ja']\n",
            "\n",
            "###########################\n",
            "students_only\n",
            "['Nej' 'Ja' 'Ikke angivet']\n",
            "\n",
            "###########################\n",
            "balcony_terrace\n",
            "['Nej' 'Ja' 'Ikke angivet']\n",
            "\n",
            "###########################\n",
            "parking\n",
            "['Nej' 'Ja' 'Ikke angivet']\n",
            "\n",
            "###########################\n",
            "dishwasher\n",
            "['Ikke angivet' 'Ja' 'Nej']\n",
            "\n",
            "###########################\n",
            "washing_machine\n",
            "['Ja' 'Ikke angivet' 'Nej']\n",
            "\n",
            "###########################\n",
            "charging_station\n",
            "['Ikke angivet' 'Nej' 'Ja']\n",
            "\n",
            "###########################\n",
            "dryer\n",
            "['Ikke angivet' 'Ja' 'Nej']\n",
            "\n",
            "###########################\n",
            "energy_mark\n",
            "['D' 'A15' 'A20' 'C' 'none' 'A10' 'B' 'G' 'F' 'E']\n",
            "\n",
            "###########################\n",
            "area\n",
            "['Frederiksberg C' 'Bagsværd' 'Kastrup' 'København S' 'København V'\n",
            " 'Kongens Lyngby' 'Valby' 'København NV' 'Vallensbæk Strand' 'København Ø'\n",
            " 'København SV' 'Skovlunde' 'København K' 'Herlev' 'Gentofte' 'Glostrup'\n",
            " 'Taastrup' 'Ballerup' 'Frederiksberg' 'Brønshøj' 'Hellerup' 'København N'\n",
            " 'Vanløse' 'Rødovre' 'Søborg' 'Skodsborg' 'Dragør' 'Nordhavn' 'Hvidovre'\n",
            " 'Brøndby' 'Holte' 'Albertslund' 'Hedehusene' 'Virum' 'Måløv' 'Nærum'\n",
            " 'Charlottenlund' 'Ishøj' 'Vedbæk' 'Dyssegård' 'Vallensbæk' 'Klampenborg'\n",
            " 'Værløse' 'Smørum']\n",
            "\n"
          ]
        }
      ],
      "source": [
        "for col in df.columns:\n",
        "    if df.dtypes[col] == 'O':\n",
        "        print('###########################')\n",
        "        print(col)\n",
        "        print(df[col].unique(),end='\\n\\n')"
      ]
    },
    {
      "cell_type": "code",
      "execution_count": 336,
      "metadata": {},
      "outputs": [],
      "source": [
        "# create new column availability_in: buckets of <1 month, 1-3 months, 3+ months\n",
        "\n",
        "df['availability_in'] = df.apply(lambda x: '<1 month' if (x['available_from']-x['creation_date']).days <30 else ('1-3 months' if (x['available_from']-x['creation_date']).days <90 else '3+ months'), axis = 1)"
      ]
    },
    {
      "cell_type": "code",
      "execution_count": 337,
      "metadata": {},
      "outputs": [],
      "source": [
        "df.drop(columns=['available_from','creation_date'],inplace=True)"
      ]
    },
    {
      "cell_type": "code",
      "execution_count": 338,
      "metadata": {},
      "outputs": [],
      "source": [
        "pd.set_option('display.max_columns',100)"
      ]
    },
    {
      "cell_type": "code",
      "execution_count": 339,
      "metadata": {},
      "outputs": [
        {
          "data": {
            "text/html": [
              "<div>\n",
              "<style scoped>\n",
              "    .dataframe tbody tr th:only-of-type {\n",
              "        vertical-align: middle;\n",
              "    }\n",
              "\n",
              "    .dataframe tbody tr th {\n",
              "        vertical-align: top;\n",
              "    }\n",
              "\n",
              "    .dataframe thead th {\n",
              "        text-align: right;\n",
              "    }\n",
              "</style>\n",
              "<table border=\"1\" class=\"dataframe\">\n",
              "  <thead>\n",
              "    <tr style=\"text-align: right;\">\n",
              "      <th></th>\n",
              "      <th>monthly_rent</th>\n",
              "      <th>monthly_aconto</th>\n",
              "      <th>move_in_price</th>\n",
              "      <th>housing_type</th>\n",
              "      <th>size_sqm</th>\n",
              "      <th>rooms</th>\n",
              "      <th>floor</th>\n",
              "      <th>furnished</th>\n",
              "      <th>roommate_friendly</th>\n",
              "      <th>pets_allowed</th>\n",
              "      <th>elevator</th>\n",
              "      <th>senior_friendly</th>\n",
              "      <th>students_only</th>\n",
              "      <th>balcony_terrace</th>\n",
              "      <th>parking</th>\n",
              "      <th>dishwasher</th>\n",
              "      <th>washing_machine</th>\n",
              "      <th>charging_station</th>\n",
              "      <th>dryer</th>\n",
              "      <th>deposit</th>\n",
              "      <th>prepaid_rent</th>\n",
              "      <th>energy_mark</th>\n",
              "      <th>area</th>\n",
              "      <th>availability_in</th>\n",
              "    </tr>\n",
              "  </thead>\n",
              "  <tbody>\n",
              "    <tr>\n",
              "      <th>0</th>\n",
              "      <td>12850</td>\n",
              "      <td>1350</td>\n",
              "      <td>52750</td>\n",
              "      <td>Lejlighed</td>\n",
              "      <td>86</td>\n",
              "      <td>3</td>\n",
              "      <td>3</td>\n",
              "      <td>Ja</td>\n",
              "      <td>Nej</td>\n",
              "      <td>Nej</td>\n",
              "      <td>Nej</td>\n",
              "      <td>Nej</td>\n",
              "      <td>Nej</td>\n",
              "      <td>Nej</td>\n",
              "      <td>Nej</td>\n",
              "      <td>Ikke angivet</td>\n",
              "      <td>Ja</td>\n",
              "      <td>Ikke angivet</td>\n",
              "      <td>Ikke angivet</td>\n",
              "      <td>38550</td>\n",
              "      <td>0</td>\n",
              "      <td>D</td>\n",
              "      <td>Frederiksberg C</td>\n",
              "      <td>&lt;1 month</td>\n",
              "    </tr>\n",
              "    <tr>\n",
              "      <th>1</th>\n",
              "      <td>15700</td>\n",
              "      <td>1224</td>\n",
              "      <td>79724</td>\n",
              "      <td>Lejlighed</td>\n",
              "      <td>113</td>\n",
              "      <td>4</td>\n",
              "      <td>4</td>\n",
              "      <td>Nej</td>\n",
              "      <td>Nej</td>\n",
              "      <td>Ja</td>\n",
              "      <td>Ja</td>\n",
              "      <td>Nej</td>\n",
              "      <td>Nej</td>\n",
              "      <td>Ja</td>\n",
              "      <td>Ja</td>\n",
              "      <td>Ja</td>\n",
              "      <td>Ja</td>\n",
              "      <td>Nej</td>\n",
              "      <td>Ja</td>\n",
              "      <td>47100</td>\n",
              "      <td>15700</td>\n",
              "      <td>A15</td>\n",
              "      <td>Bagsværd</td>\n",
              "      <td>1-3 months</td>\n",
              "    </tr>\n",
              "    <tr>\n",
              "      <th>2</th>\n",
              "      <td>5000</td>\n",
              "      <td>1000</td>\n",
              "      <td>21000</td>\n",
              "      <td>Værelse</td>\n",
              "      <td>9</td>\n",
              "      <td>1</td>\n",
              "      <td>0</td>\n",
              "      <td>Ja</td>\n",
              "      <td>Ja</td>\n",
              "      <td>Nej</td>\n",
              "      <td>Nej</td>\n",
              "      <td>Nej</td>\n",
              "      <td>Nej</td>\n",
              "      <td>Ja</td>\n",
              "      <td>Ja</td>\n",
              "      <td>Ikke angivet</td>\n",
              "      <td>Ja</td>\n",
              "      <td>Ikke angivet</td>\n",
              "      <td>Ja</td>\n",
              "      <td>15000</td>\n",
              "      <td>0</td>\n",
              "      <td>A20</td>\n",
              "      <td>Kastrup</td>\n",
              "      <td>1-3 months</td>\n",
              "    </tr>\n",
              "    <tr>\n",
              "      <th>3</th>\n",
              "      <td>3500</td>\n",
              "      <td>500</td>\n",
              "      <td>11500</td>\n",
              "      <td>Værelse</td>\n",
              "      <td>14</td>\n",
              "      <td>1</td>\n",
              "      <td>0</td>\n",
              "      <td>Ja</td>\n",
              "      <td>Ja</td>\n",
              "      <td>Nej</td>\n",
              "      <td>Nej</td>\n",
              "      <td>Nej</td>\n",
              "      <td>Nej</td>\n",
              "      <td>Ja</td>\n",
              "      <td>Ja</td>\n",
              "      <td>Nej</td>\n",
              "      <td>Ja</td>\n",
              "      <td>Nej</td>\n",
              "      <td>Ja</td>\n",
              "      <td>4000</td>\n",
              "      <td>3500</td>\n",
              "      <td>C</td>\n",
              "      <td>København S</td>\n",
              "      <td>1-3 months</td>\n",
              "    </tr>\n",
              "    <tr>\n",
              "      <th>4</th>\n",
              "      <td>4650</td>\n",
              "      <td>0</td>\n",
              "      <td>13950</td>\n",
              "      <td>Værelse</td>\n",
              "      <td>7</td>\n",
              "      <td>1</td>\n",
              "      <td>4</td>\n",
              "      <td>Ja</td>\n",
              "      <td>Nej</td>\n",
              "      <td>Nej</td>\n",
              "      <td>Ja</td>\n",
              "      <td>Nej</td>\n",
              "      <td>Ja</td>\n",
              "      <td>Nej</td>\n",
              "      <td>Nej</td>\n",
              "      <td>Ikke angivet</td>\n",
              "      <td>Ikke angivet</td>\n",
              "      <td>Ikke angivet</td>\n",
              "      <td>Ikke angivet</td>\n",
              "      <td>9300</td>\n",
              "      <td>0</td>\n",
              "      <td>none</td>\n",
              "      <td>København V</td>\n",
              "      <td>&lt;1 month</td>\n",
              "    </tr>\n",
              "  </tbody>\n",
              "</table>\n",
              "</div>"
            ],
            "text/plain": [
              "   monthly_rent  monthly_aconto  move_in_price housing_type  size_sqm  rooms  \\\n",
              "0         12850            1350          52750    Lejlighed        86      3   \n",
              "1         15700            1224          79724    Lejlighed       113      4   \n",
              "2          5000            1000          21000      Værelse         9      1   \n",
              "3          3500             500          11500      Værelse        14      1   \n",
              "4          4650               0          13950      Værelse         7      1   \n",
              "\n",
              "   floor furnished roommate_friendly pets_allowed elevator senior_friendly  \\\n",
              "0      3        Ja               Nej          Nej      Nej             Nej   \n",
              "1      4       Nej               Nej           Ja       Ja             Nej   \n",
              "2      0        Ja                Ja          Nej      Nej             Nej   \n",
              "3      0        Ja                Ja          Nej      Nej             Nej   \n",
              "4      4        Ja               Nej          Nej       Ja             Nej   \n",
              "\n",
              "  students_only balcony_terrace parking    dishwasher washing_machine  \\\n",
              "0           Nej             Nej     Nej  Ikke angivet              Ja   \n",
              "1           Nej              Ja      Ja            Ja              Ja   \n",
              "2           Nej              Ja      Ja  Ikke angivet              Ja   \n",
              "3           Nej              Ja      Ja           Nej              Ja   \n",
              "4            Ja             Nej     Nej  Ikke angivet    Ikke angivet   \n",
              "\n",
              "  charging_station         dryer  deposit  prepaid_rent energy_mark  \\\n",
              "0     Ikke angivet  Ikke angivet    38550             0           D   \n",
              "1              Nej            Ja    47100         15700         A15   \n",
              "2     Ikke angivet            Ja    15000             0         A20   \n",
              "3              Nej            Ja     4000          3500           C   \n",
              "4     Ikke angivet  Ikke angivet     9300             0        none   \n",
              "\n",
              "              area availability_in  \n",
              "0  Frederiksberg C        <1 month  \n",
              "1         Bagsværd      1-3 months  \n",
              "2          Kastrup      1-3 months  \n",
              "3      København S      1-3 months  \n",
              "4      København V        <1 month  "
            ]
          },
          "execution_count": 339,
          "metadata": {},
          "output_type": "execute_result"
        }
      ],
      "source": [
        "df.head()"
      ]
    },
    {
      "cell_type": "code",
      "execution_count": 340,
      "metadata": {},
      "outputs": [
        {
          "name": "stdout",
          "output_type": "stream",
          "text": [
            "<class 'pandas.core.frame.DataFrame'>\n",
            "RangeIndex: 1897 entries, 0 to 1896\n",
            "Data columns (total 24 columns):\n",
            " #   Column             Non-Null Count  Dtype \n",
            "---  ------             --------------  ----- \n",
            " 0   monthly_rent       1897 non-null   int64 \n",
            " 1   monthly_aconto     1897 non-null   int64 \n",
            " 2   move_in_price      1897 non-null   int64 \n",
            " 3   housing_type       1897 non-null   object\n",
            " 4   size_sqm           1897 non-null   int64 \n",
            " 5   rooms              1897 non-null   int64 \n",
            " 6   floor              1897 non-null   int64 \n",
            " 7   furnished          1897 non-null   object\n",
            " 8   roommate_friendly  1897 non-null   object\n",
            " 9   pets_allowed       1897 non-null   object\n",
            " 10  elevator           1897 non-null   object\n",
            " 11  senior_friendly    1897 non-null   object\n",
            " 12  students_only      1897 non-null   object\n",
            " 13  balcony_terrace    1897 non-null   object\n",
            " 14  parking            1897 non-null   object\n",
            " 15  dishwasher         1897 non-null   object\n",
            " 16  washing_machine    1897 non-null   object\n",
            " 17  charging_station   1897 non-null   object\n",
            " 18  dryer              1897 non-null   object\n",
            " 19  deposit            1897 non-null   int64 \n",
            " 20  prepaid_rent       1897 non-null   int64 \n",
            " 21  energy_mark        1897 non-null   object\n",
            " 22  area               1897 non-null   object\n",
            " 23  availability_in    1897 non-null   object\n",
            "dtypes: int64(8), object(16)\n",
            "memory usage: 355.8+ KB\n"
          ]
        }
      ],
      "source": [
        "df.info()"
      ]
    },
    {
      "cell_type": "code",
      "execution_count": 341,
      "metadata": {},
      "outputs": [],
      "source": [
        "continuous_vars = ['monthly_rent','monthly_aconto','move_in_price','size_sqm','deposit','prepaid_rent']\n",
        "df[continuous_vars] = df[continuous_vars].astype(float)"
      ]
    },
    {
      "cell_type": "code",
      "execution_count": 342,
      "metadata": {},
      "outputs": [
        {
          "name": "stdout",
          "output_type": "stream",
          "text": [
            "- monthly_rent: continuous/ratio\n",
            "- monthly_aconto: continuous/ratio\n",
            "- move_in_price: continuous/ratio\n",
            "- housing_type: discrete/nominal\n",
            "- size_sqm: continuous/ratio\n",
            "- rooms: continuous/ordinal\n",
            "- floor: continuous/ordinal\n",
            "- furnished: discrete/nominal\n",
            "- roommate_friendly: discrete/nominal\n",
            "- pets_allowed: discrete/nominal\n",
            "- elevator: discrete/nominal\n",
            "- senior_friendly: discrete/nominal\n",
            "- students_only: discrete/nominal\n",
            "- balcony_terrace: discrete/nominal\n",
            "- parking: discrete/nominal\n",
            "- dishwasher: discrete/nominal\n",
            "- washing_machine: discrete/nominal\n",
            "- charging_station: discrete/nominal\n",
            "- dryer: discrete/nominal\n",
            "- deposit: continuous/ratio\n",
            "- prepaid_rent: continuous/ratio\n",
            "- energy_mark: discrete/nominal\n",
            "- area: discrete/nominal\n",
            "- availability_in: discrete/nominal\n"
          ]
        }
      ],
      "source": [
        "for i,type in enumerate(df.dtypes):\n",
        "    print('- '+df.columns[i]+': '+str(type).replace('object','discrete/nominal').replace('int64','continuous/ordinal').replace('float64','continuous/ratio'))"
      ]
    },
    {
      "cell_type": "code",
      "execution_count": 343,
      "metadata": {},
      "outputs": [
        {
          "data": {
            "text/plain": [
              "energy_mark\n",
              "A10      4.322615\n",
              "A15     12.967844\n",
              "A20     12.177122\n",
              "B        3.637322\n",
              "C       11.228255\n",
              "D        6.114918\n",
              "E        1.528730\n",
              "F        0.421719\n",
              "G        0.263574\n",
              "none    47.337902\n",
              "Name: monthly_rent, dtype: float64"
            ]
          },
          "execution_count": 343,
          "metadata": {},
          "output_type": "execute_result"
        }
      ],
      "source": [
        "df.groupby(df['energy_mark']).count().iloc[:,0]/len(df)*100"
      ]
    },
    {
      "cell_type": "code",
      "execution_count": 344,
      "metadata": {},
      "outputs": [],
      "source": [
        "df.to_csv('preprocessed_data.csv', index=False, header=True, encoding='utf-8')"
      ]
    }
  ],
  "metadata": {
    "colab": {
      "provenance": []
    },
    "kernelspec": {
      "display_name": "Python 3",
      "name": "python3"
    },
    "language_info": {
      "codemirror_mode": {
        "name": "ipython",
        "version": 3
      },
      "file_extension": ".py",
      "mimetype": "text/x-python",
      "name": "python",
      "nbconvert_exporter": "python",
      "pygments_lexer": "ipython3",
      "version": "3.11.9"
    }
  },
  "nbformat": 4,
  "nbformat_minor": 0
}
