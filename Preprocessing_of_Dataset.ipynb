{
 "cells": [
  {
   "cell_type": "code",
   "execution_count": null,
   "metadata": {
    "id": "YQDSooq2iCRl"
   },
   "outputs": [],
   "source": [
    "import pandas as pd\n",
    "import numpy as np\n",
    "import matplotlib.pyplot as plt\n",
    "import seaborn as sns\n"
   ]
  },
  {
   "cell_type": "code",
   "execution_count": null,
   "metadata": {
    "id": "rkAXIKAZjRX-"
   },
   "outputs": [],
   "source": [
    "df = pd.read_csv('bolig_data1.csv')"
   ]
  },
  {
   "cell_type": "code",
   "execution_count": null,
   "metadata": {
    "colab": {
     "base_uri": "https://localhost:8080/"
    },
    "id": "R17DeAS1jdnz",
    "outputId": "a59ecd4d-c008-4ff7-e286-afc5bc0dd82e"
   },
   "outputs": [],
   "source": [
    "#we start inspecting how our dataset looks like.\n",
    "df.info()"
   ]
  },
  {
   "cell_type": "code",
   "execution_count": null,
   "metadata": {},
   "outputs": [],
   "source": [
    "pd.set_option('display.max_rows',500)"
   ]
  },
  {
   "cell_type": "code",
   "execution_count": null,
   "metadata": {
    "colab": {
     "base_uri": "https://localhost:8080/",
     "height": 741
    },
    "id": "Bcy_CyDxj-Da",
    "outputId": "fa4f1c3a-5b3e-4d80-bd72-76c9b418e6f8"
   },
   "outputs": [],
   "source": [
    "df.head()"
   ]
  },
  {
   "cell_type": "code",
   "execution_count": null,
   "metadata": {},
   "outputs": [],
   "source": [
    "pcts = df.isnull().sum()/len(df)*100"
   ]
  },
  {
   "cell_type": "code",
   "execution_count": null,
   "metadata": {
    "colab": {
     "base_uri": "https://localhost:8080/",
     "height": 1000
    },
    "id": "oNRnp0jZkAgh",
    "outputId": "397a1553-4077-470c-eca4-e71a37da62cf"
   },
   "outputs": [],
   "source": [
    "for null_col,pct in zip(df.columns[pcts>0],pcts[df.columns[pcts>0]]):\n",
    "    print(f'{null_col}: {pct:.2f}% null')"
   ]
  },
  {
   "cell_type": "code",
   "execution_count": null,
   "metadata": {
    "colab": {
     "base_uri": "https://localhost:8080/"
    },
    "id": "MxKxfp1HmwGW",
    "outputId": "5837d694-d962-45dd-8612-8db3816b9aa7"
   },
   "outputs": [],
   "source": [
    "print(df.columns)"
   ]
  },
  {
   "cell_type": "code",
   "execution_count": null,
   "metadata": {
    "id": "RuHHsTF9ENEU"
   },
   "outputs": [],
   "source": [
    "#'monthly_rent' and 'Månedlig leje' both refer to \"monthly rent\" (one in English and one in Danish).\n",
    "#'available_from' and 'Ledig fra' both refer to \"available from\" (one in English and one in Danish).\n",
    "# 'Indflytningspris' refer to move_in_price which is the same as the english move_in_price column\n",
    "# 'Lejeperiode' and rental_period both refer to rental period\n",
    "# 'Aconto' and monthly_aconto both refer to aconto\n",
    "# 'move_in_price' is a sum of other variables and we will not include it\n",
    "\n",
    "\n",
    "# Drop the Danish versions if you want to keep the English ones\n",
    "df.drop(['Månedlig leje', 'Ledig fra', 'Indflytningspris', 'Lejeperiode', 'Aconto','move_in_price'], axis=1, inplace=True)"
   ]
  },
  {
   "cell_type": "code",
   "execution_count": null,
   "metadata": {
    "id": "tBERVbyfAYc3"
   },
   "outputs": [],
   "source": [
    "# Now for easier understanding of which columns we need for our project we will translate the columns from Danish to English\n",
    "# Dictionary for translating column names\n",
    "translations = {\n",
    "    'breadcrumb': 'breadcrumb',\n",
    "    'title': 'title',\n",
    "    'description': 'description',\n",
    "    'address': 'address',\n",
    "    'monthly_rent': 'monthly_rent',\n",
    "    'monthly_aconto': 'monthly_aconto',\n",
    "    'move_in_price': 'move_in_price',\n",
    "    'available_from': 'available_from',\n",
    "    'rental_period': 'rental_period',\n",
    "    'Boligtype': 'housing_type',  # Danish: Boligtype\n",
    "    'Størrelse': 'size_sqm',  # Danish: Størrelse\n",
    "    'Værelser': 'rooms',  # Danish: Værelser\n",
    "    'Etage': 'floor',  # Danish: Etage\n",
    "    'Møbleret': 'furnished',  # Danish: Møbleret\n",
    "    'Delevenlig': 'roommate_friendly',  # Danish: Delevenlig\n",
    "    'Husdyr tilladt': 'pets_allowed',  # Danish: Husdyr tilladt\n",
    "    'Elevator': 'elevator',  # Danish: Elevator\n",
    "    'Seniorvenlig': 'senior_friendly',  # Danish: Seniorvenlig\n",
    "    'Kun for studerende': 'students_only',  # Danish: Kun for studerende\n",
    "    'Altan/terrasse': 'balcony_terrace',  # Danish: Altan/terrasse\n",
    "    'Parkering': 'parking',  # Danish: Parkering\n",
    "    'Opvaskemaskine': 'dishwasher',  # Danish: Opvaskemaskine\n",
    "    'Vaskemaskine': 'washing_machine',  # Danish: Vaskemaskine\n",
    "    'Ladestander': 'charging_station',  # Danish: Ladestander\n",
    "    'Tørretumbler': 'dryer',  # Danish: Tørretumbler\n",
    "    'Lejeperiode': 'rental_period',  # Danish: Lejeperiode\n",
    "    'Ledig fra': 'available_from',  # Danish: Ledig fra\n",
    "    'Månedlig leje': 'monthly_rent',  # Danish: Månedlig leje\n",
    "    'Aconto': 'aconto',  # Danish: Aconto\n",
    "    'Depositum': 'deposit',  # Danish: Depositum\n",
    "    'Forudbetalt husleje': 'prepaid_rent',  # Danish: Forudbetalt husleje\n",
    "    'Indflytningspris': 'move_in_price',  # Danish: Indflytningspris\n",
    "    'Oprettelsesdato': 'creation_date',  # Danish: Oprettelsesdato\n",
    "    'Sagsnr.': 'case_number',  # Danish: Sagsnr.\n",
    "    'energy_mark_src': 'energy_mark_source',\n",
    "    'Energimærke ': 'energy_label'  # Danish: Energimærke\n",
    "}\n",
    "\n",
    "# Apply the translations to rename columns\n",
    "df.rename(columns=translations, inplace=True)"
   ]
  },
  {
   "cell_type": "code",
   "execution_count": null,
   "metadata": {
    "colab": {
     "base_uri": "https://localhost:8080/"
    },
    "id": "kLWf12d6A1Ju",
    "outputId": "5e989d92-3b4a-4a5d-f8df-cc50e8972c61"
   },
   "outputs": [],
   "source": [
    "print(df.columns)"
   ]
  },
  {
   "cell_type": "code",
   "execution_count": null,
   "metadata": {
    "id": "bftv3bTPCRTo"
   },
   "outputs": [],
   "source": [
    "#Check for Extra Spaces: It's possible that the column names have leading or trailing spaces, which is common when importing data.\n",
    "# Let's clean the column names by stripping any unnecessary spaces.\n",
    "\n",
    "# Strip any leading or trailing spaces from column names\n",
    "df.columns = df.columns.str.strip()"
   ]
  },
  {
   "cell_type": "code",
   "execution_count": null,
   "metadata": {
    "colab": {
     "base_uri": "https://localhost:8080/"
    },
    "id": "ykLp2iqHEgP6",
    "outputId": "93490695-a8a9-4cb3-8d9a-46efee10fa61"
   },
   "outputs": [],
   "source": [
    "df.info()"
   ]
  },
  {
   "cell_type": "code",
   "execution_count": null,
   "metadata": {
    "id": "egnAva1PEXru"
   },
   "outputs": [],
   "source": [
    "# We will now try to transform some of object data types to numeric ones. Mostly those that refer to prices.\n",
    "columns_to_transform=['monthly_rent', 'monthly_aconto', 'deposit', 'prepaid_rent']\n",
    "# Remove ' kr' and '.' for multiple columns\n",
    "df[columns_to_transform] = df[columns_to_transform].apply(lambda x: x.str.replace('kr', '').str.replace('.', '').str.replace(',', '').str.strip() if x.str else '0')"
   ]
  },
  {
   "cell_type": "code",
   "execution_count": null,
   "metadata": {},
   "outputs": [],
   "source": [
    "#df['move_in_price'] = df['move_in_price'].apply(lambda x: x.replace('måneder','').replace('Ubegrænset','0').replace('+','').split('-')[0])"
   ]
  },
  {
   "cell_type": "code",
   "execution_count": null,
   "metadata": {
    "id": "mHGz7bJ5QKxX"
   },
   "outputs": [],
   "source": [
    "# column=['move_in_price']\n",
    "\n",
    "# df[column]= df[column].apply(lambda x: x.str.replace(' kr', '').str.replace('.', '').str.replace(',', ''))"
   ]
  },
  {
   "cell_type": "code",
   "execution_count": null,
   "metadata": {
    "id": "lLL-OuzjfAAR"
   },
   "outputs": [],
   "source": [
    "df[columns_to_transform] = df[columns_to_transform].apply(pd.to_numeric)"
   ]
  },
  {
   "cell_type": "code",
   "execution_count": null,
   "metadata": {},
   "outputs": [],
   "source": [
    "# In the move in price, whenever we have a value between 0 and 24 it's months of rent, so we multiply the months by monthly rent to get the accurate move_in_price and replace it with the number of months\n",
    "# df.loc[(df['move_in_price']<25)&(df['move_in_price']>0),'move_in_price'] = df.loc[(df['move_in_price']<25)&(df['move_in_price']>0),'move_in_price']*df.loc[(df['move_in_price']<25)&(df['move_in_price']>0),'monthly_rent']"
   ]
  },
  {
   "cell_type": "code",
   "execution_count": null,
   "metadata": {},
   "outputs": [],
   "source": [
    "# assumption: set prepaid rent to 0 when it's NaN\n",
    "\n",
    "df['prepaid_rent'] = df['prepaid_rent'].fillna('0').astype(float)"
   ]
  },
  {
   "cell_type": "code",
   "execution_count": null,
   "metadata": {},
   "outputs": [],
   "source": [
    "df[df.select_dtypes(include=['float']).columns] = df.select_dtypes(include=['float']).astype(int)"
   ]
  },
  {
   "cell_type": "code",
   "execution_count": null,
   "metadata": {},
   "outputs": [],
   "source": [
    "df['energy_mark'] = df['energy_mark_source'].apply(lambda x: x.split('/')[-1].split('_')[0])"
   ]
  },
  {
   "cell_type": "code",
   "execution_count": null,
   "metadata": {},
   "outputs": [],
   "source": [
    "df['size_sqm'] = df['size_sqm'].apply(lambda x: x.replace('m²','').strip().split('.')[0]).astype(int)"
   ]
  },
  {
   "cell_type": "code",
   "execution_count": null,
   "metadata": {},
   "outputs": [],
   "source": [
    "df.drop(columns=['energy_mark_source','energy_label','breadcrumb','title','description','rental_period', 'case_number'], inplace=True)"
   ]
  },
  {
   "cell_type": "code",
   "execution_count": null,
   "metadata": {},
   "outputs": [],
   "source": [
    "# Replacing As soon as possible in available_from column with the creation_date of the correspondent listing\n",
    "df.loc[df['available_from'].str.contains('Snarest'),'available_from'] = df.loc[df['available_from'].str.contains('Snarest'),'creation_date']"
   ]
  },
  {
   "cell_type": "code",
   "execution_count": null,
   "metadata": {},
   "outputs": [],
   "source": [
    "import datetime\n",
    "\n",
    "# Dictionary to map Danish month names to numbers\n",
    "danish_months = {\n",
    "    \" januar \": \"1.\",\n",
    "    \" februar \": \"2.\",\n",
    "    \" marts \": \"3.\",\n",
    "    \" april \": \"4.\",\n",
    "    \" maj \": \"5.\",\n",
    "    \" juni \": \"6.\",\n",
    "    \" juli \": \"7.\",\n",
    "    \" august \": \"8.\",\n",
    "    \" september \": \"9.\",\n",
    "    \" oktober \": \"10.\",\n",
    "    \" november \": \"11.\",\n",
    "    \" december \": \"12.\"\n",
    "}\n",
    "\n",
    "def format_date(date_str):\n",
    "    # Try to parse the date with the Danish month name\n",
    "    for month, number in danish_months.items():\n",
    "        if month in date_str:\n",
    "            # Replace the month name with the corresponding number\n",
    "            date_str = date_str.replace(month, number)\n",
    "            # Parse the date to a datetime object\n",
    "            #date_obj = datetime.datetime.strptime(date_str, \"%d. %m. %Y\")\n",
    "            #return date_obj.strftime(\"%d.%m.%Y\")\n",
    "            return date_str\n",
    "    # If it's already in the correct format\n",
    "    #date_obj = datetime.datetime.strptime(date_str, \"%d.%m.%Y\")\n",
    "    return date_str"
   ]
  },
  {
   "cell_type": "code",
   "execution_count": null,
   "metadata": {},
   "outputs": [],
   "source": [
    "df['available_from'] = pd.to_datetime(df['available_from'].apply(format_date), dayfirst=True)"
   ]
  },
  {
   "cell_type": "code",
   "execution_count": null,
   "metadata": {},
   "outputs": [],
   "source": [
    "df['creation_date'] = pd.to_datetime(df['creation_date'], dayfirst=True)"
   ]
  },
  {
   "cell_type": "code",
   "execution_count": null,
   "metadata": {},
   "outputs": [],
   "source": [
    "df['area'] = df['address'].apply(lambda x: x.split('-')[0].split(',')[-1].strip() if '-' in x else x.split(',')[-1].strip())"
   ]
  },
  {
   "cell_type": "code",
   "execution_count": null,
   "metadata": {},
   "outputs": [],
   "source": [
    "# We want to make floor a numeric var so we have to make assumptions: Stuen (=living room) is ground floor, Kælder (=cellar) is -1, - is translated to 0 as there is no floor\n",
    "df['floor'] = df['floor'].apply(lambda x: x.replace('Stuen','0').replace('Kælder','-1').replace('-','0').replace('.','')).astype(int)"
   ]
  },
  {
   "cell_type": "code",
   "execution_count": null,
   "metadata": {},
   "outputs": [],
   "source": [
    "df.drop(columns=['address'],inplace=True)"
   ]
  },
  {
   "cell_type": "code",
   "execution_count": null,
   "metadata": {},
   "outputs": [],
   "source": [
    "for dtype, columns in df.columns.to_series().groupby(df.dtypes):\n",
    "    print(f\"Type: {dtype}\")\n",
    "    print(f\"Columns: {list(columns)}\\n\")"
   ]
  },
  {
   "cell_type": "code",
   "execution_count": null,
   "metadata": {},
   "outputs": [],
   "source": [
    "for col in df.columns:\n",
    "    if df.dtypes[col] == 'O':\n",
    "        print('###########################')\n",
    "        print(col)\n",
    "        print(df[col].unique(),end='\\n\\n')"
   ]
  },
  {
   "cell_type": "code",
   "execution_count": null,
   "metadata": {},
   "outputs": [],
   "source": [
    "# create new column availability_in: buckets of <1 month, 1-3 months, 3+ months\n",
    "\n",
    "df['availability_in'] = df.apply(lambda x: '<1 month' if (x['available_from']-x['creation_date']).days <30 else ('1-3 months' if (x['available_from']-x['creation_date']).days <90 else '3+ months'), axis = 1)"
   ]
  },
  {
   "cell_type": "code",
   "execution_count": null,
   "metadata": {},
   "outputs": [],
   "source": [
    "scrape_date = pd.to_datetime('17-09-2024',dayfirst=True)\n",
    "df['days_on_website'] = df['creation_date'].apply(lambda x: (scrape_date-x).days)"
   ]
  },
  {
   "cell_type": "code",
   "execution_count": null,
   "metadata": {},
   "outputs": [],
   "source": [
    "df.drop(columns=['available_from','creation_date'],inplace=True)"
   ]
  },
  {
   "cell_type": "code",
   "execution_count": null,
   "metadata": {},
   "outputs": [],
   "source": [
    "# defined as monthly_rent+aconto (in some cases aconto = 0 and we assume it is included in the rent, so to make the analysis more bulletproof\n",
    "# we create a new variable total_monthly_rent to not drive misleading results)\n",
    "df['total_monthly_rent'] = df['monthly_rent'] + df['monthly_aconto']"
   ]
  },
  {
   "cell_type": "code",
   "execution_count": null,
   "metadata": {},
   "outputs": [],
   "source": [
    "\"\"\"\n",
    "we create a new student_affordable column that, based on the total_monthly_rent,\n",
    "it examines whether a student can afford renting the specific apartment or not\n",
    "we were based on different reports on average student salary and other living costs\n",
    "to estimate the threshold for an affordable option to 7500kr\n",
    "\"\"\"\n",
    "df['student_affordable'] = df['total_monthly_rent'] < 7500.00"
   ]
  },
  {
   "cell_type": "code",
   "execution_count": null,
   "metadata": {},
   "outputs": [],
   "source": [
    "np.sum(df['student_affordable'])"
   ]
  },
  {
   "cell_type": "code",
   "execution_count": null,
   "metadata": {},
   "outputs": [],
   "source": [
    "pd.set_option('display.max_columns',100)"
   ]
  },
  {
   "cell_type": "code",
   "execution_count": null,
   "metadata": {},
   "outputs": [],
   "source": [
    "df.head()"
   ]
  },
  {
   "cell_type": "code",
   "execution_count": null,
   "metadata": {},
   "outputs": [],
   "source": [
    "df.info()"
   ]
  },
  {
   "cell_type": "code",
   "execution_count": null,
   "metadata": {},
   "outputs": [],
   "source": [
    "continuous_vars = ['monthly_rent','monthly_aconto','size_sqm','deposit','prepaid_rent','total_monthly_rent','days_on_website']\n",
    "df[continuous_vars] = df[continuous_vars].astype(float)"
   ]
  },
  {
   "cell_type": "code",
   "execution_count": null,
   "metadata": {},
   "outputs": [],
   "source": [
    "for i,type in enumerate(df.dtypes):\n",
    "    print('- '+df.columns[i]+': '+str(type).replace('object','discrete/nominal').replace('int64','continuous/ordinal').replace('float64','continuous/ratio').replace('bool', 'discrete/nominal'))"
   ]
  },
  {
   "cell_type": "code",
   "execution_count": null,
   "metadata": {},
   "outputs": [],
   "source": [
    "df.groupby(df['energy_mark']).count().iloc[:,0]/len(df)*100"
   ]
  },
  {
   "cell_type": "code",
   "execution_count": null,
   "metadata": {},
   "outputs": [],
   "source": [
    "df['months_on_website'] = df['days_on_website'].apply(lambda x: '<1 month' if x<30 else ('1-3 months' if x<90 else ('3-6 months' if x <180 else '6+ months')))"
   ]
  },
  {
   "cell_type": "code",
   "execution_count": null,
   "metadata": {},
   "outputs": [],
   "source": [
    "df.to_csv('preprocessed_data.csv', index=False, header=True, encoding='utf-8')"
   ]
  }
 ],
 "metadata": {
  "colab": {
   "provenance": []
  },
  "kernelspec": {
   "display_name": "intro_to_ml",
   "language": "python",
   "name": "intro_to_ml"
  },
  "language_info": {
   "codemirror_mode": {
    "name": "ipython",
    "version": 3
   },
   "file_extension": ".py",
   "mimetype": "text/x-python",
   "name": "python",
   "nbconvert_exporter": "python",
   "pygments_lexer": "ipython3",
   "version": "3.12.4"
  }
 },
 "nbformat": 4,
 "nbformat_minor": 4
}
